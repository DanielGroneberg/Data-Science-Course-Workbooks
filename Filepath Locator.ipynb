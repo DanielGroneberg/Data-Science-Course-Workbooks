{
 "cells": [
  {
   "cell_type": "code",
   "execution_count": 1,
   "id": "83ac2de7",
   "metadata": {},
   "outputs": [],
   "source": [
    "import os"
   ]
  },
  {
   "cell_type": "code",
   "execution_count": 2,
   "id": "4bceeb50",
   "metadata": {},
   "outputs": [],
   "source": [
    "current_path = os.getcwd()"
   ]
  },
  {
   "cell_type": "code",
   "execution_count": 3,
   "id": "d56abae1",
   "metadata": {},
   "outputs": [
    {
     "data": {
      "text/plain": [
       "'C:\\\\Users\\\\User\\\\Data Science Workbooks\\\\Pandas'"
      ]
     },
     "execution_count": 3,
     "metadata": {},
     "output_type": "execute_result"
    }
   ],
   "source": [
    "current_path"
   ]
  },
  {
   "cell_type": "markdown",
   "id": "cbb5b341",
   "metadata": {},
   "source": [
    "It's not clear how to find the actual filepath of folders in Jupyter on my local computer without using this method. Having found the filepath, I can now start moving all the disparate workbooks I've created over the months into Jupyter folders so that I can conveniently uploat to GitHub."
   ]
  },
  {
   "cell_type": "markdown",
   "id": "ab0b4b96",
   "metadata": {},
   "source": [
    "Ok, this was a lot simpler than I thought. The filepath shown in Jupyter Notebook at the top of the folder is what you need, and you format it like this:\n",
    "\n",
    "Data Science Workbooks/Pandas\n",
    "\n",
    "You don't do the double \\\\, you don't include c:\\\\Users\\\\User\\\\ when you're filling out the move destination querry. It's so simple that it was actually confusing at first.\n",
    "Note: In markdown, it changes the double backslashes to single. Click on this cell as if to edit to see what I am actually trying to show. I don't know why it's doing that"
   ]
  },
  {
   "cell_type": "code",
   "execution_count": null,
   "id": "05c07913",
   "metadata": {},
   "outputs": [],
   "source": []
  }
 ],
 "metadata": {
  "kernelspec": {
   "display_name": "Python 3 (ipykernel)",
   "language": "python",
   "name": "python3"
  },
  "language_info": {
   "codemirror_mode": {
    "name": "ipython",
    "version": 3
   },
   "file_extension": ".py",
   "mimetype": "text/x-python",
   "name": "python",
   "nbconvert_exporter": "python",
   "pygments_lexer": "ipython3",
   "version": "3.9.12"
  }
 },
 "nbformat": 4,
 "nbformat_minor": 5
}
