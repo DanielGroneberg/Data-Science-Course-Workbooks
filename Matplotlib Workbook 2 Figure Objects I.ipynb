{
 "cells": [
  {
   "cell_type": "markdown",
   "id": "c67e2141",
   "metadata": {},
   "source": [
    "In general, the object-oriented approach is more complex, but is the only real way to customize plots"
   ]
  },
  {
   "cell_type": "markdown",
   "id": "56b59d74",
   "metadata": {},
   "source": [
    "-----------\n",
    "plt.figure(figsize = (10, 10))\n",
    "\n",
    "sizes the canvas to be 10 by 10 inches, which honestly seems bizarre considering that this would depend on how zoomed in you are. Maybe this true given a certain DPI.\n",
    "\n",
    "In any case, running this call gives back a report that a 720x720 pixel plot with no axes has been created:"
   ]
  },
  {
   "cell_type": "code",
   "execution_count": 3,
   "id": "14fb3099",
   "metadata": {},
   "outputs": [
    {
     "data": {
      "text/plain": [
       "<Figure size 720x720 with 0 Axes>"
      ]
     },
     "execution_count": 3,
     "metadata": {},
     "output_type": "execute_result"
    },
    {
     "data": {
      "text/plain": [
       "<Figure size 720x720 with 0 Axes>"
      ]
     },
     "metadata": {},
     "output_type": "display_data"
    }
   ],
   "source": [
    "import matplotlib.pyplot as plt\n",
    "plt.figure(figsize = (10, 10))"
   ]
  },
  {
   "cell_type": "markdown",
   "id": "7f838c9f",
   "metadata": {},
   "source": [
    "In order to add axes or do anything else, we have to name this figure, i.e. create an object (a figure object)"
   ]
  },
  {
   "cell_type": "code",
   "execution_count": 28,
   "id": "b383857a",
   "metadata": {},
   "outputs": [
    {
     "data": {
      "image/png": "[encoded data removed]",
      "text/plain": [
       "<Figure size 432x288 with 1 Axes>"
      ]
     },
     "metadata": {
      "needs_background": "light"
     },
     "output_type": "display_data"
    }
   ],
   "source": [
    "fig = plt.figure()\n",
    "axes = fig.add_axes([0, 0, 1, 1])"
   ]
  },
  {
   "cell_type": "markdown",
   "id": "123c598e",
   "metadata": {},
   "source": [
    "The arguments for .add_axes([]) are\n",
    "\n",
    ".add_axes([x coord for origin, y coord for origin, figure width, figure height])\n",
    "\n",
    "Where the width and height literally refer to plot size, not the range of the axes, similar to figsize = (x, y)\n",
    "\n",
    "The origin of the axes doesn't actually have to be in the bottom-left corner of the figure, which is how most plots usually work, and the first two parameters allows you to place the origin somewhere else in the plot. Considering there's not currently any data being visualized, changing this parameter doesn't do anything yet though."
   ]
  },
  {
   "cell_type": "markdown",
   "id": "42bf1f04",
   "metadata": {},
   "source": [
    "----------\n",
    "\n",
    "This is starting to make more sense now. The range for the first two parameters is typically 0 to 1, although it's possible to go higher or lower, but this will mean that data will be visualized outside of the plot itself.\n",
    "\n",
    "Underneath this plot, there is a figure canvas. Choosing 1,1 for the second two parameters means this this plot completely covers the figure canvas. "
   ]
  },
  {
   "cell_type": "markdown",
   "id": "96d9d1e8",
   "metadata": {},
   "source": [
    ".add_axes([0, 0, 0.5, 0.5]) would mean that the plot would only cover 50% of the figure canvas, specifically the bottom-left portion"
   ]
  },
  {
   "cell_type": "markdown",
   "id": "a980671b",
   "metadata": {},
   "source": [
    "All this is useful because it could allow you to create inset plots, or have two sets of axes side by side"
   ]
  },
  {
   "cell_type": "code",
   "execution_count": null,
   "id": "e23a4084",
   "metadata": {},
   "outputs": [],
   "source": []
  }
 ],
 "metadata": {
  "kernelspec": {
   "display_name": "Python 3 (ipykernel)",
   "language": "python",
   "name": "python3"
  },
  "language_info": {
   "codemirror_mode": {
    "name": "ipython",
    "version": 3
   },
   "file_extension": ".py",
   "mimetype": "text/x-python",
   "name": "python",
   "nbconvert_exporter": "python",
   "pygments_lexer": "ipython3",
   "version": "3.9.12"
  }
 },
 "nbformat": 4,
 "nbformat_minor": 5
}
