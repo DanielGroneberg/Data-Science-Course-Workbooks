{
 "cells": [
  {
   "cell_type": "markdown",
   "id": "07b06f91",
   "metadata": {},
   "source": [
    "A series is a 1d list of items. It naturally comes with indexes for each data point. This doesn't constitute a 2d array because the list is stil only plotable as a list, not a graph. \n",
    "\n",
    "Pandas allows you to rename the indexes to something more useful.\n",
    "\n",
    "Despite having a named index which you choose, pandas still maintains the inherit numerical index which comes from numpy, as Pandas is just building off of numpy."
   ]
  },
  {
   "cell_type": "code",
   "execution_count": 1,
   "id": "f881e140",
   "metadata": {},
   "outputs": [],
   "source": [
    "import numpy as np"
   ]
  },
  {
   "cell_type": "code",
   "execution_count": 2,
   "id": "83063350",
   "metadata": {},
   "outputs": [],
   "source": [
    "import pandas as pd"
   ]
  },
  {
   "cell_type": "code",
   "execution_count": 4,
   "id": "291d542a",
   "metadata": {},
   "outputs": [],
   "source": [
    "#help(pd.Series)"
   ]
  },
  {
   "cell_type": "markdown",
   "id": "81d80a4f",
   "metadata": {},
   "source": [
    "This call, help(pd.Series) brings up this highly comprehensive guide to using Pandas"
   ]
  },
  {
   "cell_type": "code",
   "execution_count": 21,
   "id": "6ac3f212",
   "metadata": {},
   "outputs": [],
   "source": [
    "myindex = ['USA','Canada','Mexico']"
   ]
  },
  {
   "cell_type": "code",
   "execution_count": 16,
   "id": "119777cc",
   "metadata": {},
   "outputs": [],
   "source": [
    "mydata = [1776, 1867, 1821]"
   ]
  },
  {
   "cell_type": "code",
   "execution_count": 18,
   "id": "e679e3cc",
   "metadata": {},
   "outputs": [],
   "source": [
    "myser = pd.Series(data=mydata)"
   ]
  },
  {
   "cell_type": "markdown",
   "id": "ae7720c1",
   "metadata": {},
   "source": [
    "I created the data as just regular python series, which I will manipulate using Pandas\n",
    "\n",
    "myser = pd.Series(data = whatever your data is named)"
   ]
  },
  {
   "cell_type": "code",
   "execution_count": 10,
   "id": "1d324490",
   "metadata": {},
   "outputs": [
    {
     "data": {
      "text/plain": [
       "0    1776\n",
       "1    1867\n",
       "2    1821\n",
       "dtype: int64"
      ]
     },
     "execution_count": 10,
     "metadata": {},
     "output_type": "execute_result"
    }
   ],
   "source": [
    "myser"
   ]
  },
  {
   "cell_type": "code",
   "execution_count": 11,
   "id": "f7a3a8c8",
   "metadata": {},
   "outputs": [
    {
     "data": {
      "text/plain": [
       "pandas.core.series.Series"
      ]
     },
     "execution_count": 11,
     "metadata": {},
     "output_type": "execute_result"
    }
   ],
   "source": [
    "type(myser)"
   ]
  },
  {
   "cell_type": "markdown",
   "id": "938f5d2b",
   "metadata": {},
   "source": [
    "The default is to provide numerical indexing to the list provided, which was the years. I didn't include the names, so that's not in the array yet. \n",
    "\n",
    "At this stage, this is identical to what is done by default with numpy. Actually, this is numpy. In the next cell, I will include the index, which goes beyond what numpy does."
   ]
  },
  {
   "cell_type": "code",
   "execution_count": 22,
   "id": "16ecacf6",
   "metadata": {},
   "outputs": [],
   "source": [
    "myser = pd.Series(data=mydata,index = myindex)"
   ]
  },
  {
   "cell_type": "code",
   "execution_count": 23,
   "id": "58b70d9e",
   "metadata": {},
   "outputs": [
    {
     "data": {
      "text/plain": [
       "USA       1776\n",
       "Canada    1867\n",
       "Mexico    1821\n",
       "dtype: int64"
      ]
     },
     "execution_count": 23,
     "metadata": {},
     "output_type": "execute_result"
    }
   ],
   "source": [
    "myser"
   ]
  },
  {
   "cell_type": "markdown",
   "id": "0714692e",
   "metadata": {},
   "source": [
    "I initially had an issue executing the myser = pd.Series(data=mydata,index = myindex) command because I was sloppy when I was writing the index list, and I put a comma inside the '' quotes"
   ]
  },
  {
   "cell_type": "code",
   "execution_count": 24,
   "id": "8c486379",
   "metadata": {},
   "outputs": [
    {
     "data": {
      "text/plain": [
       "1821"
      ]
     },
     "execution_count": 24,
     "metadata": {},
     "output_type": "execute_result"
    }
   ],
   "source": [
    " myser['Mexico']"
   ]
  },
  {
   "cell_type": "markdown",
   "id": "bdb5246e",
   "metadata": {},
   "source": [
    "This is case sensitive, and you have to use '' since it's a string"
   ]
  },
  {
   "cell_type": "code",
   "execution_count": 25,
   "id": "b0d02032",
   "metadata": {},
   "outputs": [
    {
     "data": {
      "text/plain": [
       "1776"
      ]
     },
     "execution_count": 25,
     "metadata": {},
     "output_type": "execute_result"
    }
   ],
   "source": [
    "myser[0]"
   ]
  },
  {
   "cell_type": "markdown",
   "id": "13de02ed",
   "metadata": {},
   "source": [
    "myser[1776] doesn't work, since 1776 is the data, not an index"
   ]
  },
  {
   "cell_type": "code",
   "execution_count": 27,
   "id": "b24d030b",
   "metadata": {},
   "outputs": [],
   "source": [
    "ages = {'Sam:':5, 'Frank':10,'Spike':10}"
   ]
  },
  {
   "cell_type": "code",
   "execution_count": 28,
   "id": "83d066b7",
   "metadata": {},
   "outputs": [
    {
     "data": {
      "text/plain": [
       "Sam:      5\n",
       "Frank    10\n",
       "Spike    10\n",
       "dtype: int64"
      ]
     },
     "execution_count": 28,
     "metadata": {},
     "output_type": "execute_result"
    }
   ],
   "source": [
    "pd.Series(ages)"
   ]
  },
  {
   "cell_type": "markdown",
   "id": "5a1fe774",
   "metadata": {},
   "source": [
    "You don't actually have to assign which values are indexes and which values are data manually. \n",
    "\n",
    "Now I wonder, does it automatically interpret strings as the index? Does it assign ints/floats as data automatically? \n",
    "\n",
    "I assume so, since this is probably the whole point of having a named index."
   ]
  },
  {
   "cell_type": "code",
   "execution_count": null,
   "id": "c626218f",
   "metadata": {},
   "outputs": [],
   "source": []
  }
 ],
 "metadata": {
  "kernelspec": {
   "display_name": "Python 3 (ipykernel)",
   "language": "python",
   "name": "python3"
  },
  "language_info": {
   "codemirror_mode": {
    "name": "ipython",
    "version": 3
   },
   "file_extension": ".py",
   "mimetype": "text/x-python",
   "name": "python",
   "nbconvert_exporter": "python",
   "pygments_lexer": "ipython3",
   "version": "3.9.12"
  }
 },
 "nbformat": 4,
 "nbformat_minor": 5
}
