{
 "cells": [
  {
   "cell_type": "code",
   "execution_count": 9,
   "id": "c4c4e0d5",
   "metadata": {},
   "outputs": [],
   "source": [
    "import pandas as pd"
   ]
  },
  {
   "cell_type": "code",
   "execution_count": null,
   "id": "c7547259",
   "metadata": {},
   "outputs": [],
   "source": [
    "pd.read_csv('')"
   ]
  },
  {
   "cell_type": "markdown",
   "id": "530ec210",
   "metadata": {},
   "source": [
    "When reading in a .csv, you do **pd.read_csv**. When exporting a dataframe to .csv, you do **df.to_csv** which makes sense considering there is a now a dataframe to call off of. "
   ]
  },
  {
   "cell_type": "markdown",
   "id": "f712527c",
   "metadata": {},
   "source": [
    "There are all sorts of other file types which can easily be imported from/exported to, and the syntax is easily found online. For instance, importing/exporting Google BigQuery data: \n",
    "**pd.read_gbq** and \n",
    "**df.to_gbq**"
   ]
  },
  {
   "cell_type": "markdown",
   "id": "1f6dd808",
   "metadata": {},
   "source": [
    "To figure out the current working directory of this notebook:"
   ]
  },
  {
   "cell_type": "code",
   "execution_count": 10,
   "id": "ff9ea1eb",
   "metadata": {},
   "outputs": [
    {
     "data": {
      "text/plain": [
       "'C:\\\\Users\\\\User\\\\Data Science Workbooks\\\\Pandas'"
      ]
     },
     "execution_count": 10,
     "metadata": {},
     "output_type": "execute_result"
    }
   ],
   "source": [
    "pwd"
   ]
  },
  {
   "cell_type": "markdown",
   "id": "d15eedd6",
   "metadata": {},
   "source": [
    "The list of files in this environment can be found using </br></br> ls"
   ]
  },
  {
   "cell_type": "code",
   "execution_count": 12,
   "id": "1d846bc8",
   "metadata": {},
   "outputs": [
    {
     "name": "stdout",
     "output_type": "stream",
     "text": [
      " Volume in drive C has no label.\n",
      " Volume Serial Number is FC29-7B0F\n",
      "\n",
      " Directory of C:\\Users\\User\\Data Science Workbooks\\Pandas\n",
      "\n",
      "12/23/2022  12:33 PM    <DIR>          .\n",
      "12/23/2022  12:33 PM    <DIR>          ..\n",
      "12/23/2022  11:28 AM    <DIR>          .ipynb_checkpoints\n",
      "12/23/2022  11:30 AM             5,352 df.unique().ipynb\n",
      "12/18/2022  02:07 PM             2,366 Filepath Locator.ipynb\n",
      "10/07/2022  12:33 PM             6,684 Pandas 1 Workbook.ipynb\n",
      "11/15/2022  04:39 PM            27,527 Pandas Workbook 10 Date and Time Methods.ipynb\n",
      "12/23/2022  12:33 PM             1,872 Pandas Workbook 11 CSV.ipynb\n",
      "11/15/2022  08:50 PM            10,510 Pandas Workbook 12 Excel Files.ipynb\n",
      "11/15/2022  05:42 PM            30,357 Pandas Workbook 12 HTML Tables.ipynb\n",
      "11/16/2022  03:53 PM            12,913 Pandas Workbook 13 SQL Files.ipynb\n",
      "11/16/2022  05:42 PM            87,892 Pandas Workbook 14 Pivot Tables.ipynb\n",
      "11/16/2022  05:44 PM               589 Pandas Workbook 15 Pandas Section Excercise.ipynb\n",
      "12/18/2022  02:24 PM            52,589 Pandas Workbook 16 Project Excercise Solution.ipynb\n",
      "11/17/2022  04:04 PM            99,584 Pandas Workbook 16 Project Excercise.ipynb\n",
      "10/08/2022  05:24 PM             5,870 Pandas Workbook 2 Series.ipynb\n",
      "10/12/2022  01:38 PM           188,860 Pandas Workbook 3 Data Frames.ipynb\n",
      "11/01/2022  01:07 PM           104,489 Pandas Workbook 4 Conditional Filtering.ipynb\n",
      "10/19/2022  03:11 PM           115,039 Pandas Workbook 5 Useful Methods.ipynb\n",
      "10/30/2022  06:00 PM            13,334 Pandas Workbook 6 Missing Data.ipynb\n",
      "10/31/2022  02:00 PM           971,798 Pandas Workbook 7 Missing Data II.ipynb\n",
      "11/02/2022  02:48 PM            87,154 Pandas Workbook 7 Missing Data III.ipynb\n",
      "11/15/2022  03:32 PM            84,183 Pandas Workbook 8 Combining Dataframes Concatenation.ipynb\n",
      "11/11/2022  02:28 PM             8,016 Pandas Workbook 8 Concatenation II Merging.ipynb\n",
      "11/02/2022  04:06 PM             1,234 Pandas Workbook 9 Combining DataFrames Left and Right Merge.ipynb\n",
      "11/15/2022  04:03 PM            13,917 Pandas Workbook 9 Text Methods for String Data.ipynb\n",
      "              23 File(s)      1,932,129 bytes\n",
      "               3 Dir(s)  122,325,045,248 bytes free\n"
     ]
    }
   ],
   "source": [
    "ls"
   ]
  },
  {
   "cell_type": "code",
   "execution_count": 17,
   "id": "4d92007f",
   "metadata": {},
   "outputs": [],
   "source": [
    "df = pd.read_csv(r'C:\\Users\\User\\Desktop\\Udemy Data Science Course Resources\\DATA\\example.csv')"
   ]
  },
  {
   "cell_type": "markdown",
   "id": "1f4f695c",
   "metadata": {},
   "source": [
    "NOTE: In this specific instance, I was not able to find example.csv in the directory, so I copied the file path. That innitially didn't work either, but adding an **r** outside of the quotes before the file path seems to have fixed the error."
   ]
  },
  {
   "cell_type": "code",
   "execution_count": 18,
   "id": "4935908f",
   "metadata": {},
   "outputs": [
    {
     "data": {
      "text/html": [
       "<div>\n",
       "<style scoped>\n",
       "    .dataframe tbody tr th:only-of-type {\n",
       "        vertical-align: middle;\n",
       "    }\n",
       "\n",
       "    .dataframe tbody tr th {\n",
       "        vertical-align: top;\n",
       "    }\n",
       "\n",
       "    .dataframe thead th {\n",
       "        text-align: right;\n",
       "    }\n",
       "</style>\n",
       "<table border=\"1\" class=\"dataframe\">\n",
       "  <thead>\n",
       "    <tr style=\"text-align: right;\">\n",
       "      <th></th>\n",
       "      <th>a</th>\n",
       "      <th>b</th>\n",
       "      <th>c</th>\n",
       "      <th>d</th>\n",
       "    </tr>\n",
       "  </thead>\n",
       "  <tbody>\n",
       "    <tr>\n",
       "      <th>0</th>\n",
       "      <td>0</td>\n",
       "      <td>1</td>\n",
       "      <td>2</td>\n",
       "      <td>3</td>\n",
       "    </tr>\n",
       "    <tr>\n",
       "      <th>1</th>\n",
       "      <td>4</td>\n",
       "      <td>5</td>\n",
       "      <td>6</td>\n",
       "      <td>7</td>\n",
       "    </tr>\n",
       "    <tr>\n",
       "      <th>2</th>\n",
       "      <td>8</td>\n",
       "      <td>9</td>\n",
       "      <td>10</td>\n",
       "      <td>11</td>\n",
       "    </tr>\n",
       "    <tr>\n",
       "      <th>3</th>\n",
       "      <td>12</td>\n",
       "      <td>13</td>\n",
       "      <td>14</td>\n",
       "      <td>15</td>\n",
       "    </tr>\n",
       "  </tbody>\n",
       "</table>\n",
       "</div>"
      ],
      "text/plain": [
       "    a   b   c   d\n",
       "0   0   1   2   3\n",
       "1   4   5   6   7\n",
       "2   8   9  10  11\n",
       "3  12  13  14  15"
      ]
     },
     "execution_count": 18,
     "metadata": {},
     "output_type": "execute_result"
    }
   ],
   "source": [
    "df.head()"
   ]
  },
  {
   "cell_type": "markdown",
   "id": "a2fd57e4",
   "metadata": {},
   "source": [
    "Pandas infers that **a, b, c, d** are supposed to be the header since they're a different data type (str). If this is not desired: "
   ]
  },
  {
   "cell_type": "code",
   "execution_count": 22,
   "id": "9c5bdc5c",
   "metadata": {},
   "outputs": [
    {
     "data": {
      "text/html": [
       "<div>\n",
       "<style scoped>\n",
       "    .dataframe tbody tr th:only-of-type {\n",
       "        vertical-align: middle;\n",
       "    }\n",
       "\n",
       "    .dataframe tbody tr th {\n",
       "        vertical-align: top;\n",
       "    }\n",
       "\n",
       "    .dataframe thead th {\n",
       "        text-align: right;\n",
       "    }\n",
       "</style>\n",
       "<table border=\"1\" class=\"dataframe\">\n",
       "  <thead>\n",
       "    <tr style=\"text-align: right;\">\n",
       "      <th></th>\n",
       "      <th>0</th>\n",
       "      <th>1</th>\n",
       "      <th>2</th>\n",
       "      <th>3</th>\n",
       "    </tr>\n",
       "  </thead>\n",
       "  <tbody>\n",
       "    <tr>\n",
       "      <th>0</th>\n",
       "      <td>a</td>\n",
       "      <td>b</td>\n",
       "      <td>c</td>\n",
       "      <td>d</td>\n",
       "    </tr>\n",
       "    <tr>\n",
       "      <th>1</th>\n",
       "      <td>0</td>\n",
       "      <td>1</td>\n",
       "      <td>2</td>\n",
       "      <td>3</td>\n",
       "    </tr>\n",
       "    <tr>\n",
       "      <th>2</th>\n",
       "      <td>4</td>\n",
       "      <td>5</td>\n",
       "      <td>6</td>\n",
       "      <td>7</td>\n",
       "    </tr>\n",
       "    <tr>\n",
       "      <th>3</th>\n",
       "      <td>8</td>\n",
       "      <td>9</td>\n",
       "      <td>10</td>\n",
       "      <td>11</td>\n",
       "    </tr>\n",
       "    <tr>\n",
       "      <th>4</th>\n",
       "      <td>12</td>\n",
       "      <td>13</td>\n",
       "      <td>14</td>\n",
       "      <td>15</td>\n",
       "    </tr>\n",
       "  </tbody>\n",
       "</table>\n",
       "</div>"
      ],
      "text/plain": [
       "    0   1   2   3\n",
       "0   a   b   c   d\n",
       "1   0   1   2   3\n",
       "2   4   5   6   7\n",
       "3   8   9  10  11\n",
       "4  12  13  14  15"
      ]
     },
     "execution_count": 22,
     "metadata": {},
     "output_type": "execute_result"
    }
   ],
   "source": [
    "pd.read_csv(r'C:\\Users\\User\\Desktop\\Udemy Data Science Course Resources\\DATA\\example.csv', header = None)"
   ]
  },
  {
   "cell_type": "markdown",
   "id": "79be9dff",
   "metadata": {},
   "source": [
    "The first row is now the header and the row with strings is treated like a row of data. That's not what I want though, so I didn't save it to df."
   ]
  },
  {
   "cell_type": "code",
   "execution_count": 23,
   "id": "6a705675",
   "metadata": {},
   "outputs": [
    {
     "data": {
      "text/html": [
       "<div>\n",
       "<style scoped>\n",
       "    .dataframe tbody tr th:only-of-type {\n",
       "        vertical-align: middle;\n",
       "    }\n",
       "\n",
       "    .dataframe tbody tr th {\n",
       "        vertical-align: top;\n",
       "    }\n",
       "\n",
       "    .dataframe thead th {\n",
       "        text-align: right;\n",
       "    }\n",
       "</style>\n",
       "<table border=\"1\" class=\"dataframe\">\n",
       "  <thead>\n",
       "    <tr style=\"text-align: right;\">\n",
       "      <th></th>\n",
       "      <th>a</th>\n",
       "      <th>b</th>\n",
       "      <th>c</th>\n",
       "      <th>d</th>\n",
       "    </tr>\n",
       "  </thead>\n",
       "  <tbody>\n",
       "    <tr>\n",
       "      <th>0</th>\n",
       "      <td>0</td>\n",
       "      <td>1</td>\n",
       "      <td>2</td>\n",
       "      <td>3</td>\n",
       "    </tr>\n",
       "    <tr>\n",
       "      <th>1</th>\n",
       "      <td>4</td>\n",
       "      <td>5</td>\n",
       "      <td>6</td>\n",
       "      <td>7</td>\n",
       "    </tr>\n",
       "    <tr>\n",
       "      <th>2</th>\n",
       "      <td>8</td>\n",
       "      <td>9</td>\n",
       "      <td>10</td>\n",
       "      <td>11</td>\n",
       "    </tr>\n",
       "    <tr>\n",
       "      <th>3</th>\n",
       "      <td>12</td>\n",
       "      <td>13</td>\n",
       "      <td>14</td>\n",
       "      <td>15</td>\n",
       "    </tr>\n",
       "  </tbody>\n",
       "</table>\n",
       "</div>"
      ],
      "text/plain": [
       "    a   b   c   d\n",
       "0   0   1   2   3\n",
       "1   4   5   6   7\n",
       "2   8   9  10  11\n",
       "3  12  13  14  15"
      ]
     },
     "execution_count": 23,
     "metadata": {},
     "output_type": "execute_result"
    }
   ],
   "source": [
    "df"
   ]
  },
  {
   "cell_type": "markdown",
   "id": "8268652e",
   "metadata": {},
   "source": [
    "Setting **'a'** as the index:"
   ]
  },
  {
   "cell_type": "code",
   "execution_count": 24,
   "id": "65156f4e",
   "metadata": {},
   "outputs": [
    {
     "data": {
      "text/html": [
       "<div>\n",
       "<style scoped>\n",
       "    .dataframe tbody tr th:only-of-type {\n",
       "        vertical-align: middle;\n",
       "    }\n",
       "\n",
       "    .dataframe tbody tr th {\n",
       "        vertical-align: top;\n",
       "    }\n",
       "\n",
       "    .dataframe thead th {\n",
       "        text-align: right;\n",
       "    }\n",
       "</style>\n",
       "<table border=\"1\" class=\"dataframe\">\n",
       "  <thead>\n",
       "    <tr style=\"text-align: right;\">\n",
       "      <th></th>\n",
       "      <th>b</th>\n",
       "      <th>c</th>\n",
       "      <th>d</th>\n",
       "    </tr>\n",
       "    <tr>\n",
       "      <th>a</th>\n",
       "      <th></th>\n",
       "      <th></th>\n",
       "      <th></th>\n",
       "    </tr>\n",
       "  </thead>\n",
       "  <tbody>\n",
       "    <tr>\n",
       "      <th>0</th>\n",
       "      <td>1</td>\n",
       "      <td>2</td>\n",
       "      <td>3</td>\n",
       "    </tr>\n",
       "    <tr>\n",
       "      <th>4</th>\n",
       "      <td>5</td>\n",
       "      <td>6</td>\n",
       "      <td>7</td>\n",
       "    </tr>\n",
       "    <tr>\n",
       "      <th>8</th>\n",
       "      <td>9</td>\n",
       "      <td>10</td>\n",
       "      <td>11</td>\n",
       "    </tr>\n",
       "    <tr>\n",
       "      <th>12</th>\n",
       "      <td>13</td>\n",
       "      <td>14</td>\n",
       "      <td>15</td>\n",
       "    </tr>\n",
       "  </tbody>\n",
       "</table>\n",
       "</div>"
      ],
      "text/plain": [
       "     b   c   d\n",
       "a             \n",
       "0    1   2   3\n",
       "4    5   6   7\n",
       "8    9  10  11\n",
       "12  13  14  15"
      ]
     },
     "execution_count": 24,
     "metadata": {},
     "output_type": "execute_result"
    }
   ],
   "source": [
    "pd.read_csv(r'C:\\Users\\User\\Desktop\\Udemy Data Science Course Resources\\DATA\\example.csv', index_col = 0)"
   ]
  },
  {
   "cell_type": "markdown",
   "id": "f48dfe08",
   "metadata": {},
   "source": [
    "Now the header is **'b', 'c', 'd'** and the index starts with **'a'**"
   ]
  },
  {
   "cell_type": "code",
   "execution_count": 25,
   "id": "42801950",
   "metadata": {},
   "outputs": [],
   "source": [
    "df.to_csv('C:\\\\Users\\\\User\\\\Data Science Workbooks\\\\Pandas\\\\newfile.csv')"
   ]
  },
  {
   "cell_type": "markdown",
   "id": "2402fe79",
   "metadata": {},
   "source": [
    "I simply took the filepath specified by running **pwd** and tacked on my prefered file name, i.e. **newfile.csv**"
   ]
  },
  {
   "cell_type": "markdown",
   "id": "3d3e2c5c",
   "metadata": {},
   "source": [
    "It's also possible to just save it as **newfile.csv** and it'll be stored in the current working directory."
   ]
  },
  {
   "cell_type": "markdown",
   "id": "76db17c1",
   "metadata": {},
   "source": [
    "If for some reason, you don't want to save it with the index, for instance because it's just the default 0,1,2,3... you can do:"
   ]
  },
  {
   "cell_type": "code",
   "execution_count": 26,
   "id": "e8a63d62",
   "metadata": {},
   "outputs": [],
   "source": [
    "df.to_csv('newfile_without_index', index=False)"
   ]
  },
  {
   "cell_type": "code",
   "execution_count": 27,
   "id": "a58d6012",
   "metadata": {},
   "outputs": [],
   "source": [
    "new = pd.read_csv('newfile_without_index')"
   ]
  },
  {
   "cell_type": "code",
   "execution_count": 28,
   "id": "cfc89da7",
   "metadata": {
    "scrolled": true
   },
   "outputs": [
    {
     "data": {
      "text/html": [
       "<div>\n",
       "<style scoped>\n",
       "    .dataframe tbody tr th:only-of-type {\n",
       "        vertical-align: middle;\n",
       "    }\n",
       "\n",
       "    .dataframe tbody tr th {\n",
       "        vertical-align: top;\n",
       "    }\n",
       "\n",
       "    .dataframe thead th {\n",
       "        text-align: right;\n",
       "    }\n",
       "</style>\n",
       "<table border=\"1\" class=\"dataframe\">\n",
       "  <thead>\n",
       "    <tr style=\"text-align: right;\">\n",
       "      <th></th>\n",
       "      <th>a</th>\n",
       "      <th>b</th>\n",
       "      <th>c</th>\n",
       "      <th>d</th>\n",
       "    </tr>\n",
       "  </thead>\n",
       "  <tbody>\n",
       "    <tr>\n",
       "      <th>0</th>\n",
       "      <td>0</td>\n",
       "      <td>1</td>\n",
       "      <td>2</td>\n",
       "      <td>3</td>\n",
       "    </tr>\n",
       "    <tr>\n",
       "      <th>1</th>\n",
       "      <td>4</td>\n",
       "      <td>5</td>\n",
       "      <td>6</td>\n",
       "      <td>7</td>\n",
       "    </tr>\n",
       "    <tr>\n",
       "      <th>2</th>\n",
       "      <td>8</td>\n",
       "      <td>9</td>\n",
       "      <td>10</td>\n",
       "      <td>11</td>\n",
       "    </tr>\n",
       "    <tr>\n",
       "      <th>3</th>\n",
       "      <td>12</td>\n",
       "      <td>13</td>\n",
       "      <td>14</td>\n",
       "      <td>15</td>\n",
       "    </tr>\n",
       "  </tbody>\n",
       "</table>\n",
       "</div>"
      ],
      "text/plain": [
       "    a   b   c   d\n",
       "0   0   1   2   3\n",
       "1   4   5   6   7\n",
       "2   8   9  10  11\n",
       "3  12  13  14  15"
      ]
     },
     "execution_count": 28,
     "metadata": {},
     "output_type": "execute_result"
    }
   ],
   "source": [
    "new.head()"
   ]
  },
  {
   "cell_type": "markdown",
   "id": "858273f4",
   "metadata": {},
   "source": [
    "This dataframe created without saving the index looks as intended. Compare this to the table saved while retaining the unneeded index:"
   ]
  },
  {
   "cell_type": "code",
   "execution_count": 29,
   "id": "d7e20204",
   "metadata": {},
   "outputs": [],
   "source": [
    "new2 = pd.read_csv('newfile.csv')"
   ]
  },
  {
   "cell_type": "code",
   "execution_count": 30,
   "id": "23718343",
   "metadata": {},
   "outputs": [
    {
     "data": {
      "text/html": [
       "<div>\n",
       "<style scoped>\n",
       "    .dataframe tbody tr th:only-of-type {\n",
       "        vertical-align: middle;\n",
       "    }\n",
       "\n",
       "    .dataframe tbody tr th {\n",
       "        vertical-align: top;\n",
       "    }\n",
       "\n",
       "    .dataframe thead th {\n",
       "        text-align: right;\n",
       "    }\n",
       "</style>\n",
       "<table border=\"1\" class=\"dataframe\">\n",
       "  <thead>\n",
       "    <tr style=\"text-align: right;\">\n",
       "      <th></th>\n",
       "      <th>Unnamed: 0</th>\n",
       "      <th>a</th>\n",
       "      <th>b</th>\n",
       "      <th>c</th>\n",
       "      <th>d</th>\n",
       "    </tr>\n",
       "  </thead>\n",
       "  <tbody>\n",
       "    <tr>\n",
       "      <th>0</th>\n",
       "      <td>0</td>\n",
       "      <td>0</td>\n",
       "      <td>1</td>\n",
       "      <td>2</td>\n",
       "      <td>3</td>\n",
       "    </tr>\n",
       "    <tr>\n",
       "      <th>1</th>\n",
       "      <td>1</td>\n",
       "      <td>4</td>\n",
       "      <td>5</td>\n",
       "      <td>6</td>\n",
       "      <td>7</td>\n",
       "    </tr>\n",
       "    <tr>\n",
       "      <th>2</th>\n",
       "      <td>2</td>\n",
       "      <td>8</td>\n",
       "      <td>9</td>\n",
       "      <td>10</td>\n",
       "      <td>11</td>\n",
       "    </tr>\n",
       "    <tr>\n",
       "      <th>3</th>\n",
       "      <td>3</td>\n",
       "      <td>12</td>\n",
       "      <td>13</td>\n",
       "      <td>14</td>\n",
       "      <td>15</td>\n",
       "    </tr>\n",
       "  </tbody>\n",
       "</table>\n",
       "</div>"
      ],
      "text/plain": [
       "   Unnamed: 0   a   b   c   d\n",
       "0           0   0   1   2   3\n",
       "1           1   4   5   6   7\n",
       "2           2   8   9  10  11\n",
       "3           3  12  13  14  15"
      ]
     },
     "execution_count": 30,
     "metadata": {},
     "output_type": "execute_result"
    }
   ],
   "source": [
    "new2.head()"
   ]
  },
  {
   "cell_type": "markdown",
   "id": "8db8cb93",
   "metadata": {},
   "source": [
    "Now I'd have to remove the first column:"
   ]
  },
  {
   "cell_type": "code",
   "execution_count": 36,
   "id": "2de6052c",
   "metadata": {},
   "outputs": [],
   "source": [
    "new2 = new2.drop(new2.columns[0], axis = 1)"
   ]
  },
  {
   "cell_type": "code",
   "execution_count": 37,
   "id": "c24c1044",
   "metadata": {},
   "outputs": [
    {
     "data": {
      "text/html": [
       "<div>\n",
       "<style scoped>\n",
       "    .dataframe tbody tr th:only-of-type {\n",
       "        vertical-align: middle;\n",
       "    }\n",
       "\n",
       "    .dataframe tbody tr th {\n",
       "        vertical-align: top;\n",
       "    }\n",
       "\n",
       "    .dataframe thead th {\n",
       "        text-align: right;\n",
       "    }\n",
       "</style>\n",
       "<table border=\"1\" class=\"dataframe\">\n",
       "  <thead>\n",
       "    <tr style=\"text-align: right;\">\n",
       "      <th></th>\n",
       "      <th>a</th>\n",
       "      <th>b</th>\n",
       "      <th>c</th>\n",
       "      <th>d</th>\n",
       "    </tr>\n",
       "  </thead>\n",
       "  <tbody>\n",
       "    <tr>\n",
       "      <th>0</th>\n",
       "      <td>0</td>\n",
       "      <td>1</td>\n",
       "      <td>2</td>\n",
       "      <td>3</td>\n",
       "    </tr>\n",
       "    <tr>\n",
       "      <th>1</th>\n",
       "      <td>4</td>\n",
       "      <td>5</td>\n",
       "      <td>6</td>\n",
       "      <td>7</td>\n",
       "    </tr>\n",
       "    <tr>\n",
       "      <th>2</th>\n",
       "      <td>8</td>\n",
       "      <td>9</td>\n",
       "      <td>10</td>\n",
       "      <td>11</td>\n",
       "    </tr>\n",
       "    <tr>\n",
       "      <th>3</th>\n",
       "      <td>12</td>\n",
       "      <td>13</td>\n",
       "      <td>14</td>\n",
       "      <td>15</td>\n",
       "    </tr>\n",
       "  </tbody>\n",
       "</table>\n",
       "</div>"
      ],
      "text/plain": [
       "    a   b   c   d\n",
       "0   0   1   2   3\n",
       "1   4   5   6   7\n",
       "2   8   9  10  11\n",
       "3  12  13  14  15"
      ]
     },
     "execution_count": 37,
     "metadata": {},
     "output_type": "execute_result"
    }
   ],
   "source": [
    "new2"
   ]
  }
 ],
 "metadata": {},
 "nbformat": 4,
 "nbformat_minor": 5
}
