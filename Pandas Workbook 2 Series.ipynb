{
 "cells": [
  {
   "cell_type": "code",
   "execution_count": 23,
   "id": "3369dbe9",
   "metadata": {},
   "outputs": [],
   "source": [
    "import numpy as np\n",
    "import pandas as pd"
   ]
  },
  {
   "cell_type": "code",
   "execution_count": 24,
   "id": "cabd37ec",
   "metadata": {},
   "outputs": [],
   "source": [
    "q1 = {'Japan': 80, 'China': 450, 'India': 200, 'USA': 250}\n",
    "q2 = {'Brazil': 100,'China': 500, 'India': 210,'USA': 260}"
   ]
  },
  {
   "cell_type": "code",
   "execution_count": 25,
   "id": "6fbb9ce7",
   "metadata": {},
   "outputs": [],
   "source": [
    "sales_q1 = pd.Series(q1, dtype=int)\n",
    "sales_q2 = pd.Series(q2, dtype=int)"
   ]
  },
  {
   "cell_type": "code",
   "execution_count": 26,
   "id": "8f0673e2",
   "metadata": {},
   "outputs": [
    {
     "data": {
      "text/plain": [
       "Japan     80\n",
       "China    450\n",
       "India    200\n",
       "USA      250\n",
       "dtype: int32"
      ]
     },
     "execution_count": 26,
     "metadata": {},
     "output_type": "execute_result"
    }
   ],
   "source": [
    "sales_q1"
   ]
  },
  {
   "cell_type": "code",
   "execution_count": 27,
   "id": "e540aace",
   "metadata": {},
   "outputs": [
    {
     "data": {
      "text/plain": [
       "80"
      ]
     },
     "execution_count": 27,
     "metadata": {},
     "output_type": "execute_result"
    }
   ],
   "source": [
    "sales_q1['Japan']"
   ]
  },
  {
   "cell_type": "code",
   "execution_count": 28,
   "id": "35165451",
   "metadata": {},
   "outputs": [
    {
     "data": {
      "text/plain": [
       "Index(['Japan', 'China', 'India', 'USA'], dtype='object')"
      ]
     },
     "execution_count": 28,
     "metadata": {},
     "output_type": "execute_result"
    }
   ],
   "source": [
    "sales_q1.keys()"
   ]
  },
  {
   "cell_type": "markdown",
   "id": "734fb820",
   "metadata": {},
   "source": [
    "This function, sales_q1.keys() gives the list of keys, in case you are having trouble calling an item"
   ]
  },
  {
   "cell_type": "code",
   "execution_count": 29,
   "id": "a72be388",
   "metadata": {},
   "outputs": [
    {
     "data": {
      "text/plain": [
       "[1, 2, 1, 2]"
      ]
     },
     "execution_count": 29,
     "metadata": {},
     "output_type": "execute_result"
    }
   ],
   "source": [
    "[1,2] * 2"
   ]
  },
  {
   "cell_type": "code",
   "execution_count": 30,
   "id": "68e000ae",
   "metadata": {},
   "outputs": [
    {
     "data": {
      "text/plain": [
       "array([2, 4])"
      ]
     },
     "execution_count": 30,
     "metadata": {},
     "output_type": "execute_result"
    }
   ],
   "source": [
    "np.array([1,2])*2"
   ]
  },
  {
   "cell_type": "markdown",
   "id": "8bc620fa",
   "metadata": {},
   "source": [
    "when set to be an array, the values are all doubled, otherwise the array itself is doubled."
   ]
  },
  {
   "cell_type": "code",
   "execution_count": 31,
   "id": "40dad865",
   "metadata": {},
   "outputs": [
    {
     "data": {
      "text/plain": [
       "Japan    0.8\n",
       "China    4.5\n",
       "India    2.0\n",
       "USA      2.5\n",
       "dtype: float64"
      ]
     },
     "execution_count": 31,
     "metadata": {},
     "output_type": "execute_result"
    }
   ],
   "source": [
    "sales_q1 / 100"
   ]
  },
  {
   "cell_type": "markdown",
   "id": "d1ecfa67",
   "metadata": {},
   "source": [
    "If for some reason, you need to get a percentage form, this works "
   ]
  },
  {
   "cell_type": "code",
   "execution_count": 32,
   "id": "90ebfa1f",
   "metadata": {},
   "outputs": [
    {
     "data": {
      "text/plain": [
       "Brazil      NaN\n",
       "China     950.0\n",
       "India     410.0\n",
       "Japan       NaN\n",
       "USA       510.0\n",
       "dtype: float64"
      ]
     },
     "execution_count": 32,
     "metadata": {},
     "output_type": "execute_result"
    }
   ],
   "source": [
    "sales_q1+ sales_q2"
   ]
  },
  {
   "cell_type": "markdown",
   "id": "869ec851",
   "metadata": {},
   "source": [
    "Because Brazil and Japan are both present in only one of the two series, Pandas report back NaN.\n",
    "\n",
    "In the other cases, it adds the two together."
   ]
  },
  {
   "cell_type": "markdown",
   "id": "0d65d6d4",
   "metadata": {},
   "source": [
    "In order to bypass this, you have to fill in the missing data with zeroes, so that they can be added together"
   ]
  },
  {
   "cell_type": "code",
   "execution_count": 36,
   "id": "fd3c2e8d",
   "metadata": {},
   "outputs": [
    {
     "data": {
      "text/plain": [
       "Brazil    100.0\n",
       "China     950.0\n",
       "India     410.0\n",
       "Japan      80.0\n",
       "USA       510.0\n",
       "dtype: float64"
      ]
     },
     "execution_count": 36,
     "metadata": {},
     "output_type": "execute_result"
    }
   ],
   "source": [
    "sales_q1.add(sales_q2,fill_value=0)"
   ]
  },
  {
   "cell_type": "markdown",
   "id": "b715e32f",
   "metadata": {},
   "source": [
    "Now the empty cells are filled with zeroes, allowing the sales quarters to be combined"
   ]
  },
  {
   "cell_type": "code",
   "execution_count": null,
   "id": "9e9c0bfd",
   "metadata": {},
   "outputs": [],
   "source": []
  },
  {
   "cell_type": "code",
   "execution_count": null,
   "id": "3d117502",
   "metadata": {},
   "outputs": [],
   "source": []
  }
 ],
 "metadata": {
  "kernelspec": {
   "display_name": "Python 3 (ipykernel)",
   "language": "python",
   "name": "python3"
  },
  "language_info": {
   "codemirror_mode": {
    "name": "ipython",
    "version": 3
   },
   "file_extension": ".py",
   "mimetype": "text/x-python",
   "name": "python",
   "nbconvert_exporter": "python",
   "pygments_lexer": "ipython3",
   "version": "3.9.12"
  }
 },
 "nbformat": 4,
 "nbformat_minor": 5
}
