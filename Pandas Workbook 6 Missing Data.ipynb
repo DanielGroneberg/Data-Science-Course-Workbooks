{
 "cells": [
  {
   "cell_type": "code",
   "execution_count": 3,
   "id": "66c560d3",
   "metadata": {},
   "outputs": [],
   "source": [
    "import numpy as np\n",
    "import pandas as pd\n",
    "df = pd.read_csv('tips.csv')"
   ]
  },
  {
   "cell_type": "markdown",
   "id": "a8381bf5",
   "metadata": {},
   "source": [
    "Real-world data will often have missing elements, and many machine learning models are not capable of coping with missing data"
   ]
  },
  {
   "cell_type": "markdown",
   "id": "e16cfba4",
   "metadata": {},
   "source": [
    "pandas will display missing data with NaN and pd.NaT to show that the missing value should be a timestamp."
   ]
  },
  {
   "cell_type": "markdown",
   "id": "25f7cefa",
   "metadata": {},
   "source": [
    "i.e. if you have a stock ticker with data showing stock price at given times, and you are missing a time value, that element will show pd.NaT"
   ]
  },
  {
   "cell_type": "markdown",
   "id": "d91491f4",
   "metadata": {},
   "source": [
    "Options for missing data:"
   ]
  },
  {
   "cell_type": "markdown",
   "id": "cb16d44a",
   "metadata": {},
   "source": [
    "Keep it\n",
    "\n",
    "Remove it\n",
    "\n",
    "Replace it\n",
    "\n",
    "The correct approach will depend on the specific circumstance; there is no approach which is correct in 100% of cases."
   ]
  },
  {
   "cell_type": "markdown",
   "id": "0de67902",
   "metadata": {},
   "source": [
    "Before you drop a row or column, you should ask whether the missing data is primarily within rows or columns\n",
    "\n",
    "If you have the following table:"
   ]
  },
  {
   "cell_type": "code",
   "execution_count": 4,
   "id": "7933ed14",
   "metadata": {},
   "outputs": [],
   "source": [
    "lst = {'Year': (1776,1867,1821),\n",
    "      'Pop': (328,38,126),\n",
    "      'GDP' : (20.5, 1.7, 1.22),\n",
    "      'Area' : ['NaN' , 'NaN', .76]}\n",
    "\n",
    "myindex = ('USA','CANADA','MEXICO')"
   ]
  },
  {
   "cell_type": "markdown",
   "id": "b05b25cd",
   "metadata": {},
   "source": [
    "Note, I manually entered NaN as a string becauase I'm not sure how to actually input NaN"
   ]
  },
  {
   "cell_type": "code",
   "execution_count": 5,
   "id": "4b799520",
   "metadata": {},
   "outputs": [],
   "source": [
    "df = pd.DataFrame(lst, index = myindex)"
   ]
  },
  {
   "cell_type": "code",
   "execution_count": 6,
   "id": "cafeb3de",
   "metadata": {},
   "outputs": [
    {
     "data": {
      "text/html": [
       "<div>\n",
       "<style scoped>\n",
       "    .dataframe tbody tr th:only-of-type {\n",
       "        vertical-align: middle;\n",
       "    }\n",
       "\n",
       "    .dataframe tbody tr th {\n",
       "        vertical-align: top;\n",
       "    }\n",
       "\n",
       "    .dataframe thead th {\n",
       "        text-align: right;\n",
       "    }\n",
       "</style>\n",
       "<table border=\"1\" class=\"dataframe\">\n",
       "  <thead>\n",
       "    <tr style=\"text-align: right;\">\n",
       "      <th></th>\n",
       "      <th>Year</th>\n",
       "      <th>Pop</th>\n",
       "      <th>GDP</th>\n",
       "      <th>Area</th>\n",
       "    </tr>\n",
       "  </thead>\n",
       "  <tbody>\n",
       "    <tr>\n",
       "      <th>USA</th>\n",
       "      <td>1776</td>\n",
       "      <td>328</td>\n",
       "      <td>20.50</td>\n",
       "      <td>NaN</td>\n",
       "    </tr>\n",
       "    <tr>\n",
       "      <th>CANADA</th>\n",
       "      <td>1867</td>\n",
       "      <td>38</td>\n",
       "      <td>1.70</td>\n",
       "      <td>NaN</td>\n",
       "    </tr>\n",
       "    <tr>\n",
       "      <th>MEXICO</th>\n",
       "      <td>1821</td>\n",
       "      <td>126</td>\n",
       "      <td>1.22</td>\n",
       "      <td>0.76</td>\n",
       "    </tr>\n",
       "  </tbody>\n",
       "</table>\n",
       "</div>"
      ],
      "text/plain": [
       "        Year  Pop    GDP  Area\n",
       "USA     1776  328  20.50   NaN\n",
       "CANADA  1867   38   1.70   NaN\n",
       "MEXICO  1821  126   1.22  0.76"
      ]
     },
     "execution_count": 6,
     "metadata": {},
     "output_type": "execute_result"
    }
   ],
   "source": [
    "df"
   ]
  },
  {
   "cell_type": "markdown",
   "id": "2a9ff717",
   "metadata": {},
   "source": [
    "Knowing what I know now, let's try this again . . . "
   ]
  },
  {
   "cell_type": "code",
   "execution_count": 7,
   "id": "de7383ac",
   "metadata": {},
   "outputs": [],
   "source": [
    "mydata = np.array([[1776, 328, 20.5, np.nan],[1867, 38, 1.7,np.nan],[1821,126,1.22,.76]])"
   ]
  },
  {
   "cell_type": "code",
   "execution_count": 8,
   "id": "855b9e64",
   "metadata": {},
   "outputs": [],
   "source": [
    "mydata\n",
    "myindex = ['USA','CANADA','MEXICO']\n",
    "mycolumns = ['Year','Pop','GDP','Area']"
   ]
  },
  {
   "cell_type": "code",
   "execution_count": 9,
   "id": "397edfd3",
   "metadata": {},
   "outputs": [],
   "source": [
    "df = pd.DataFrame(data = mydata, columns = mycolumns, index = myindex)"
   ]
  },
  {
   "cell_type": "code",
   "execution_count": 10,
   "id": "be3c02cd",
   "metadata": {},
   "outputs": [
    {
     "data": {
      "text/html": [
       "<div>\n",
       "<style scoped>\n",
       "    .dataframe tbody tr th:only-of-type {\n",
       "        vertical-align: middle;\n",
       "    }\n",
       "\n",
       "    .dataframe tbody tr th {\n",
       "        vertical-align: top;\n",
       "    }\n",
       "\n",
       "    .dataframe thead th {\n",
       "        text-align: right;\n",
       "    }\n",
       "</style>\n",
       "<table border=\"1\" class=\"dataframe\">\n",
       "  <thead>\n",
       "    <tr style=\"text-align: right;\">\n",
       "      <th></th>\n",
       "      <th>Year</th>\n",
       "      <th>Pop</th>\n",
       "      <th>GDP</th>\n",
       "      <th>Area</th>\n",
       "    </tr>\n",
       "  </thead>\n",
       "  <tbody>\n",
       "    <tr>\n",
       "      <th>USA</th>\n",
       "      <td>1776.0</td>\n",
       "      <td>328.0</td>\n",
       "      <td>20.50</td>\n",
       "      <td>NaN</td>\n",
       "    </tr>\n",
       "    <tr>\n",
       "      <th>CANADA</th>\n",
       "      <td>1867.0</td>\n",
       "      <td>38.0</td>\n",
       "      <td>1.70</td>\n",
       "      <td>NaN</td>\n",
       "    </tr>\n",
       "    <tr>\n",
       "      <th>MEXICO</th>\n",
       "      <td>1821.0</td>\n",
       "      <td>126.0</td>\n",
       "      <td>1.22</td>\n",
       "      <td>0.76</td>\n",
       "    </tr>\n",
       "  </tbody>\n",
       "</table>\n",
       "</div>"
      ],
      "text/plain": [
       "          Year    Pop    GDP  Area\n",
       "USA     1776.0  328.0  20.50   NaN\n",
       "CANADA  1867.0   38.0   1.70   NaN\n",
       "MEXICO  1821.0  126.0   1.22  0.76"
      ]
     },
     "execution_count": 10,
     "metadata": {},
     "output_type": "execute_result"
    }
   ],
   "source": [
    "df.head()"
   ]
  },
  {
   "cell_type": "markdown",
   "id": "1f264794",
   "metadata": {},
   "source": [
    "In this case ^ it makes sense to drop the Area column, rather than USA or CANADA since most of the missing data is in Area"
   ]
  },
  {
   "cell_type": "markdown",
   "id": "ecc924d7",
   "metadata": {},
   "source": [
    "---------------------------------\n",
    "\n",
    "Option 1: Keep the data\n",
    "\n",
    "Pros: Easiest, remains faithful to the true data, i.e. it reflects the fact that some data was missing, which may influence statistics\n",
    "\n",
    "Cons: Many methods including machine learning do not support NaN, many times missing data is the result of incorrect data entry for example: if the temperature is 0 degrees C this may have been input incorrectly as nonexistent which would lead to NaN and therefore be incorrect. Or, if a store is doing a promotion and giving away a product for $0 this may have been input as NaN which would lead to incorrect conclusions in the model since product was still being transfered out. In both of these cases, changing NaN to 0 would be the best option.\n",
    "\n",
    "---------------------------------\n",
    "\n",
    "Option 2: Remove it\n",
    "\n",
    "Pros: This is also easy, can be based on rules which you set for example dropping every row which includes 4 data points\n",
    "\n",
    "Cons: Potential to lose a lot of data if there are many potential inputs and one is missing. For example, if you have a climate model which takes into account temperature, humidity, air pressure, UV index and may other inputs and one of these is missing, there is the potential to discard a large amount of data because it is possible that one of many inputs will be missing for any given time. If you build a model based on a large amount of missing data, it could become irrelevant\n",
    "\n",
    "---------------------------------\n",
    "\n",
    "Option 3: Filling in the missing data\n",
    "\n",
    "Pros: Potential to save a lot of data which will help train a machine learning model\n",
    "\n",
    "Cons: The hardest to do and somewhat arbitrary as what you use to fill in is up to you which can lead to some false conclusions. The validity of the model will therefore be up to how reasonable the data you used to fill in missing points were."
   ]
  },
  {
   "cell_type": "markdown",
   "id": "cc4d80b7",
   "metadata": {},
   "source": [
    "Now I want to figure out how to delete the Area column and create a new Carriers column as is now shown in the lecture. "
   ]
  },
  {
   "cell_type": "markdown",
   "id": "f0f338ff",
   "metadata": {},
   "source": [
    "-----------------\n",
    "Moving along and not actually doing that ^ :"
   ]
  },
  {
   "cell_type": "markdown",
   "id": "be74ed5d",
   "metadata": {},
   "source": [
    "The interpolation method of filling in missing data means that you will have to use a reasonable guess for NaN values. You will have to have some justification for the numbers you replaced NaN with."
   ]
  },
  {
   "cell_type": "markdown",
   "id": "bb5c5323",
   "metadata": {},
   "source": [
    "Pt 2: The syntax for replacing NaA - How do you actually do it???"
   ]
  },
  {
   "cell_type": "code",
   "execution_count": null,
   "id": "5d12408f",
   "metadata": {},
   "outputs": [],
   "source": []
  },
  {
   "cell_type": "code",
   "execution_count": 11,
   "id": "68674ae5",
   "metadata": {},
   "outputs": [
    {
     "data": {
      "text/html": [
       "<div>\n",
       "<style scoped>\n",
       "    .dataframe tbody tr th:only-of-type {\n",
       "        vertical-align: middle;\n",
       "    }\n",
       "\n",
       "    .dataframe tbody tr th {\n",
       "        vertical-align: top;\n",
       "    }\n",
       "\n",
       "    .dataframe thead th {\n",
       "        text-align: right;\n",
       "    }\n",
       "</style>\n",
       "<table border=\"1\" class=\"dataframe\">\n",
       "  <thead>\n",
       "    <tr style=\"text-align: right;\">\n",
       "      <th></th>\n",
       "      <th>Year</th>\n",
       "      <th>Pop</th>\n",
       "      <th>GDP</th>\n",
       "      <th>Area</th>\n",
       "    </tr>\n",
       "  </thead>\n",
       "  <tbody>\n",
       "    <tr>\n",
       "      <th>USA</th>\n",
       "      <td>1776.0</td>\n",
       "      <td>328.0</td>\n",
       "      <td>20.50</td>\n",
       "      <td>NaN</td>\n",
       "    </tr>\n",
       "    <tr>\n",
       "      <th>CANADA</th>\n",
       "      <td>1867.0</td>\n",
       "      <td>38.0</td>\n",
       "      <td>1.70</td>\n",
       "      <td>NaN</td>\n",
       "    </tr>\n",
       "    <tr>\n",
       "      <th>MEXICO</th>\n",
       "      <td>1821.0</td>\n",
       "      <td>126.0</td>\n",
       "      <td>1.22</td>\n",
       "      <td>0.76</td>\n",
       "    </tr>\n",
       "  </tbody>\n",
       "</table>\n",
       "</div>"
      ],
      "text/plain": [
       "          Year    Pop    GDP  Area\n",
       "USA     1776.0  328.0  20.50   NaN\n",
       "CANADA  1867.0   38.0   1.70   NaN\n",
       "MEXICO  1821.0  126.0   1.22  0.76"
      ]
     },
     "execution_count": 11,
     "metadata": {},
     "output_type": "execute_result"
    }
   ],
   "source": [
    "df"
   ]
  },
  {
   "cell_type": "code",
   "execution_count": null,
   "id": "c08c75cf",
   "metadata": {},
   "outputs": [],
   "source": []
  },
  {
   "cell_type": "code",
   "execution_count": null,
   "id": "0ab34e08",
   "metadata": {},
   "outputs": [],
   "source": []
  },
  {
   "cell_type": "code",
   "execution_count": null,
   "id": "aa9ee880",
   "metadata": {},
   "outputs": [],
   "source": []
  },
  {
   "cell_type": "code",
   "execution_count": null,
   "id": "cee4b298",
   "metadata": {},
   "outputs": [],
   "source": []
  }
 ],
 "metadata": {
  "kernelspec": {
   "display_name": "Python 3 (ipykernel)",
   "language": "python",
   "name": "python3"
  },
  "language_info": {
   "codemirror_mode": {
    "name": "ipython",
    "version": 3
   },
   "file_extension": ".py",
   "mimetype": "text/x-python",
   "name": "python",
   "nbconvert_exporter": "python",
   "pygments_lexer": "ipython3",
   "version": "3.9.12"
  }
 },
 "nbformat": 4,
 "nbformat_minor": 5
}
