{
 "cells": [
  {
   "cell_type": "code",
   "execution_count": 63,
   "id": "377207d9",
   "metadata": {},
   "outputs": [],
   "source": [
    "import numpy as np"
   ]
  },
  {
   "cell_type": "code",
   "execution_count": 64,
   "id": "536ca555",
   "metadata": {},
   "outputs": [],
   "source": [
    "import pandas as pd"
   ]
  },
  {
   "cell_type": "code",
   "execution_count": 65,
   "id": "f3c20a9d",
   "metadata": {},
   "outputs": [],
   "source": [
    "df = pd.read_csv('mpg.csv')"
   ]
  },
  {
   "cell_type": "code",
   "execution_count": 66,
   "id": "e27bb5cc",
   "metadata": {},
   "outputs": [
    {
     "data": {
      "text/html": [
       "<div>\n",
       "<style scoped>\n",
       "    .dataframe tbody tr th:only-of-type {\n",
       "        vertical-align: middle;\n",
       "    }\n",
       "\n",
       "    .dataframe tbody tr th {\n",
       "        vertical-align: top;\n",
       "    }\n",
       "\n",
       "    .dataframe thead th {\n",
       "        text-align: right;\n",
       "    }\n",
       "</style>\n",
       "<table border=\"1\" class=\"dataframe\">\n",
       "  <thead>\n",
       "    <tr style=\"text-align: right;\">\n",
       "      <th></th>\n",
       "      <th>mpg</th>\n",
       "      <th>cylinders</th>\n",
       "      <th>displacement</th>\n",
       "      <th>horsepower</th>\n",
       "      <th>weight</th>\n",
       "      <th>acceleration</th>\n",
       "      <th>model_year</th>\n",
       "      <th>origin</th>\n",
       "      <th>name</th>\n",
       "    </tr>\n",
       "  </thead>\n",
       "  <tbody>\n",
       "    <tr>\n",
       "      <th>0</th>\n",
       "      <td>18.0</td>\n",
       "      <td>8</td>\n",
       "      <td>307.0</td>\n",
       "      <td>130</td>\n",
       "      <td>3504</td>\n",
       "      <td>12.0</td>\n",
       "      <td>70</td>\n",
       "      <td>1</td>\n",
       "      <td>chevrolet chevelle malibu</td>\n",
       "    </tr>\n",
       "    <tr>\n",
       "      <th>1</th>\n",
       "      <td>15.0</td>\n",
       "      <td>8</td>\n",
       "      <td>350.0</td>\n",
       "      <td>165</td>\n",
       "      <td>3693</td>\n",
       "      <td>11.5</td>\n",
       "      <td>70</td>\n",
       "      <td>1</td>\n",
       "      <td>buick skylark 320</td>\n",
       "    </tr>\n",
       "    <tr>\n",
       "      <th>2</th>\n",
       "      <td>18.0</td>\n",
       "      <td>8</td>\n",
       "      <td>318.0</td>\n",
       "      <td>150</td>\n",
       "      <td>3436</td>\n",
       "      <td>11.0</td>\n",
       "      <td>70</td>\n",
       "      <td>1</td>\n",
       "      <td>plymouth satellite</td>\n",
       "    </tr>\n",
       "    <tr>\n",
       "      <th>3</th>\n",
       "      <td>16.0</td>\n",
       "      <td>8</td>\n",
       "      <td>304.0</td>\n",
       "      <td>150</td>\n",
       "      <td>3433</td>\n",
       "      <td>12.0</td>\n",
       "      <td>70</td>\n",
       "      <td>1</td>\n",
       "      <td>amc rebel sst</td>\n",
       "    </tr>\n",
       "    <tr>\n",
       "      <th>4</th>\n",
       "      <td>17.0</td>\n",
       "      <td>8</td>\n",
       "      <td>302.0</td>\n",
       "      <td>140</td>\n",
       "      <td>3449</td>\n",
       "      <td>10.5</td>\n",
       "      <td>70</td>\n",
       "      <td>1</td>\n",
       "      <td>ford torino</td>\n",
       "    </tr>\n",
       "    <tr>\n",
       "      <th>...</th>\n",
       "      <td>...</td>\n",
       "      <td>...</td>\n",
       "      <td>...</td>\n",
       "      <td>...</td>\n",
       "      <td>...</td>\n",
       "      <td>...</td>\n",
       "      <td>...</td>\n",
       "      <td>...</td>\n",
       "      <td>...</td>\n",
       "    </tr>\n",
       "    <tr>\n",
       "      <th>393</th>\n",
       "      <td>27.0</td>\n",
       "      <td>4</td>\n",
       "      <td>140.0</td>\n",
       "      <td>86</td>\n",
       "      <td>2790</td>\n",
       "      <td>15.6</td>\n",
       "      <td>82</td>\n",
       "      <td>1</td>\n",
       "      <td>ford mustang gl</td>\n",
       "    </tr>\n",
       "    <tr>\n",
       "      <th>394</th>\n",
       "      <td>44.0</td>\n",
       "      <td>4</td>\n",
       "      <td>97.0</td>\n",
       "      <td>52</td>\n",
       "      <td>2130</td>\n",
       "      <td>24.6</td>\n",
       "      <td>82</td>\n",
       "      <td>2</td>\n",
       "      <td>vw pickup</td>\n",
       "    </tr>\n",
       "    <tr>\n",
       "      <th>395</th>\n",
       "      <td>32.0</td>\n",
       "      <td>4</td>\n",
       "      <td>135.0</td>\n",
       "      <td>84</td>\n",
       "      <td>2295</td>\n",
       "      <td>11.6</td>\n",
       "      <td>82</td>\n",
       "      <td>1</td>\n",
       "      <td>dodge rampage</td>\n",
       "    </tr>\n",
       "    <tr>\n",
       "      <th>396</th>\n",
       "      <td>28.0</td>\n",
       "      <td>4</td>\n",
       "      <td>120.0</td>\n",
       "      <td>79</td>\n",
       "      <td>2625</td>\n",
       "      <td>18.6</td>\n",
       "      <td>82</td>\n",
       "      <td>1</td>\n",
       "      <td>ford ranger</td>\n",
       "    </tr>\n",
       "    <tr>\n",
       "      <th>397</th>\n",
       "      <td>31.0</td>\n",
       "      <td>4</td>\n",
       "      <td>119.0</td>\n",
       "      <td>82</td>\n",
       "      <td>2720</td>\n",
       "      <td>19.4</td>\n",
       "      <td>82</td>\n",
       "      <td>1</td>\n",
       "      <td>chevy s-10</td>\n",
       "    </tr>\n",
       "  </tbody>\n",
       "</table>\n",
       "<p>398 rows × 9 columns</p>\n",
       "</div>"
      ],
      "text/plain": [
       "      mpg  cylinders  displacement horsepower  weight  acceleration  \\\n",
       "0    18.0          8         307.0        130    3504          12.0   \n",
       "1    15.0          8         350.0        165    3693          11.5   \n",
       "2    18.0          8         318.0        150    3436          11.0   \n",
       "3    16.0          8         304.0        150    3433          12.0   \n",
       "4    17.0          8         302.0        140    3449          10.5   \n",
       "..    ...        ...           ...        ...     ...           ...   \n",
       "393  27.0          4         140.0         86    2790          15.6   \n",
       "394  44.0          4          97.0         52    2130          24.6   \n",
       "395  32.0          4         135.0         84    2295          11.6   \n",
       "396  28.0          4         120.0         79    2625          18.6   \n",
       "397  31.0          4         119.0         82    2720          19.4   \n",
       "\n",
       "     model_year  origin                       name  \n",
       "0            70       1  chevrolet chevelle malibu  \n",
       "1            70       1          buick skylark 320  \n",
       "2            70       1         plymouth satellite  \n",
       "3            70       1              amc rebel sst  \n",
       "4            70       1                ford torino  \n",
       "..          ...     ...                        ...  \n",
       "393          82       1            ford mustang gl  \n",
       "394          82       2                  vw pickup  \n",
       "395          82       1              dodge rampage  \n",
       "396          82       1                ford ranger  \n",
       "397          82       1                 chevy s-10  \n",
       "\n",
       "[398 rows x 9 columns]"
      ]
     },
     "execution_count": 66,
     "metadata": {},
     "output_type": "execute_result"
    }
   ],
   "source": [
    "df"
   ]
  },
  {
   "cell_type": "code",
   "execution_count": 67,
   "id": "50ef68d7",
   "metadata": {},
   "outputs": [
    {
     "data": {
      "text/plain": [
       "model_year\n",
       "70    17.689655\n",
       "71    21.250000\n",
       "72    18.714286\n",
       "73    17.100000\n",
       "74    22.703704\n",
       "75    20.266667\n",
       "76    21.573529\n",
       "77    23.375000\n",
       "78    24.061111\n",
       "79    25.093103\n",
       "80    33.696552\n",
       "81    30.334483\n",
       "82    31.709677\n",
       "Name: mpg, dtype: float64"
      ]
     },
     "execution_count": 67,
     "metadata": {},
     "output_type": "execute_result"
    }
   ],
   "source": [
    "test1 = df.groupby('model_year').mean()\n",
    "\n",
    "test1['mpg']"
   ]
  },
  {
   "cell_type": "markdown",
   "id": "3557e051",
   "metadata": {},
   "source": [
    "I wanted to practice how to create an array with just the model year and MPG. This is the result ^. I'm not too sure how to get it to look like a nice table (data frame), the result is instead this crap."
   ]
  },
  {
   "cell_type": "code",
   "execution_count": 68,
   "id": "65bd669a",
   "metadata": {},
   "outputs": [],
   "source": [
    "test2 = df[['model_year', 'mpg']]"
   ]
  },
  {
   "cell_type": "code",
   "execution_count": 69,
   "id": "f49f3f2a",
   "metadata": {},
   "outputs": [
    {
     "data": {
      "text/html": [
       "<div>\n",
       "<style scoped>\n",
       "    .dataframe tbody tr th:only-of-type {\n",
       "        vertical-align: middle;\n",
       "    }\n",
       "\n",
       "    .dataframe tbody tr th {\n",
       "        vertical-align: top;\n",
       "    }\n",
       "\n",
       "    .dataframe thead th {\n",
       "        text-align: right;\n",
       "    }\n",
       "</style>\n",
       "<table border=\"1\" class=\"dataframe\">\n",
       "  <thead>\n",
       "    <tr style=\"text-align: right;\">\n",
       "      <th></th>\n",
       "      <th>mpg</th>\n",
       "    </tr>\n",
       "    <tr>\n",
       "      <th>model_year</th>\n",
       "      <th></th>\n",
       "    </tr>\n",
       "  </thead>\n",
       "  <tbody>\n",
       "    <tr>\n",
       "      <th>70</th>\n",
       "      <td>17.689655</td>\n",
       "    </tr>\n",
       "    <tr>\n",
       "      <th>71</th>\n",
       "      <td>21.250000</td>\n",
       "    </tr>\n",
       "    <tr>\n",
       "      <th>72</th>\n",
       "      <td>18.714286</td>\n",
       "    </tr>\n",
       "    <tr>\n",
       "      <th>73</th>\n",
       "      <td>17.100000</td>\n",
       "    </tr>\n",
       "    <tr>\n",
       "      <th>74</th>\n",
       "      <td>22.703704</td>\n",
       "    </tr>\n",
       "    <tr>\n",
       "      <th>75</th>\n",
       "      <td>20.266667</td>\n",
       "    </tr>\n",
       "    <tr>\n",
       "      <th>76</th>\n",
       "      <td>21.573529</td>\n",
       "    </tr>\n",
       "    <tr>\n",
       "      <th>77</th>\n",
       "      <td>23.375000</td>\n",
       "    </tr>\n",
       "    <tr>\n",
       "      <th>78</th>\n",
       "      <td>24.061111</td>\n",
       "    </tr>\n",
       "    <tr>\n",
       "      <th>79</th>\n",
       "      <td>25.093103</td>\n",
       "    </tr>\n",
       "    <tr>\n",
       "      <th>80</th>\n",
       "      <td>33.696552</td>\n",
       "    </tr>\n",
       "    <tr>\n",
       "      <th>81</th>\n",
       "      <td>30.334483</td>\n",
       "    </tr>\n",
       "    <tr>\n",
       "      <th>82</th>\n",
       "      <td>31.709677</td>\n",
       "    </tr>\n",
       "  </tbody>\n",
       "</table>\n",
       "</div>"
      ],
      "text/plain": [
       "                  mpg\n",
       "model_year           \n",
       "70          17.689655\n",
       "71          21.250000\n",
       "72          18.714286\n",
       "73          17.100000\n",
       "74          22.703704\n",
       "75          20.266667\n",
       "76          21.573529\n",
       "77          23.375000\n",
       "78          24.061111\n",
       "79          25.093103\n",
       "80          33.696552\n",
       "81          30.334483\n",
       "82          31.709677"
      ]
     },
     "execution_count": 69,
     "metadata": {},
     "output_type": "execute_result"
    }
   ],
   "source": [
    "test2 = test2.groupby('model_year').mean()\n",
    "test2"
   ]
  },
  {
   "cell_type": "markdown",
   "id": "1f0e9aab",
   "metadata": {},
   "source": [
    "Ok, so here's how you get it to actually look nice. Now it's a dataframe rather than a list"
   ]
  },
  {
   "cell_type": "code",
   "execution_count": 70,
   "id": "8360cb94",
   "metadata": {},
   "outputs": [
    {
     "data": {
      "text/plain": [
       "0      70\n",
       "1      70\n",
       "2      70\n",
       "3      70\n",
       "4      70\n",
       "       ..\n",
       "393    82\n",
       "394    82\n",
       "395    82\n",
       "396    82\n",
       "397    82\n",
       "Name: model_year, Length: 398, dtype: int64"
      ]
     },
     "execution_count": 70,
     "metadata": {},
     "output_type": "execute_result"
    }
   ],
   "source": [
    "df['model_year']"
   ]
  },
  {
   "cell_type": "markdown",
   "id": "f14d1d1b",
   "metadata": {},
   "source": [
    "The next cell came from meeting with Patrick to discuss data science, and he told me about the .agg() call\n",
    "\n",
    "use .agg(set) for unique values and .agg(list) for every value"
   ]
  },
  {
   "cell_type": "code",
   "execution_count": 71,
   "id": "61c4f13c",
   "metadata": {},
   "outputs": [
    {
     "data": {
      "text/plain": [
       "model_year\n",
       "70    {9.0, 10.0, 11.0, 14.0, 15.0, 16.0, 17.0, 18.0...\n",
       "71    {35.0, 12.0, 13.0, 14.0, 16.0, 17.0, 18.0, 19....\n",
       "72    {11.0, 12.0, 13.0, 14.0, 15.0, 17.0, 18.0, 19....\n",
       "73    {11.0, 12.0, 13.0, 14.0, 15.0, 16.0, 18.0, 19....\n",
       "74    {32.0, 13.0, 14.0, 15.0, 16.0, 18.0, 19.0, 20....\n",
       "75    {33.0, 13.0, 14.0, 15.0, 16.0, 17.0, 18.0, 19....\n",
       "76    {13.0, 14.5, 15.5, 16.0, 17.5, 18.0, 18.5, 20....\n",
       "77    {15.5, 15.0, 17.5, 17.0, 19.0, 20.5, 18.5, 16....\n",
       "78    {16.2, 17.7, 18.6, 19.9, 19.4, 20.2, 19.2, 20....\n",
       "79    {26.8, 28.4, 28.8, 15.5, 16.5, 17.0, 17.6, 19....\n",
       "80    {19.1, 23.7, 24.3, 23.6, 26.4, 27.9, 28.0, 29....\n",
       "81    {17.6, 20.2, 22.4, 23.5, 30.7, 25.8, 26.6, 27....\n",
       "82    {32.0, 34.0, 36.0, 37.0, 38.0, 44.0, 22.0, 23....\n",
       "Name: mpg, dtype: object"
      ]
     },
     "execution_count": 71,
     "metadata": {},
     "output_type": "execute_result"
    }
   ],
   "source": [
    "df.groupby('model_year')['mpg'].agg(set)"
   ]
  },
  {
   "cell_type": "code",
   "execution_count": 72,
   "id": "755d1042",
   "metadata": {},
   "outputs": [
    {
     "data": {
      "text/html": [
       "<div>\n",
       "<style scoped>\n",
       "    .dataframe tbody tr th:only-of-type {\n",
       "        vertical-align: middle;\n",
       "    }\n",
       "\n",
       "    .dataframe tbody tr th {\n",
       "        vertical-align: top;\n",
       "    }\n",
       "\n",
       "    .dataframe thead th {\n",
       "        text-align: right;\n",
       "    }\n",
       "</style>\n",
       "<table border=\"1\" class=\"dataframe\">\n",
       "  <thead>\n",
       "    <tr style=\"text-align: right;\">\n",
       "      <th></th>\n",
       "      <th>mpg</th>\n",
       "    </tr>\n",
       "    <tr>\n",
       "      <th>model_year</th>\n",
       "      <th></th>\n",
       "    </tr>\n",
       "  </thead>\n",
       "  <tbody>\n",
       "    <tr>\n",
       "      <th>70</th>\n",
       "      <td>17</td>\n",
       "    </tr>\n",
       "    <tr>\n",
       "      <th>71</th>\n",
       "      <td>21</td>\n",
       "    </tr>\n",
       "    <tr>\n",
       "      <th>72</th>\n",
       "      <td>18</td>\n",
       "    </tr>\n",
       "    <tr>\n",
       "      <th>73</th>\n",
       "      <td>17</td>\n",
       "    </tr>\n",
       "    <tr>\n",
       "      <th>74</th>\n",
       "      <td>22</td>\n",
       "    </tr>\n",
       "    <tr>\n",
       "      <th>75</th>\n",
       "      <td>20</td>\n",
       "    </tr>\n",
       "    <tr>\n",
       "      <th>76</th>\n",
       "      <td>21</td>\n",
       "    </tr>\n",
       "    <tr>\n",
       "      <th>77</th>\n",
       "      <td>23</td>\n",
       "    </tr>\n",
       "    <tr>\n",
       "      <th>78</th>\n",
       "      <td>24</td>\n",
       "    </tr>\n",
       "    <tr>\n",
       "      <th>79</th>\n",
       "      <td>25</td>\n",
       "    </tr>\n",
       "    <tr>\n",
       "      <th>80</th>\n",
       "      <td>33</td>\n",
       "    </tr>\n",
       "    <tr>\n",
       "      <th>81</th>\n",
       "      <td>30</td>\n",
       "    </tr>\n",
       "    <tr>\n",
       "      <th>82</th>\n",
       "      <td>31</td>\n",
       "    </tr>\n",
       "  </tbody>\n",
       "</table>\n",
       "</div>"
      ],
      "text/plain": [
       "            mpg\n",
       "model_year     \n",
       "70           17\n",
       "71           21\n",
       "72           18\n",
       "73           17\n",
       "74           22\n",
       "75           20\n",
       "76           21\n",
       "77           23\n",
       "78           24\n",
       "79           25\n",
       "80           33\n",
       "81           30\n",
       "82           31"
      ]
     },
     "execution_count": 72,
     "metadata": {},
     "output_type": "execute_result"
    }
   ],
   "source": [
    "test3 = test2['mpg'].astype(int)\n",
    "pd.DataFrame(test3)"
   ]
  },
  {
   "cell_type": "code",
   "execution_count": 73,
   "id": "456636b0",
   "metadata": {},
   "outputs": [
    {
     "ename": "AttributeError",
     "evalue": "'Series' object has no attribute 'set_index'",
     "output_type": "error",
     "traceback": [
      "\u001b[1;31m---------------------------------------------------------------------------\u001b[0m",
      "\u001b[1;31mAttributeError\u001b[0m                            Traceback (most recent call last)",
      "Input \u001b[1;32mIn [73]\u001b[0m, in \u001b[0;36m<cell line: 1>\u001b[1;34m()\u001b[0m\n\u001b[1;32m----> 1\u001b[0m \u001b[43mtest3\u001b[49m\u001b[38;5;241;43m.\u001b[39;49m\u001b[43mset_index\u001b[49m(\u001b[38;5;124m'\u001b[39m\u001b[38;5;124mmodel_year\u001b[39m\u001b[38;5;124m'\u001b[39m)\n",
      "File \u001b[1;32m~\\anaconda3\\lib\\site-packages\\pandas\\core\\generic.py:5575\u001b[0m, in \u001b[0;36mNDFrame.__getattr__\u001b[1;34m(self, name)\u001b[0m\n\u001b[0;32m   5568\u001b[0m \u001b[38;5;28;01mif\u001b[39;00m (\n\u001b[0;32m   5569\u001b[0m     name \u001b[38;5;129;01mnot\u001b[39;00m \u001b[38;5;129;01min\u001b[39;00m \u001b[38;5;28mself\u001b[39m\u001b[38;5;241m.\u001b[39m_internal_names_set\n\u001b[0;32m   5570\u001b[0m     \u001b[38;5;129;01mand\u001b[39;00m name \u001b[38;5;129;01mnot\u001b[39;00m \u001b[38;5;129;01min\u001b[39;00m \u001b[38;5;28mself\u001b[39m\u001b[38;5;241m.\u001b[39m_metadata\n\u001b[0;32m   5571\u001b[0m     \u001b[38;5;129;01mand\u001b[39;00m name \u001b[38;5;129;01mnot\u001b[39;00m \u001b[38;5;129;01min\u001b[39;00m \u001b[38;5;28mself\u001b[39m\u001b[38;5;241m.\u001b[39m_accessors\n\u001b[0;32m   5572\u001b[0m     \u001b[38;5;129;01mand\u001b[39;00m \u001b[38;5;28mself\u001b[39m\u001b[38;5;241m.\u001b[39m_info_axis\u001b[38;5;241m.\u001b[39m_can_hold_identifiers_and_holds_name(name)\n\u001b[0;32m   5573\u001b[0m ):\n\u001b[0;32m   5574\u001b[0m     \u001b[38;5;28;01mreturn\u001b[39;00m \u001b[38;5;28mself\u001b[39m[name]\n\u001b[1;32m-> 5575\u001b[0m \u001b[38;5;28;01mreturn\u001b[39;00m \u001b[38;5;28;43mobject\u001b[39;49m\u001b[38;5;241;43m.\u001b[39;49m\u001b[38;5;21;43m__getattribute__\u001b[39;49m\u001b[43m(\u001b[49m\u001b[38;5;28;43mself\u001b[39;49m\u001b[43m,\u001b[49m\u001b[43m \u001b[49m\u001b[43mname\u001b[49m\u001b[43m)\u001b[49m\n",
      "\u001b[1;31mAttributeError\u001b[0m: 'Series' object has no attribute 'set_index'"
     ]
    }
   ],
   "source": [
    "test3.set_index('model_year')"
   ]
  },
  {
   "cell_type": "markdown",
   "id": "d0646e7c",
   "metadata": {},
   "source": [
    "Now it's back to being a messed up list instead of a nice dataframe."
   ]
  },
  {
   "cell_type": "markdown",
   "id": "a82fb644",
   "metadata": {},
   "source": [
    "----------------------------\n",
    "\n",
    "Let's see if I can do this from the top now"
   ]
  },
  {
   "cell_type": "code",
   "execution_count": null,
   "id": "3066a68c",
   "metadata": {},
   "outputs": [],
   "source": [
    "df = pd.read_csv('mpg.csv')"
   ]
  },
  {
   "cell_type": "code",
   "execution_count": null,
   "id": "d364f87a",
   "metadata": {},
   "outputs": [],
   "source": [
    "df"
   ]
  },
  {
   "cell_type": "code",
   "execution_count": null,
   "id": "46f00e3d",
   "metadata": {},
   "outputs": [],
   "source": [
    "df2 = df[['model_year','mpg']]"
   ]
  },
  {
   "cell_type": "code",
   "execution_count": null,
   "id": "dd5e8ec2",
   "metadata": {},
   "outputs": [],
   "source": [
    "df2 = df2.groupby('model_year').mean('mpg').round(1)"
   ]
  },
  {
   "cell_type": "code",
   "execution_count": null,
   "id": "80e348b2",
   "metadata": {},
   "outputs": [],
   "source": [
    "df2"
   ]
  },
  {
   "cell_type": "markdown",
   "id": "da070ae4",
   "metadata": {},
   "source": [
    "Cool, I did it. I'm still not sure how to get rid of the last .x digit. I can turn it into a zero, and there's probably a good way of doing it, but I'm not too sure yet."
   ]
  },
  {
   "cell_type": "code",
   "execution_count": null,
   "id": "c62be571",
   "metadata": {},
   "outputs": [],
   "source": [
    "df"
   ]
  },
  {
   "cell_type": "code",
   "execution_count": null,
   "id": "a0b7f8ba",
   "metadata": {},
   "outputs": [],
   "source": [
    "df['model_year'].unique()"
   ]
  },
  {
   "cell_type": "code",
   "execution_count": null,
   "id": "995fad23",
   "metadata": {},
   "outputs": [],
   "source": [
    "df['model_year'].value_counts()"
   ]
  },
  {
   "cell_type": "code",
   "execution_count": null,
   "id": "640aeb93",
   "metadata": {},
   "outputs": [],
   "source": [
    "df.groupby('model_year')"
   ]
  },
  {
   "cell_type": "markdown",
   "id": "b9022ed8",
   "metadata": {},
   "source": [
    "This is a 'lazy function' because nothing has actually happened yet. Pandas is waiting for me to pass a .mean(), .sum() call, etc."
   ]
  },
  {
   "cell_type": "code",
   "execution_count": null,
   "id": "8f475313",
   "metadata": {},
   "outputs": [],
   "source": [
    "df.groupby('model_year').mean()"
   ]
  },
  {
   "cell_type": "code",
   "execution_count": null,
   "id": "66aadcdb",
   "metadata": {},
   "outputs": [],
   "source": [
    "df['weight'].max()"
   ]
  },
  {
   "cell_type": "markdown",
   "id": "77619e5f",
   "metadata": {},
   "source": [
    "Just practicing how to find the max in a column . . . "
   ]
  },
  {
   "cell_type": "code",
   "execution_count": null,
   "id": "edb3dec0",
   "metadata": {},
   "outputs": [],
   "source": [
    "df.groupby('model_year').mean()['mpg']"
   ]
  },
  {
   "cell_type": "code",
   "execution_count": null,
   "id": "253fdc4d",
   "metadata": {},
   "outputs": [],
   "source": [
    "df3 = df.groupby('model_year').mean().round(0)['mpg']\n",
    "pd.DataFrame(df3)"
   ]
  },
  {
   "cell_type": "markdown",
   "id": "489229ec",
   "metadata": {},
   "source": [
    "This is another way of doing what I was doing earlier"
   ]
  },
  {
   "cell_type": "code",
   "execution_count": null,
   "id": "1eca5bd6",
   "metadata": {},
   "outputs": [],
   "source": [
    "df.groupby(['model_year','cylinders']).mean()"
   ]
  },
  {
   "cell_type": "markdown",
   "id": "25d2e4da",
   "metadata": {},
   "source": [
    "This is a multi-level or hirearchy index. I've also seen this refered to as a a multindex dataframe"
   ]
  },
  {
   "cell_type": "markdown",
   "id": "acf6bd27",
   "metadata": {},
   "source": [
    "Model year and cylinders are not column names, they're indexes"
   ]
  },
  {
   "cell_type": "code",
   "execution_count": null,
   "id": "27025b89",
   "metadata": {},
   "outputs": [],
   "source": [
    "df.groupby(['model_year','cylinders']).mean().columns"
   ]
  },
  {
   "cell_type": "code",
   "execution_count": null,
   "id": "520c2c2c",
   "metadata": {},
   "outputs": [],
   "source": [
    "df4 = pd.DataFrame(df.groupby(['model_year','cylinders']).mean().round(1)['mpg'])\n"
   ]
  },
  {
   "cell_type": "code",
   "execution_count": null,
   "id": "c9f2fd74",
   "metadata": {},
   "outputs": [],
   "source": [
    "df4.head()"
   ]
  },
  {
   "cell_type": "markdown",
   "id": "1bf6e74a",
   "metadata": {},
   "source": [
    "once again, just testing. I'm not sure if this is a good way of going about it. Maybe I'll ask Patrick."
   ]
  },
  {
   "cell_type": "code",
   "execution_count": null,
   "id": "44503ef7",
   "metadata": {},
   "outputs": [],
   "source": [
    "df4.head()"
   ]
  },
  {
   "cell_type": "markdown",
   "id": "6c6ca13c",
   "metadata": {},
   "source": [
    "In this example ^, the main grouping method is model year. Once mpg has been grouped by the model year, it's then grouped by number of cylinders within the model year."
   ]
  },
  {
   "cell_type": "code",
   "execution_count": null,
   "id": "d16c26d6",
   "metadata": {},
   "outputs": [],
   "source": [
    "df.groupby(['model_year', 'cylinders']).mean().index"
   ]
  },
  {
   "cell_type": "markdown",
   "id": "1c93117f",
   "metadata": {},
   "source": [
    "As is shown, this is a MultiIndex, and these are the two indeces"
   ]
  },
  {
   "cell_type": "code",
   "execution_count": null,
   "id": "ecf9e815",
   "metadata": {},
   "outputs": [],
   "source": [
    "df.groupby(['model_year', 'cylinders']).mean().columns"
   ]
  },
  {
   "cell_type": "code",
   "execution_count": null,
   "id": "b4e439e7",
   "metadata": {},
   "outputs": [],
   "source": [
    "df.groupby('model_year').describe()"
   ]
  },
  {
   "cell_type": "code",
   "execution_count": null,
   "id": "ff37d160",
   "metadata": {},
   "outputs": [],
   "source": [
    "df.groupby('model_year').describe().transpose().round(2)"
   ]
  },
  {
   "cell_type": "markdown",
   "id": "711e453d",
   "metadata": {},
   "source": [
    "I guess it really depends on which variables you're looking at as far as whether you'd want to use .transpose()"
   ]
  },
  {
   "cell_type": "markdown",
   "id": "5309f901",
   "metadata": {},
   "source": [
    "You get the same data either way, but I find it much clearer in this case to use .transpose() since you get all the stats like mpg, cylinders etc. clearly broken up"
   ]
  },
  {
   "cell_type": "code",
   "execution_count": 82,
   "id": "7e635a07",
   "metadata": {},
   "outputs": [
    {
     "data": {
      "text/html": [
       "<div>\n",
       "<style scoped>\n",
       "    .dataframe tbody tr th:only-of-type {\n",
       "        vertical-align: middle;\n",
       "    }\n",
       "\n",
       "    .dataframe tbody tr th {\n",
       "        vertical-align: top;\n",
       "    }\n",
       "\n",
       "    .dataframe thead th {\n",
       "        text-align: right;\n",
       "    }\n",
       "</style>\n",
       "<table border=\"1\" class=\"dataframe\">\n",
       "  <thead>\n",
       "    <tr style=\"text-align: right;\">\n",
       "      <th></th>\n",
       "      <th></th>\n",
       "      <th>mpg</th>\n",
       "      <th>displacement</th>\n",
       "      <th>weight</th>\n",
       "      <th>acceleration</th>\n",
       "      <th>origin</th>\n",
       "    </tr>\n",
       "    <tr>\n",
       "      <th>model_year</th>\n",
       "      <th>cylinders</th>\n",
       "      <th></th>\n",
       "      <th></th>\n",
       "      <th></th>\n",
       "      <th></th>\n",
       "      <th></th>\n",
       "    </tr>\n",
       "  </thead>\n",
       "  <tbody>\n",
       "    <tr>\n",
       "      <th rowspan=\"3\" valign=\"top\">70</th>\n",
       "      <th>4</th>\n",
       "      <td>25.3</td>\n",
       "      <td>107.0</td>\n",
       "      <td>2292.6</td>\n",
       "      <td>16.0</td>\n",
       "      <td>2.3</td>\n",
       "    </tr>\n",
       "    <tr>\n",
       "      <th>6</th>\n",
       "      <td>20.5</td>\n",
       "      <td>199.0</td>\n",
       "      <td>2710.5</td>\n",
       "      <td>15.5</td>\n",
       "      <td>1.0</td>\n",
       "    </tr>\n",
       "    <tr>\n",
       "      <th>8</th>\n",
       "      <td>14.1</td>\n",
       "      <td>367.6</td>\n",
       "      <td>3940.1</td>\n",
       "      <td>11.2</td>\n",
       "      <td>1.0</td>\n",
       "    </tr>\n",
       "    <tr>\n",
       "      <th>71</th>\n",
       "      <th>4</th>\n",
       "      <td>27.5</td>\n",
       "      <td>101.8</td>\n",
       "      <td>2056.4</td>\n",
       "      <td>17.0</td>\n",
       "      <td>1.9</td>\n",
       "    </tr>\n",
       "  </tbody>\n",
       "</table>\n",
       "</div>"
      ],
      "text/plain": [
       "                       mpg  displacement  weight  acceleration  origin\n",
       "model_year cylinders                                                  \n",
       "70         4          25.3         107.0  2292.6          16.0     2.3\n",
       "           6          20.5         199.0  2710.5          15.5     1.0\n",
       "           8          14.1         367.6  3940.1          11.2     1.0\n",
       "71         4          27.5         101.8  2056.4          17.0     1.9"
      ]
     },
     "execution_count": 82,
     "metadata": {},
     "output_type": "execute_result"
    }
   ],
   "source": [
    "year_cyl = df.groupby(['model_year', 'cylinders']).mean().round(1)\n",
    "year_cyl.head(4)"
   ]
  },
  {
   "cell_type": "markdown",
   "id": "2238c205",
   "metadata": {},
   "source": [
    "An interesting point: if I call df.head(n), n does not correspond to n of model_year, it corresponds to n rows of cylinders, mpg, etc.\n",
    "\n",
    "Another interesting point: I was trying to remember how to find specific rows, and I was trying to use .head([3:5]) in order to do that. I remember now that you have to use .iloc[3:5]\n",
    "\n",
    "Even if df.head() could do that, the syntax is with () not ([]), but whatever"
   ]
  },
  {
   "cell_type": "code",
   "execution_count": 83,
   "id": "f2b08d50",
   "metadata": {},
   "outputs": [
    {
     "data": {
      "text/plain": [
       "FrozenList(['model_year', 'cylinders'])"
      ]
     },
     "execution_count": 83,
     "metadata": {},
     "output_type": "execute_result"
    }
   ],
   "source": [
    "year_cyl.index.names"
   ]
  },
  {
   "cell_type": "code",
   "execution_count": 84,
   "id": "fd1c08e1",
   "metadata": {},
   "outputs": [
    {
     "data": {
      "text/plain": [
       "FrozenList([[70, 71, 72, 73, 74, 75, 76, 77, 78, 79, 80, 81, 82], [3, 4, 5, 6, 8]])"
      ]
     },
     "execution_count": 84,
     "metadata": {},
     "output_type": "execute_result"
    }
   ],
   "source": [
    "year_cyl.index.levels"
   ]
  },
  {
   "cell_type": "markdown",
   "id": "025cbc1a",
   "metadata": {},
   "source": [
    "The above cell is showing all possible results for model_year and for cylinders"
   ]
  },
  {
   "cell_type": "code",
   "execution_count": 91,
   "id": "293e87b5",
   "metadata": {},
   "outputs": [
    {
     "data": {
      "text/html": [
       "<div>\n",
       "<style scoped>\n",
       "    .dataframe tbody tr th:only-of-type {\n",
       "        vertical-align: middle;\n",
       "    }\n",
       "\n",
       "    .dataframe tbody tr th {\n",
       "        vertical-align: top;\n",
       "    }\n",
       "\n",
       "    .dataframe thead th {\n",
       "        text-align: right;\n",
       "    }\n",
       "</style>\n",
       "<table border=\"1\" class=\"dataframe\">\n",
       "  <thead>\n",
       "    <tr style=\"text-align: right;\">\n",
       "      <th></th>\n",
       "      <th>mpg</th>\n",
       "      <th>displacement</th>\n",
       "      <th>weight</th>\n",
       "      <th>acceleration</th>\n",
       "      <th>origin</th>\n",
       "    </tr>\n",
       "    <tr>\n",
       "      <th>cylinders</th>\n",
       "      <th></th>\n",
       "      <th></th>\n",
       "      <th></th>\n",
       "      <th></th>\n",
       "      <th></th>\n",
       "    </tr>\n",
       "  </thead>\n",
       "  <tbody>\n",
       "    <tr>\n",
       "      <th>4</th>\n",
       "      <td>25.3</td>\n",
       "      <td>107.0</td>\n",
       "      <td>2292.6</td>\n",
       "      <td>16.0</td>\n",
       "      <td>2.3</td>\n",
       "    </tr>\n",
       "    <tr>\n",
       "      <th>6</th>\n",
       "      <td>20.5</td>\n",
       "      <td>199.0</td>\n",
       "      <td>2710.5</td>\n",
       "      <td>15.5</td>\n",
       "      <td>1.0</td>\n",
       "    </tr>\n",
       "    <tr>\n",
       "      <th>8</th>\n",
       "      <td>14.1</td>\n",
       "      <td>367.6</td>\n",
       "      <td>3940.1</td>\n",
       "      <td>11.2</td>\n",
       "      <td>1.0</td>\n",
       "    </tr>\n",
       "  </tbody>\n",
       "</table>\n",
       "</div>"
      ],
      "text/plain": [
       "            mpg  displacement  weight  acceleration  origin\n",
       "cylinders                                                  \n",
       "4          25.3         107.0  2292.6          16.0     2.3\n",
       "6          20.5         199.0  2710.5          15.5     1.0\n",
       "8          14.1         367.6  3940.1          11.2     1.0"
      ]
     },
     "execution_count": 91,
     "metadata": {},
     "output_type": "execute_result"
    }
   ],
   "source": [
    "year_cyl.loc[70]"
   ]
  },
  {
   "cell_type": "markdown",
   "id": "fd2094ef",
   "metadata": {},
   "source": [
    "The above call applies the .loc[] to the outermost layer of the index. Since the outermost layer is model_year, it is showing the entire table for year_cyl where the model year is 70\n",
    "\n",
    "----------------------------\n",
    "\n",
    "If I want to single out just 4 cylinder cars from 1970, how do I do that? Let's see . . . "
   ]
  },
  {
   "cell_type": "code",
   "execution_count": 95,
   "id": "a8172de0",
   "metadata": {},
   "outputs": [
    {
     "ename": "SyntaxError",
     "evalue": "unexpected EOF while parsing (2942296494.py, line 1)",
     "output_type": "error",
     "traceback": [
      "\u001b[1;36m  Input \u001b[1;32mIn [95]\u001b[1;36m\u001b[0m\n\u001b[1;33m    year_cyl[[year_cyl.loc[70].loc[4]]\u001b[0m\n\u001b[1;37m                                      ^\u001b[0m\n\u001b[1;31mSyntaxError\u001b[0m\u001b[1;31m:\u001b[0m unexpected EOF while parsing\n"
     ]
    }
   ],
   "source": [
    "year_cyl[[year_cyl.loc[70].loc[4]]"
   ]
  },
  {
   "cell_type": "markdown",
   "id": "942f9904",
   "metadata": {},
   "source": [
    "Clearly this does not work. I can't just pass in .loc[70] to get the year 1970 within a larger .loc[4] in order to get 4 cylinder cars from 1970"
   ]
  },
  {
   "cell_type": "code",
   "execution_count": 101,
   "id": "1856ecaf",
   "metadata": {},
   "outputs": [
    {
     "data": {
      "text/plain": [
       "mpg               25.3\n",
       "displacement     107.0\n",
       "weight          2292.6\n",
       "acceleration      16.0\n",
       "origin             2.3\n",
       "Name: 4, dtype: float64"
      ]
     },
     "execution_count": 101,
     "metadata": {},
     "output_type": "execute_result"
    }
   ],
   "source": [
    "year_cyl.loc[70].loc[4]"
   ]
  },
  {
   "cell_type": "markdown",
   "id": "e09142f1",
   "metadata": {},
   "source": [
    "Ahh, yes. The answer is surprisingly simple. You simply tack on another .loc[] to the fist one, and you don't have to do any janky nesting of code."
   ]
  },
  {
   "cell_type": "code",
   "execution_count": 104,
   "id": "ba810830",
   "metadata": {},
   "outputs": [
    {
     "data": {
      "text/html": [
       "<div>\n",
       "<style scoped>\n",
       "    .dataframe tbody tr th:only-of-type {\n",
       "        vertical-align: middle;\n",
       "    }\n",
       "\n",
       "    .dataframe tbody tr th {\n",
       "        vertical-align: top;\n",
       "    }\n",
       "\n",
       "    .dataframe thead th {\n",
       "        text-align: right;\n",
       "    }\n",
       "</style>\n",
       "<table border=\"1\" class=\"dataframe\">\n",
       "  <thead>\n",
       "    <tr style=\"text-align: right;\">\n",
       "      <th></th>\n",
       "      <th></th>\n",
       "      <th>mpg</th>\n",
       "      <th>displacement</th>\n",
       "      <th>weight</th>\n",
       "      <th>acceleration</th>\n",
       "      <th>origin</th>\n",
       "    </tr>\n",
       "    <tr>\n",
       "      <th>model_year</th>\n",
       "      <th>cylinders</th>\n",
       "      <th></th>\n",
       "      <th></th>\n",
       "      <th></th>\n",
       "      <th></th>\n",
       "      <th></th>\n",
       "    </tr>\n",
       "  </thead>\n",
       "  <tbody>\n",
       "    <tr>\n",
       "      <th rowspan=\"3\" valign=\"top\">70</th>\n",
       "      <th>4</th>\n",
       "      <td>25.3</td>\n",
       "      <td>107.0</td>\n",
       "      <td>2292.6</td>\n",
       "      <td>16.0</td>\n",
       "      <td>2.3</td>\n",
       "    </tr>\n",
       "    <tr>\n",
       "      <th>6</th>\n",
       "      <td>20.5</td>\n",
       "      <td>199.0</td>\n",
       "      <td>2710.5</td>\n",
       "      <td>15.5</td>\n",
       "      <td>1.0</td>\n",
       "    </tr>\n",
       "    <tr>\n",
       "      <th>8</th>\n",
       "      <td>14.1</td>\n",
       "      <td>367.6</td>\n",
       "      <td>3940.1</td>\n",
       "      <td>11.2</td>\n",
       "      <td>1.0</td>\n",
       "    </tr>\n",
       "    <tr>\n",
       "      <th rowspan=\"2\" valign=\"top\">82</th>\n",
       "      <th>4</th>\n",
       "      <td>32.1</td>\n",
       "      <td>118.6</td>\n",
       "      <td>2402.3</td>\n",
       "      <td>16.7</td>\n",
       "      <td>1.7</td>\n",
       "    </tr>\n",
       "    <tr>\n",
       "      <th>6</th>\n",
       "      <td>28.3</td>\n",
       "      <td>225.0</td>\n",
       "      <td>2931.7</td>\n",
       "      <td>16.0</td>\n",
       "      <td>1.0</td>\n",
       "    </tr>\n",
       "  </tbody>\n",
       "</table>\n",
       "</div>"
      ],
      "text/plain": [
       "                       mpg  displacement  weight  acceleration  origin\n",
       "model_year cylinders                                                  \n",
       "70         4          25.3         107.0  2292.6          16.0     2.3\n",
       "           6          20.5         199.0  2710.5          15.5     1.0\n",
       "           8          14.1         367.6  3940.1          11.2     1.0\n",
       "82         4          32.1         118.6  2402.3          16.7     1.7\n",
       "           6          28.3         225.0  2931.7          16.0     1.0"
      ]
     },
     "execution_count": 104,
     "metadata": {},
     "output_type": "execute_result"
    }
   ],
   "source": [
    "year_cyl.loc[[70, 82]]"
   ]
  },
  {
   "cell_type": "markdown",
   "id": "c7beb547",
   "metadata": {},
   "source": [
    "You can pass in more than one argument for model_year and get back multiple model years. If you want to find all 4 cylinder cars from 1970 and 1982, the method I used earlier doesn't work:"
   ]
  },
  {
   "cell_type": "code",
   "execution_count": 108,
   "id": "a2098c32",
   "metadata": {},
   "outputs": [],
   "source": [
    "#year_cyl.loc[[70, 82]].loc[4]"
   ]
  },
  {
   "cell_type": "markdown",
   "id": "171ea40e",
   "metadata": {},
   "source": [
    "This is despite the fact that there are 4 cylinder cars for both model years. I think if you wanted to find this information, you'd probably be better off just going back to the original table instead of trying to work around the limitations of a MultiIndex. Just for practice, I'll try to find information for 4 cylinder cars from 1970 and 1982:"
   ]
  },
  {
   "cell_type": "code",
   "execution_count": 121,
   "id": "61570896",
   "metadata": {},
   "outputs": [
    {
     "data": {
      "text/html": [
       "<div>\n",
       "<style scoped>\n",
       "    .dataframe tbody tr th:only-of-type {\n",
       "        vertical-align: middle;\n",
       "    }\n",
       "\n",
       "    .dataframe tbody tr th {\n",
       "        vertical-align: top;\n",
       "    }\n",
       "\n",
       "    .dataframe thead th {\n",
       "        text-align: right;\n",
       "    }\n",
       "</style>\n",
       "<table border=\"1\" class=\"dataframe\">\n",
       "  <thead>\n",
       "    <tr style=\"text-align: right;\">\n",
       "      <th></th>\n",
       "      <th>cylinders</th>\n",
       "      <th>model_year</th>\n",
       "    </tr>\n",
       "  </thead>\n",
       "  <tbody>\n",
       "    <tr>\n",
       "      <th>0</th>\n",
       "      <td>8</td>\n",
       "      <td>70</td>\n",
       "    </tr>\n",
       "    <tr>\n",
       "      <th>1</th>\n",
       "      <td>8</td>\n",
       "      <td>70</td>\n",
       "    </tr>\n",
       "    <tr>\n",
       "      <th>2</th>\n",
       "      <td>8</td>\n",
       "      <td>70</td>\n",
       "    </tr>\n",
       "    <tr>\n",
       "      <th>3</th>\n",
       "      <td>8</td>\n",
       "      <td>70</td>\n",
       "    </tr>\n",
       "  </tbody>\n",
       "</table>\n",
       "</div>"
      ],
      "text/plain": [
       "   cylinders  model_year\n",
       "0          8          70\n",
       "1          8          70\n",
       "2          8          70\n",
       "3          8          70"
      ]
     },
     "execution_count": 121,
     "metadata": {},
     "output_type": "execute_result"
    }
   ],
   "source": [
    "cyl4 = df[['cylinders', 'model_year']]\n",
    "cyl4.head(4)"
   ]
  },
  {
   "cell_type": "code",
   "execution_count": 129,
   "id": "2a4af7f4",
   "metadata": {},
   "outputs": [],
   "source": [
    "#cyl4_1 = cyl4['model_year'] == 70 or 82 and cyl4['cylinders'] == 4"
   ]
  },
  {
   "cell_type": "markdown",
   "id": "a8c9c766",
   "metadata": {},
   "source": [
    "Clearly this is not the right method for doing this, and cyl4_1 isn't a good variable name anyway, since it's confusing, I only used it for the sake of the test"
   ]
  },
  {
   "cell_type": "code",
   "execution_count": 138,
   "id": "e3416d34",
   "metadata": {},
   "outputs": [
    {
     "data": {
      "text/html": [
       "<div>\n",
       "<style scoped>\n",
       "    .dataframe tbody tr th:only-of-type {\n",
       "        vertical-align: middle;\n",
       "    }\n",
       "\n",
       "    .dataframe tbody tr th {\n",
       "        vertical-align: top;\n",
       "    }\n",
       "\n",
       "    .dataframe thead th {\n",
       "        text-align: right;\n",
       "    }\n",
       "</style>\n",
       "<table border=\"1\" class=\"dataframe\">\n",
       "  <thead>\n",
       "    <tr style=\"text-align: right;\">\n",
       "      <th></th>\n",
       "      <th>cylinders</th>\n",
       "      <th>model_year</th>\n",
       "    </tr>\n",
       "  </thead>\n",
       "  <tbody>\n",
       "  </tbody>\n",
       "</table>\n",
       "</div>"
      ],
      "text/plain": [
       "Empty DataFrame\n",
       "Columns: [cylinders, model_year]\n",
       "Index: []"
      ]
     },
     "execution_count": 138,
     "metadata": {},
     "output_type": "execute_result"
    }
   ],
   "source": [
    "cyl4[((cyl4['model_year'] == 70) | (cyl4['model_year'] == 82) & cyl4['cylinders'] == 4)]"
   ]
  },
  {
   "cell_type": "markdown",
   "id": "f529f0f2",
   "metadata": {},
   "source": [
    "This approach also doesn't work . . ."
   ]
  },
  {
   "cell_type": "code",
   "execution_count": 147,
   "id": "e4d7df85",
   "metadata": {},
   "outputs": [],
   "source": [
    "cyl4_types = cyl4.dtypes"
   ]
  },
  {
   "cell_type": "code",
   "execution_count": 148,
   "id": "b7cd8232",
   "metadata": {},
   "outputs": [
    {
     "data": {
      "text/plain": [
       "cylinders     int64\n",
       "model_year    int64\n",
       "dtype: object"
      ]
     },
     "execution_count": 148,
     "metadata": {},
     "output_type": "execute_result"
    }
   ],
   "source": [
    "cyl4_types"
   ]
  },
  {
   "cell_type": "markdown",
   "id": "896553cc",
   "metadata": {},
   "source": [
    "cylinders is an int . . . "
   ]
  },
  {
   "cell_type": "markdown",
   "id": "df5c88aa",
   "metadata": {},
   "source": [
    "---------------------------\n",
    "\n",
    "I'm going to go back to the assignment I was working on:"
   ]
  },
  {
   "cell_type": "code",
   "execution_count": 151,
   "id": "e8bcf90f",
   "metadata": {},
   "outputs": [
    {
     "data": {
      "text/html": [
       "<div>\n",
       "<style scoped>\n",
       "    .dataframe tbody tr th:only-of-type {\n",
       "        vertical-align: middle;\n",
       "    }\n",
       "\n",
       "    .dataframe tbody tr th {\n",
       "        vertical-align: top;\n",
       "    }\n",
       "\n",
       "    .dataframe thead th {\n",
       "        text-align: right;\n",
       "    }\n",
       "</style>\n",
       "<table border=\"1\" class=\"dataframe\">\n",
       "  <thead>\n",
       "    <tr style=\"text-align: right;\">\n",
       "      <th></th>\n",
       "      <th></th>\n",
       "      <th>mpg</th>\n",
       "      <th>displacement</th>\n",
       "      <th>weight</th>\n",
       "      <th>acceleration</th>\n",
       "      <th>origin</th>\n",
       "    </tr>\n",
       "    <tr>\n",
       "      <th>model_year</th>\n",
       "      <th>cylinders</th>\n",
       "      <th></th>\n",
       "      <th></th>\n",
       "      <th></th>\n",
       "      <th></th>\n",
       "      <th></th>\n",
       "    </tr>\n",
       "  </thead>\n",
       "  <tbody>\n",
       "    <tr>\n",
       "      <th rowspan=\"3\" valign=\"top\">70</th>\n",
       "      <th>4</th>\n",
       "      <td>25.3</td>\n",
       "      <td>107.0</td>\n",
       "      <td>2292.6</td>\n",
       "      <td>16.0</td>\n",
       "      <td>2.3</td>\n",
       "    </tr>\n",
       "    <tr>\n",
       "      <th>6</th>\n",
       "      <td>20.5</td>\n",
       "      <td>199.0</td>\n",
       "      <td>2710.5</td>\n",
       "      <td>15.5</td>\n",
       "      <td>1.0</td>\n",
       "    </tr>\n",
       "    <tr>\n",
       "      <th>8</th>\n",
       "      <td>14.1</td>\n",
       "      <td>367.6</td>\n",
       "      <td>3940.1</td>\n",
       "      <td>11.2</td>\n",
       "      <td>1.0</td>\n",
       "    </tr>\n",
       "    <tr>\n",
       "      <th rowspan=\"2\" valign=\"top\">82</th>\n",
       "      <th>4</th>\n",
       "      <td>32.1</td>\n",
       "      <td>118.6</td>\n",
       "      <td>2402.3</td>\n",
       "      <td>16.7</td>\n",
       "      <td>1.7</td>\n",
       "    </tr>\n",
       "    <tr>\n",
       "      <th>6</th>\n",
       "      <td>28.3</td>\n",
       "      <td>225.0</td>\n",
       "      <td>2931.7</td>\n",
       "      <td>16.0</td>\n",
       "      <td>1.0</td>\n",
       "    </tr>\n",
       "  </tbody>\n",
       "</table>\n",
       "</div>"
      ],
      "text/plain": [
       "                       mpg  displacement  weight  acceleration  origin\n",
       "model_year cylinders                                                  \n",
       "70         4          25.3         107.0  2292.6          16.0     2.3\n",
       "           6          20.5         199.0  2710.5          15.5     1.0\n",
       "           8          14.1         367.6  3940.1          11.2     1.0\n",
       "82         4          32.1         118.6  2402.3          16.7     1.7\n",
       "           6          28.3         225.0  2931.7          16.0     1.0"
      ]
     },
     "execution_count": 151,
     "metadata": {},
     "output_type": "execute_result"
    }
   ],
   "source": [
    "year_cyl.loc[[70,82]]"
   ]
  },
  {
   "cell_type": "code",
   "execution_count": 154,
   "id": "5cbab51f",
   "metadata": {},
   "outputs": [
    {
     "data": {
      "text/plain": [
       "mpg               25.3\n",
       "displacement     107.0\n",
       "weight          2292.6\n",
       "acceleration      16.0\n",
       "origin             2.3\n",
       "Name: (70, 4), dtype: float64"
      ]
     },
     "execution_count": 154,
     "metadata": {},
     "output_type": "execute_result"
    }
   ],
   "source": [
    " year_cyl.loc[(70,4)]"
   ]
  },
  {
   "cell_type": "markdown",
   "id": "f6bc4211",
   "metadata": {},
   "source": [
    "This seems like the same thing as doing:"
   ]
  },
  {
   "cell_type": "code",
   "execution_count": 155,
   "id": "0412108d",
   "metadata": {},
   "outputs": [
    {
     "data": {
      "text/plain": [
       "mpg               25.3\n",
       "displacement     107.0\n",
       "weight          2292.6\n",
       "acceleration      16.0\n",
       "origin             2.3\n",
       "Name: 4, dtype: float64"
      ]
     },
     "execution_count": 155,
     "metadata": {},
     "output_type": "execute_result"
    }
   ],
   "source": [
    "year_cyl.loc[70].loc[4]"
   ]
  },
  {
   "cell_type": "markdown",
   "id": "9eaf6d56",
   "metadata": {},
   "source": [
    "It's very clear how to find the data for 4 cylinder cars from 1970 or cars from 1970 and 1982 for example, but it's not clear how to find cars from 1970 and 1982 which are 4 cylinders, for instance. "
   ]
  },
  {
   "cell_type": "code",
   "execution_count": 163,
   "id": "245a2dbf",
   "metadata": {},
   "outputs": [
    {
     "data": {
      "text/html": [
       "<div>\n",
       "<style scoped>\n",
       "    .dataframe tbody tr th:only-of-type {\n",
       "        vertical-align: middle;\n",
       "    }\n",
       "\n",
       "    .dataframe tbody tr th {\n",
       "        vertical-align: top;\n",
       "    }\n",
       "\n",
       "    .dataframe thead th {\n",
       "        text-align: right;\n",
       "    }\n",
       "</style>\n",
       "<table border=\"1\" class=\"dataframe\">\n",
       "  <thead>\n",
       "    <tr style=\"text-align: right;\">\n",
       "      <th></th>\n",
       "      <th>mpg</th>\n",
       "      <th>displacement</th>\n",
       "      <th>weight</th>\n",
       "      <th>acceleration</th>\n",
       "      <th>origin</th>\n",
       "    </tr>\n",
       "    <tr>\n",
       "      <th>cylinders</th>\n",
       "      <th></th>\n",
       "      <th></th>\n",
       "      <th></th>\n",
       "      <th></th>\n",
       "      <th></th>\n",
       "    </tr>\n",
       "  </thead>\n",
       "  <tbody>\n",
       "    <tr>\n",
       "      <th>4</th>\n",
       "      <td>25.3</td>\n",
       "      <td>107.0</td>\n",
       "      <td>2292.6</td>\n",
       "      <td>16.0</td>\n",
       "      <td>2.3</td>\n",
       "    </tr>\n",
       "    <tr>\n",
       "      <th>6</th>\n",
       "      <td>20.5</td>\n",
       "      <td>199.0</td>\n",
       "      <td>2710.5</td>\n",
       "      <td>15.5</td>\n",
       "      <td>1.0</td>\n",
       "    </tr>\n",
       "    <tr>\n",
       "      <th>8</th>\n",
       "      <td>14.1</td>\n",
       "      <td>367.6</td>\n",
       "      <td>3940.1</td>\n",
       "      <td>11.2</td>\n",
       "      <td>1.0</td>\n",
       "    </tr>\n",
       "  </tbody>\n",
       "</table>\n",
       "</div>"
      ],
      "text/plain": [
       "            mpg  displacement  weight  acceleration  origin\n",
       "cylinders                                                  \n",
       "4          25.3         107.0  2292.6          16.0     2.3\n",
       "6          20.5         199.0  2710.5          15.5     1.0\n",
       "8          14.1         367.6  3940.1          11.2     1.0"
      ]
     },
     "execution_count": 163,
     "metadata": {},
     "output_type": "execute_result"
    }
   ],
   "source": [
    "year_cyl.xs(key = 70, level = 'model_year')"
   ]
  },
  {
   "cell_type": "markdown",
   "id": "cd45dbf0",
   "metadata": {},
   "source": [
    "This is a good way of grabbing things based on the iside index:"
   ]
  },
  {
   "cell_type": "code",
   "execution_count": 173,
   "id": "cc7e3b52",
   "metadata": {},
   "outputs": [
    {
     "data": {
      "text/html": [
       "<div>\n",
       "<style scoped>\n",
       "    .dataframe tbody tr th:only-of-type {\n",
       "        vertical-align: middle;\n",
       "    }\n",
       "\n",
       "    .dataframe tbody tr th {\n",
       "        vertical-align: top;\n",
       "    }\n",
       "\n",
       "    .dataframe thead th {\n",
       "        text-align: right;\n",
       "    }\n",
       "</style>\n",
       "<table border=\"1\" class=\"dataframe\">\n",
       "  <thead>\n",
       "    <tr style=\"text-align: right;\">\n",
       "      <th></th>\n",
       "      <th>mpg</th>\n",
       "      <th>displacement</th>\n",
       "      <th>weight</th>\n",
       "      <th>acceleration</th>\n",
       "      <th>origin</th>\n",
       "    </tr>\n",
       "    <tr>\n",
       "      <th>model_year</th>\n",
       "      <th></th>\n",
       "      <th></th>\n",
       "      <th></th>\n",
       "      <th></th>\n",
       "      <th></th>\n",
       "    </tr>\n",
       "  </thead>\n",
       "  <tbody>\n",
       "    <tr>\n",
       "      <th>70</th>\n",
       "      <td>25.3</td>\n",
       "      <td>107.0</td>\n",
       "      <td>2292.6</td>\n",
       "      <td>16.0</td>\n",
       "      <td>2.3</td>\n",
       "    </tr>\n",
       "    <tr>\n",
       "      <th>82</th>\n",
       "      <td>32.1</td>\n",
       "      <td>118.6</td>\n",
       "      <td>2402.3</td>\n",
       "      <td>16.7</td>\n",
       "      <td>1.7</td>\n",
       "    </tr>\n",
       "  </tbody>\n",
       "</table>\n",
       "</div>"
      ],
      "text/plain": [
       "             mpg  displacement  weight  acceleration  origin\n",
       "model_year                                                  \n",
       "70          25.3         107.0  2292.6          16.0     2.3\n",
       "82          32.1         118.6  2402.3          16.7     1.7"
      ]
     },
     "execution_count": 173,
     "metadata": {},
     "output_type": "execute_result"
    }
   ],
   "source": [
    "year_cyl.xs(key = 4, level = 'cylinders').loc[[70, 82]]"
   ]
  },
  {
   "cell_type": "markdown",
   "id": "6486d1bc",
   "metadata": {},
   "source": [
    "Finally ^ I was able to find a way to show 4 cylinder cars for the years 1970 and 1982. If I was trying to present this as an actual dataframe for some reason, I'd have to add a new column called cylinders again so that it would be more clear:"
   ]
  },
  {
   "cell_type": "code",
   "execution_count": 175,
   "id": "72857016",
   "metadata": {},
   "outputs": [],
   "source": [
    "cyl4 = year_cyl.xs(key = 4, level = 'cylinders').loc[[70, 82]]"
   ]
  },
  {
   "cell_type": "markdown",
   "id": "b72415c9",
   "metadata": {},
   "source": [
    "I'm just going to do this later and continue with the lecture"
   ]
  },
  {
   "cell_type": "code",
   "execution_count": 181,
   "id": "16f20d51",
   "metadata": {},
   "outputs": [
    {
     "data": {
      "text/html": [
       "<div>\n",
       "<style scoped>\n",
       "    .dataframe tbody tr th:only-of-type {\n",
       "        vertical-align: middle;\n",
       "    }\n",
       "\n",
       "    .dataframe tbody tr th {\n",
       "        vertical-align: top;\n",
       "    }\n",
       "\n",
       "    .dataframe thead th {\n",
       "        text-align: right;\n",
       "    }\n",
       "</style>\n",
       "<table border=\"1\" class=\"dataframe\">\n",
       "  <thead>\n",
       "    <tr style=\"text-align: right;\">\n",
       "      <th></th>\n",
       "      <th>mpg</th>\n",
       "      <th>displacement</th>\n",
       "      <th>weight</th>\n",
       "      <th>acceleration</th>\n",
       "      <th>origin</th>\n",
       "    </tr>\n",
       "    <tr>\n",
       "      <th>model_year</th>\n",
       "      <th></th>\n",
       "      <th></th>\n",
       "      <th></th>\n",
       "      <th></th>\n",
       "      <th></th>\n",
       "    </tr>\n",
       "  </thead>\n",
       "  <tbody>\n",
       "    <tr>\n",
       "      <th>70</th>\n",
       "      <td>25.3</td>\n",
       "      <td>107.0</td>\n",
       "      <td>2292.6</td>\n",
       "      <td>16.0</td>\n",
       "      <td>2.3</td>\n",
       "    </tr>\n",
       "    <tr>\n",
       "      <th>71</th>\n",
       "      <td>27.5</td>\n",
       "      <td>101.8</td>\n",
       "      <td>2056.4</td>\n",
       "      <td>17.0</td>\n",
       "      <td>1.9</td>\n",
       "    </tr>\n",
       "    <tr>\n",
       "      <th>72</th>\n",
       "      <td>23.4</td>\n",
       "      <td>111.5</td>\n",
       "      <td>2382.6</td>\n",
       "      <td>17.2</td>\n",
       "      <td>1.9</td>\n",
       "    </tr>\n",
       "    <tr>\n",
       "      <th>73</th>\n",
       "      <td>22.7</td>\n",
       "      <td>109.3</td>\n",
       "      <td>2338.1</td>\n",
       "      <td>17.1</td>\n",
       "      <td>2.0</td>\n",
       "    </tr>\n",
       "    <tr>\n",
       "      <th>74</th>\n",
       "      <td>27.8</td>\n",
       "      <td>96.5</td>\n",
       "      <td>2151.5</td>\n",
       "      <td>16.4</td>\n",
       "      <td>2.2</td>\n",
       "    </tr>\n",
       "  </tbody>\n",
       "</table>\n",
       "</div>"
      ],
      "text/plain": [
       "             mpg  displacement  weight  acceleration  origin\n",
       "model_year                                                  \n",
       "70          25.3         107.0  2292.6          16.0     2.3\n",
       "71          27.5         101.8  2056.4          17.0     1.9\n",
       "72          23.4         111.5  2382.6          17.2     1.9\n",
       "73          22.7         109.3  2338.1          17.1     2.0\n",
       "74          27.8          96.5  2151.5          16.4     2.2"
      ]
     },
     "execution_count": 181,
     "metadata": {},
     "output_type": "execute_result"
    }
   ],
   "source": [
    "four_cyl = year_cyl.xs(key = 4, level = 'cylinders')\n",
    "four_cyl.head()"
   ]
  },
  {
   "cell_type": "markdown",
   "id": "0af1d49c",
   "metadata": {},
   "source": [
    "Aparently, the best practice is to create a new variable called four_cyl in this case so that it's clear that you're looking at just four cylinders now, since the table no longer contains that index"
   ]
  },
  {
   "cell_type": "markdown",
   "id": "7bc5c02c",
   "metadata": {},
   "source": [
    "If you want to find just 6 and 8 cylinders, it's not possible to do this using .xs since it can only take 1 argument in key = x. It's therefore best to do that filtering before using .groupby(), and create a new table with just 6 and 8 cylinders:"
   ]
  },
  {
   "cell_type": "code",
   "execution_count": 184,
   "id": "19c112d0",
   "metadata": {},
   "outputs": [],
   "source": [
    "cyl_6_8 = df[df['cylinders'].isin([6, 8])]"
   ]
  },
  {
   "cell_type": "code",
   "execution_count": 189,
   "id": "da20029c",
   "metadata": {},
   "outputs": [
    {
     "data": {
      "text/html": [
       "<div>\n",
       "<style scoped>\n",
       "    .dataframe tbody tr th:only-of-type {\n",
       "        vertical-align: middle;\n",
       "    }\n",
       "\n",
       "    .dataframe tbody tr th {\n",
       "        vertical-align: top;\n",
       "    }\n",
       "\n",
       "    .dataframe thead th {\n",
       "        text-align: right;\n",
       "    }\n",
       "</style>\n",
       "<table border=\"1\" class=\"dataframe\">\n",
       "  <thead>\n",
       "    <tr style=\"text-align: right;\">\n",
       "      <th></th>\n",
       "      <th></th>\n",
       "      <th>mpg</th>\n",
       "      <th>displacement</th>\n",
       "      <th>weight</th>\n",
       "      <th>acceleration</th>\n",
       "      <th>origin</th>\n",
       "    </tr>\n",
       "    <tr>\n",
       "      <th>model_year</th>\n",
       "      <th>cylinders</th>\n",
       "      <th></th>\n",
       "      <th></th>\n",
       "      <th></th>\n",
       "      <th></th>\n",
       "      <th></th>\n",
       "    </tr>\n",
       "  </thead>\n",
       "  <tbody>\n",
       "    <tr>\n",
       "      <th rowspan=\"2\" valign=\"top\">70</th>\n",
       "      <th>6</th>\n",
       "      <td>20.5</td>\n",
       "      <td>199.0</td>\n",
       "      <td>2710.5</td>\n",
       "      <td>15.5</td>\n",
       "      <td>1.0</td>\n",
       "    </tr>\n",
       "    <tr>\n",
       "      <th>8</th>\n",
       "      <td>14.1</td>\n",
       "      <td>367.6</td>\n",
       "      <td>3940.1</td>\n",
       "      <td>11.2</td>\n",
       "      <td>1.0</td>\n",
       "    </tr>\n",
       "    <tr>\n",
       "      <th rowspan=\"2\" valign=\"top\">71</th>\n",
       "      <th>6</th>\n",
       "      <td>18.0</td>\n",
       "      <td>243.4</td>\n",
       "      <td>3171.9</td>\n",
       "      <td>14.8</td>\n",
       "      <td>1.0</td>\n",
       "    </tr>\n",
       "    <tr>\n",
       "      <th>8</th>\n",
       "      <td>13.4</td>\n",
       "      <td>371.7</td>\n",
       "      <td>4537.7</td>\n",
       "      <td>12.2</td>\n",
       "      <td>1.0</td>\n",
       "    </tr>\n",
       "  </tbody>\n",
       "</table>\n",
       "</div>"
      ],
      "text/plain": [
       "                       mpg  displacement  weight  acceleration  origin\n",
       "model_year cylinders                                                  \n",
       "70         6          20.5         199.0  2710.5          15.5     1.0\n",
       "           8          14.1         367.6  3940.1          11.2     1.0\n",
       "71         6          18.0         243.4  3171.9          14.8     1.0\n",
       "           8          13.4         371.7  4537.7          12.2     1.0"
      ]
     },
     "execution_count": 189,
     "metadata": {},
     "output_type": "execute_result"
    }
   ],
   "source": [
    "cyl_6_8.groupby(['model_year', 'cylinders']).mean().round(1).head(4)"
   ]
  },
  {
   "cell_type": "markdown",
   "id": "a0e9735e",
   "metadata": {},
   "source": [
    "Now if I wanted to look at 8 cylinder cars from 1970:"
   ]
  },
  {
   "cell_type": "code",
   "execution_count": 196,
   "id": "4e55acaf",
   "metadata": {},
   "outputs": [],
   "source": [
    "#cyl_6_8.xs(key = 8, level = 'cylinders')"
   ]
  },
  {
   "cell_type": "markdown",
   "id": "7fb013f2",
   "metadata": {},
   "source": [
    "The error says that cyl_6_8 is not a MultiIndex. Let's see:"
   ]
  },
  {
   "cell_type": "code",
   "execution_count": 200,
   "id": "07f9f917",
   "metadata": {},
   "outputs": [
    {
     "data": {
      "text/plain": [
       "Int64Index([  0,   1,   2,   3,   4,   5,   6,   7,   8,   9,\n",
       "            ...\n",
       "            360, 361, 362, 363, 364, 365, 366, 386, 387, 389],\n",
       "           dtype='int64', length=187)"
      ]
     },
     "execution_count": 200,
     "metadata": {},
     "output_type": "execute_result"
    }
   ],
   "source": [
    "cyl_6_8.index"
   ]
  },
  {
   "cell_type": "markdown",
   "id": "2cb048db",
   "metadata": {},
   "source": [
    "Ok, it's not a MultiIndex."
   ]
  },
  {
   "cell_type": "code",
   "execution_count": 205,
   "id": "27ce758a",
   "metadata": {},
   "outputs": [
    {
     "data": {
      "text/plain": [
       "mpg                               13.0\n",
       "cylinders                            8\n",
       "displacement                     400.0\n",
       "horsepower                         190\n",
       "weight                            4422\n",
       "acceleration                      12.5\n",
       "model_year                          72\n",
       "origin                               1\n",
       "name            chrysler newport royal\n",
       "Name: 70, dtype: object"
      ]
     },
     "execution_count": 205,
     "metadata": {},
     "output_type": "execute_result"
    }
   ],
   "source": [
    "cyl_6_8[cyl_6_8['cylinders'].isin([8])].loc[70]"
   ]
  },
  {
   "cell_type": "markdown",
   "id": "28486606",
   "metadata": {},
   "source": [
    "Incredible. This is presumably the only 8 cylinder car from 1970 on this list."
   ]
  },
  {
   "cell_type": "code",
   "execution_count": 208,
   "id": "a41a2090",
   "metadata": {},
   "outputs": [
    {
     "data": {
      "text/html": [
       "<div>\n",
       "<style scoped>\n",
       "    .dataframe tbody tr th:only-of-type {\n",
       "        vertical-align: middle;\n",
       "    }\n",
       "\n",
       "    .dataframe tbody tr th {\n",
       "        vertical-align: top;\n",
       "    }\n",
       "\n",
       "    .dataframe thead th {\n",
       "        text-align: right;\n",
       "    }\n",
       "</style>\n",
       "<table border=\"1\" class=\"dataframe\">\n",
       "  <thead>\n",
       "    <tr style=\"text-align: right;\">\n",
       "      <th></th>\n",
       "      <th></th>\n",
       "      <th>mpg</th>\n",
       "      <th>displacement</th>\n",
       "      <th>weight</th>\n",
       "      <th>acceleration</th>\n",
       "      <th>origin</th>\n",
       "    </tr>\n",
       "    <tr>\n",
       "      <th>cylinders</th>\n",
       "      <th>model_year</th>\n",
       "      <th></th>\n",
       "      <th></th>\n",
       "      <th></th>\n",
       "      <th></th>\n",
       "      <th></th>\n",
       "    </tr>\n",
       "  </thead>\n",
       "  <tbody>\n",
       "    <tr>\n",
       "      <th>4</th>\n",
       "      <th>70</th>\n",
       "      <td>25.3</td>\n",
       "      <td>107.0</td>\n",
       "      <td>2292.6</td>\n",
       "      <td>16.0</td>\n",
       "      <td>2.3</td>\n",
       "    </tr>\n",
       "    <tr>\n",
       "      <th>6</th>\n",
       "      <th>70</th>\n",
       "      <td>20.5</td>\n",
       "      <td>199.0</td>\n",
       "      <td>2710.5</td>\n",
       "      <td>15.5</td>\n",
       "      <td>1.0</td>\n",
       "    </tr>\n",
       "    <tr>\n",
       "      <th>8</th>\n",
       "      <th>70</th>\n",
       "      <td>14.1</td>\n",
       "      <td>367.6</td>\n",
       "      <td>3940.1</td>\n",
       "      <td>11.2</td>\n",
       "      <td>1.0</td>\n",
       "    </tr>\n",
       "    <tr>\n",
       "      <th>4</th>\n",
       "      <th>71</th>\n",
       "      <td>27.5</td>\n",
       "      <td>101.8</td>\n",
       "      <td>2056.4</td>\n",
       "      <td>17.0</td>\n",
       "      <td>1.9</td>\n",
       "    </tr>\n",
       "    <tr>\n",
       "      <th>6</th>\n",
       "      <th>71</th>\n",
       "      <td>18.0</td>\n",
       "      <td>243.4</td>\n",
       "      <td>3171.9</td>\n",
       "      <td>14.8</td>\n",
       "      <td>1.0</td>\n",
       "    </tr>\n",
       "  </tbody>\n",
       "</table>\n",
       "</div>"
      ],
      "text/plain": [
       "                       mpg  displacement  weight  acceleration  origin\n",
       "cylinders model_year                                                  \n",
       "4         70          25.3         107.0  2292.6          16.0     2.3\n",
       "6         70          20.5         199.0  2710.5          15.5     1.0\n",
       "8         70          14.1         367.6  3940.1          11.2     1.0\n",
       "4         71          27.5         101.8  2056.4          17.0     1.9\n",
       "6         71          18.0         243.4  3171.9          14.8     1.0"
      ]
     },
     "execution_count": 208,
     "metadata": {},
     "output_type": "execute_result"
    }
   ],
   "source": [
    "year_cyl.swaplevel().head()"
   ]
  },
  {
   "cell_type": "code",
   "execution_count": 214,
   "id": "8ec31467",
   "metadata": {},
   "outputs": [
    {
     "data": {
      "text/html": [
       "<div>\n",
       "<style scoped>\n",
       "    .dataframe tbody tr th:only-of-type {\n",
       "        vertical-align: middle;\n",
       "    }\n",
       "\n",
       "    .dataframe tbody tr th {\n",
       "        vertical-align: top;\n",
       "    }\n",
       "\n",
       "    .dataframe thead th {\n",
       "        text-align: right;\n",
       "    }\n",
       "</style>\n",
       "<table border=\"1\" class=\"dataframe\">\n",
       "  <thead>\n",
       "    <tr style=\"text-align: right;\">\n",
       "      <th></th>\n",
       "      <th></th>\n",
       "      <th>mpg</th>\n",
       "      <th>displacement</th>\n",
       "      <th>weight</th>\n",
       "      <th>acceleration</th>\n",
       "      <th>origin</th>\n",
       "    </tr>\n",
       "    <tr>\n",
       "      <th>model_year</th>\n",
       "      <th>cylinders</th>\n",
       "      <th></th>\n",
       "      <th></th>\n",
       "      <th></th>\n",
       "      <th></th>\n",
       "      <th></th>\n",
       "    </tr>\n",
       "  </thead>\n",
       "  <tbody>\n",
       "    <tr>\n",
       "      <th rowspan=\"2\" valign=\"top\">82</th>\n",
       "      <th>6</th>\n",
       "      <td>28.3</td>\n",
       "      <td>225.0</td>\n",
       "      <td>2931.7</td>\n",
       "      <td>16.0</td>\n",
       "      <td>1.0</td>\n",
       "    </tr>\n",
       "    <tr>\n",
       "      <th>4</th>\n",
       "      <td>32.1</td>\n",
       "      <td>118.6</td>\n",
       "      <td>2402.3</td>\n",
       "      <td>16.7</td>\n",
       "      <td>1.7</td>\n",
       "    </tr>\n",
       "    <tr>\n",
       "      <th rowspan=\"3\" valign=\"top\">81</th>\n",
       "      <th>8</th>\n",
       "      <td>26.6</td>\n",
       "      <td>350.0</td>\n",
       "      <td>3725.0</td>\n",
       "      <td>19.0</td>\n",
       "      <td>1.0</td>\n",
       "    </tr>\n",
       "    <tr>\n",
       "      <th>6</th>\n",
       "      <td>23.4</td>\n",
       "      <td>184.0</td>\n",
       "      <td>3093.6</td>\n",
       "      <td>15.4</td>\n",
       "      <td>1.7</td>\n",
       "    </tr>\n",
       "    <tr>\n",
       "      <th>4</th>\n",
       "      <td>32.8</td>\n",
       "      <td>108.9</td>\n",
       "      <td>2275.5</td>\n",
       "      <td>16.5</td>\n",
       "      <td>2.1</td>\n",
       "    </tr>\n",
       "  </tbody>\n",
       "</table>\n",
       "</div>"
      ],
      "text/plain": [
       "                       mpg  displacement  weight  acceleration  origin\n",
       "model_year cylinders                                                  \n",
       "82         6          28.3         225.0  2931.7          16.0     1.0\n",
       "           4          32.1         118.6  2402.3          16.7     1.7\n",
       "81         8          26.6         350.0  3725.0          19.0     1.0\n",
       "           6          23.4         184.0  3093.6          15.4     1.7\n",
       "           4          32.8         108.9  2275.5          16.5     2.1"
      ]
     },
     "execution_count": 214,
     "metadata": {},
     "output_type": "execute_result"
    }
   ],
   "source": [
    "year_cyl.sort_index(level = 'model_year', ascending = False).head()"
   ]
  },
  {
   "cell_type": "markdown",
   "id": "59942291",
   "metadata": {},
   "source": [
    "Now it's in descending order for model_year"
   ]
  },
  {
   "cell_type": "code",
   "execution_count": 216,
   "id": "7e0f7a19",
   "metadata": {},
   "outputs": [
    {
     "data": {
      "text/html": [
       "<div>\n",
       "<style scoped>\n",
       "    .dataframe tbody tr th:only-of-type {\n",
       "        vertical-align: middle;\n",
       "    }\n",
       "\n",
       "    .dataframe tbody tr th {\n",
       "        vertical-align: top;\n",
       "    }\n",
       "\n",
       "    .dataframe thead th {\n",
       "        text-align: right;\n",
       "    }\n",
       "</style>\n",
       "<table border=\"1\" class=\"dataframe\">\n",
       "  <thead>\n",
       "    <tr style=\"text-align: right;\">\n",
       "      <th></th>\n",
       "      <th></th>\n",
       "      <th>mpg</th>\n",
       "      <th>displacement</th>\n",
       "      <th>weight</th>\n",
       "      <th>acceleration</th>\n",
       "      <th>origin</th>\n",
       "    </tr>\n",
       "    <tr>\n",
       "      <th>model_year</th>\n",
       "      <th>cylinders</th>\n",
       "      <th></th>\n",
       "      <th></th>\n",
       "      <th></th>\n",
       "      <th></th>\n",
       "      <th></th>\n",
       "    </tr>\n",
       "  </thead>\n",
       "  <tbody>\n",
       "    <tr>\n",
       "      <th>81</th>\n",
       "      <th>8</th>\n",
       "      <td>26.6</td>\n",
       "      <td>350.0</td>\n",
       "      <td>3725.0</td>\n",
       "      <td>19.0</td>\n",
       "      <td>1.0</td>\n",
       "    </tr>\n",
       "    <tr>\n",
       "      <th>79</th>\n",
       "      <th>8</th>\n",
       "      <td>18.6</td>\n",
       "      <td>321.4</td>\n",
       "      <td>3862.9</td>\n",
       "      <td>15.4</td>\n",
       "      <td>1.0</td>\n",
       "    </tr>\n",
       "    <tr>\n",
       "      <th>78</th>\n",
       "      <th>8</th>\n",
       "      <td>19.0</td>\n",
       "      <td>300.8</td>\n",
       "      <td>3563.3</td>\n",
       "      <td>13.3</td>\n",
       "      <td>1.0</td>\n",
       "    </tr>\n",
       "    <tr>\n",
       "      <th>77</th>\n",
       "      <th>8</th>\n",
       "      <td>16.0</td>\n",
       "      <td>335.8</td>\n",
       "      <td>4177.5</td>\n",
       "      <td>13.7</td>\n",
       "      <td>1.0</td>\n",
       "    </tr>\n",
       "    <tr>\n",
       "      <th>76</th>\n",
       "      <th>8</th>\n",
       "      <td>14.7</td>\n",
       "      <td>324.0</td>\n",
       "      <td>4064.7</td>\n",
       "      <td>13.2</td>\n",
       "      <td>1.0</td>\n",
       "    </tr>\n",
       "  </tbody>\n",
       "</table>\n",
       "</div>"
      ],
      "text/plain": [
       "                       mpg  displacement  weight  acceleration  origin\n",
       "model_year cylinders                                                  \n",
       "81         8          26.6         350.0  3725.0          19.0     1.0\n",
       "79         8          18.6         321.4  3862.9          15.4     1.0\n",
       "78         8          19.0         300.8  3563.3          13.3     1.0\n",
       "77         8          16.0         335.8  4177.5          13.7     1.0\n",
       "76         8          14.7         324.0  4064.7          13.2     1.0"
      ]
     },
     "execution_count": 216,
     "metadata": {},
     "output_type": "execute_result"
    }
   ],
   "source": [
    "year_cyl.sort_index(level = 'cylinders', ascending = False).head()"
   ]
  },
  {
   "cell_type": "markdown",
   "id": "cd995862",
   "metadata": {},
   "source": [
    "^ The grouping together of model year and cylinders done by .groupby() has now been broken in order to sort cylinders this way"
   ]
  },
  {
   "cell_type": "markdown",
   "id": "e05b6a2d",
   "metadata": {},
   "source": [
    "-------------------\n",
    "Now for an 'advanced feature' which can be useful in certain specific circumstances:"
   ]
  },
  {
   "cell_type": "code",
   "execution_count": 218,
   "id": "a7f27b16",
   "metadata": {},
   "outputs": [
    {
     "data": {
      "text/html": [
       "<div>\n",
       "<style scoped>\n",
       "    .dataframe tbody tr th:only-of-type {\n",
       "        vertical-align: middle;\n",
       "    }\n",
       "\n",
       "    .dataframe tbody tr th {\n",
       "        vertical-align: top;\n",
       "    }\n",
       "\n",
       "    .dataframe thead th {\n",
       "        text-align: right;\n",
       "    }\n",
       "</style>\n",
       "<table border=\"1\" class=\"dataframe\">\n",
       "  <thead>\n",
       "    <tr style=\"text-align: right;\">\n",
       "      <th></th>\n",
       "      <th>mpg</th>\n",
       "      <th>cylinders</th>\n",
       "      <th>displacement</th>\n",
       "      <th>horsepower</th>\n",
       "      <th>weight</th>\n",
       "      <th>acceleration</th>\n",
       "      <th>model_year</th>\n",
       "      <th>origin</th>\n",
       "      <th>name</th>\n",
       "    </tr>\n",
       "  </thead>\n",
       "  <tbody>\n",
       "    <tr>\n",
       "      <th>0</th>\n",
       "      <td>18.0</td>\n",
       "      <td>8</td>\n",
       "      <td>307.0</td>\n",
       "      <td>130</td>\n",
       "      <td>3504</td>\n",
       "      <td>12.0</td>\n",
       "      <td>70</td>\n",
       "      <td>1</td>\n",
       "      <td>chevrolet chevelle malibu</td>\n",
       "    </tr>\n",
       "    <tr>\n",
       "      <th>1</th>\n",
       "      <td>15.0</td>\n",
       "      <td>8</td>\n",
       "      <td>350.0</td>\n",
       "      <td>165</td>\n",
       "      <td>3693</td>\n",
       "      <td>11.5</td>\n",
       "      <td>70</td>\n",
       "      <td>1</td>\n",
       "      <td>buick skylark 320</td>\n",
       "    </tr>\n",
       "    <tr>\n",
       "      <th>2</th>\n",
       "      <td>18.0</td>\n",
       "      <td>8</td>\n",
       "      <td>318.0</td>\n",
       "      <td>150</td>\n",
       "      <td>3436</td>\n",
       "      <td>11.0</td>\n",
       "      <td>70</td>\n",
       "      <td>1</td>\n",
       "      <td>plymouth satellite</td>\n",
       "    </tr>\n",
       "  </tbody>\n",
       "</table>\n",
       "</div>"
      ],
      "text/plain": [
       "    mpg  cylinders  displacement horsepower  weight  acceleration  model_year  \\\n",
       "0  18.0          8         307.0        130    3504          12.0          70   \n",
       "1  15.0          8         350.0        165    3693          11.5          70   \n",
       "2  18.0          8         318.0        150    3436          11.0          70   \n",
       "\n",
       "   origin                       name  \n",
       "0       1  chevrolet chevelle malibu  \n",
       "1       1          buick skylark 320  \n",
       "2       1         plymouth satellite  "
      ]
     },
     "execution_count": 218,
     "metadata": {},
     "output_type": "execute_result"
    }
   ],
   "source": [
    "df.head(3)"
   ]
  },
  {
   "cell_type": "markdown",
   "id": "201fb0d8",
   "metadata": {},
   "source": [
    "The feature is the .agg() call which Patrick told me about yesterday. Now to see how it actually works:"
   ]
  },
  {
   "cell_type": "code",
   "execution_count": 219,
   "id": "19e68a12",
   "metadata": {},
   "outputs": [
    {
     "name": "stderr",
     "output_type": "stream",
     "text": [
      "C:\\Users\\User\\AppData\\Local\\Temp\\ipykernel_7028\\3018422473.py:1: FutureWarning: ['horsepower', 'name'] did not aggregate successfully. If any error is raised this will raise in a future version of pandas. Drop these columns/ops to avoid this warning.\n",
      "  df.agg(['std', 'mean'])\n"
     ]
    },
    {
     "data": {
      "text/html": [
       "<div>\n",
       "<style scoped>\n",
       "    .dataframe tbody tr th:only-of-type {\n",
       "        vertical-align: middle;\n",
       "    }\n",
       "\n",
       "    .dataframe tbody tr th {\n",
       "        vertical-align: top;\n",
       "    }\n",
       "\n",
       "    .dataframe thead th {\n",
       "        text-align: right;\n",
       "    }\n",
       "</style>\n",
       "<table border=\"1\" class=\"dataframe\">\n",
       "  <thead>\n",
       "    <tr style=\"text-align: right;\">\n",
       "      <th></th>\n",
       "      <th>mpg</th>\n",
       "      <th>cylinders</th>\n",
       "      <th>displacement</th>\n",
       "      <th>weight</th>\n",
       "      <th>acceleration</th>\n",
       "      <th>model_year</th>\n",
       "      <th>origin</th>\n",
       "    </tr>\n",
       "  </thead>\n",
       "  <tbody>\n",
       "    <tr>\n",
       "      <th>std</th>\n",
       "      <td>7.815984</td>\n",
       "      <td>1.701004</td>\n",
       "      <td>104.269838</td>\n",
       "      <td>846.841774</td>\n",
       "      <td>2.757689</td>\n",
       "      <td>3.697627</td>\n",
       "      <td>0.802055</td>\n",
       "    </tr>\n",
       "    <tr>\n",
       "      <th>mean</th>\n",
       "      <td>23.514573</td>\n",
       "      <td>5.454774</td>\n",
       "      <td>193.425879</td>\n",
       "      <td>2970.424623</td>\n",
       "      <td>15.568090</td>\n",
       "      <td>76.010050</td>\n",
       "      <td>1.572864</td>\n",
       "    </tr>\n",
       "  </tbody>\n",
       "</table>\n",
       "</div>"
      ],
      "text/plain": [
       "            mpg  cylinders  displacement       weight  acceleration  \\\n",
       "std    7.815984   1.701004    104.269838   846.841774      2.757689   \n",
       "mean  23.514573   5.454774    193.425879  2970.424623     15.568090   \n",
       "\n",
       "      model_year    origin  \n",
       "std     3.697627  0.802055  \n",
       "mean   76.010050  1.572864  "
      ]
     },
     "execution_count": 219,
     "metadata": {},
     "output_type": "execute_result"
    }
   ],
   "source": [
    "df.agg(['std', 'mean'])"
   ]
  },
  {
   "cell_type": "markdown",
   "id": "c23a2ee8",
   "metadata": {},
   "source": [
    "Ok, so part of the value of this .agg() call is that you can find the .mean() of one column, the .std() of another column, etc. For some columns, like model_year, taking the sum will never make sense. Maybe it would make sense to use .min() or .max() instead, but at the same time, you want to use .sum() for something else."
   ]
  },
  {
   "cell_type": "code",
   "execution_count": 222,
   "id": "01ce3b8b",
   "metadata": {},
   "outputs": [
    {
     "name": "stderr",
     "output_type": "stream",
     "text": [
      "C:\\Users\\User\\AppData\\Local\\Temp\\ipykernel_7028\\2226939133.py:1: FutureWarning: ['horsepower', 'name'] did not aggregate successfully. If any error is raised this will raise in a future version of pandas. Drop these columns/ops to avoid this warning.\n",
      "  df.agg(['std', 'mean'])[['mpg', 'weight']].round(2)\n"
     ]
    },
    {
     "data": {
      "text/html": [
       "<div>\n",
       "<style scoped>\n",
       "    .dataframe tbody tr th:only-of-type {\n",
       "        vertical-align: middle;\n",
       "    }\n",
       "\n",
       "    .dataframe tbody tr th {\n",
       "        vertical-align: top;\n",
       "    }\n",
       "\n",
       "    .dataframe thead th {\n",
       "        text-align: right;\n",
       "    }\n",
       "</style>\n",
       "<table border=\"1\" class=\"dataframe\">\n",
       "  <thead>\n",
       "    <tr style=\"text-align: right;\">\n",
       "      <th></th>\n",
       "      <th>mpg</th>\n",
       "      <th>weight</th>\n",
       "    </tr>\n",
       "  </thead>\n",
       "  <tbody>\n",
       "    <tr>\n",
       "      <th>std</th>\n",
       "      <td>7.82</td>\n",
       "      <td>846.84</td>\n",
       "    </tr>\n",
       "    <tr>\n",
       "      <th>mean</th>\n",
       "      <td>23.51</td>\n",
       "      <td>2970.42</td>\n",
       "    </tr>\n",
       "  </tbody>\n",
       "</table>\n",
       "</div>"
      ],
      "text/plain": [
       "        mpg   weight\n",
       "std    7.82   846.84\n",
       "mean  23.51  2970.42"
      ]
     },
     "execution_count": 222,
     "metadata": {},
     "output_type": "execute_result"
    }
   ],
   "source": [
    "df.agg(['std', 'mean'])[['mpg', 'weight']].round(2)"
   ]
  },
  {
   "cell_type": "markdown",
   "id": "5939f06e",
   "metadata": {},
   "source": [
    "Since columns like origin don't make sense in this case, it's possible to filter in only useful columns using the above method ^\n",
    "\n",
    "Now for the actual advanced method:\n",
    "\n",
    "This uses a dictionary to apply certain statistics to certain columns"
   ]
  },
  {
   "cell_type": "code",
   "execution_count": 225,
   "id": "c88610c0",
   "metadata": {},
   "outputs": [
    {
     "data": {
      "text/html": [
       "<div>\n",
       "<style scoped>\n",
       "    .dataframe tbody tr th:only-of-type {\n",
       "        vertical-align: middle;\n",
       "    }\n",
       "\n",
       "    .dataframe tbody tr th {\n",
       "        vertical-align: top;\n",
       "    }\n",
       "\n",
       "    .dataframe thead th {\n",
       "        text-align: right;\n",
       "    }\n",
       "</style>\n",
       "<table border=\"1\" class=\"dataframe\">\n",
       "  <thead>\n",
       "    <tr style=\"text-align: right;\">\n",
       "      <th></th>\n",
       "      <th>mpg</th>\n",
       "      <th>weight</th>\n",
       "    </tr>\n",
       "  </thead>\n",
       "  <tbody>\n",
       "    <tr>\n",
       "      <th>max</th>\n",
       "      <td>46.60</td>\n",
       "      <td>NaN</td>\n",
       "    </tr>\n",
       "    <tr>\n",
       "      <th>mean</th>\n",
       "      <td>23.51</td>\n",
       "      <td>2970.42</td>\n",
       "    </tr>\n",
       "    <tr>\n",
       "      <th>std</th>\n",
       "      <td>NaN</td>\n",
       "      <td>846.84</td>\n",
       "    </tr>\n",
       "  </tbody>\n",
       "</table>\n",
       "</div>"
      ],
      "text/plain": [
       "        mpg   weight\n",
       "max   46.60      NaN\n",
       "mean  23.51  2970.42\n",
       "std     NaN   846.84"
      ]
     },
     "execution_count": 225,
     "metadata": {},
     "output_type": "execute_result"
    }
   ],
   "source": [
    "df.agg({'mpg': ['max', 'mean'], 'weight' : ['mean', 'std']}).round(2)"
   ]
  },
  {
   "cell_type": "markdown",
   "id": "6993010a",
   "metadata": {},
   "source": [
    "Now is an interesting case ^ where you'd have to fill in those missing points if this was going to be used by an AI. But probably you simply wouldn't use this method in the first place since it seems like it's more intended for general visualization of data in order to make it more clear by removing pointless data"
   ]
  },
  {
   "cell_type": "markdown",
   "id": "53341495",
   "metadata": {},
   "source": [
    "Ok, the lecture man basically confirmed this. It's mostly a feature you'd use to remove pointless data for a report, etc., and based on the fact that he said we'd never use it again in the course, I assume that you wouldn't do this with a machine learning project."
   ]
  },
  {
   "cell_type": "code",
   "execution_count": null,
   "id": "29762895",
   "metadata": {},
   "outputs": [],
   "source": []
  }
 ],
 "metadata": {
  "kernelspec": {
   "display_name": "Python 3 (ipykernel)",
   "language": "python",
   "name": "python3"
  },
  "language_info": {
   "codemirror_mode": {
    "name": "ipython",
    "version": 3
   },
   "file_extension": ".py",
   "mimetype": "text/x-python",
   "name": "python",
   "nbconvert_exporter": "python",
   "pygments_lexer": "ipython3",
   "version": "3.9.12"
  }
 },
 "nbformat": 4,
 "nbformat_minor": 5
}
