{
 "cells": [
  {
   "cell_type": "code",
   "execution_count": 1,
   "id": "0f53c9af",
   "metadata": {},
   "outputs": [],
   "source": [
    "import numpy as np\n",
    "import pandas as pd"
   ]
  },
  {
   "cell_type": "markdown",
   "id": "d27ced26",
   "metadata": {},
   "source": [
    "Lecture 35 isn't loading for some reason, so I'm going to skip to lecture 36 and then come back later."
   ]
  },
  {
   "cell_type": "markdown",
   "id": "261dab57",
   "metadata": {},
   "source": [
    "--------------\n",
    "The order of the tables passed in as the arguments is important: the first one is the left table, the second is the right"
   ]
  },
  {
   "cell_type": "code",
   "execution_count": null,
   "id": "dd564f65",
   "metadata": {},
   "outputs": [],
   "source": []
  }
 ],
 "metadata": {
  "kernelspec": {
   "display_name": "Python 3 (ipykernel)",
   "language": "python",
   "name": "python3"
  },
  "language_info": {
   "codemirror_mode": {
    "name": "ipython",
    "version": 3
   },
   "file_extension": ".py",
   "mimetype": "text/x-python",
   "name": "python",
   "nbconvert_exporter": "python",
   "pygments_lexer": "ipython3",
   "version": "3.9.12"
  }
 },
 "nbformat": 4,
 "nbformat_minor": 5
}
