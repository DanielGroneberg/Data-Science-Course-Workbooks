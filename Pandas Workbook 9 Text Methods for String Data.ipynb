{
 "cells": [
  {
   "cell_type": "code",
   "execution_count": 1,
   "id": "0af142fb",
   "metadata": {},
   "outputs": [],
   "source": [
    "import pandas as pd\n",
    "import numpy as np"
   ]
  },
  {
   "cell_type": "markdown",
   "id": "a801ac5b",
   "metadata": {},
   "source": [
    "At some point, I want to find a way to input text into Pandas and locate all the section headers in the document by their lack of punctuation at the end, i.e.:\n",
    "\n",
    "\" . . . the end of the first section.\n",
    "\n",
    "Header for Section Two\n",
    "\n",
    "This is section two . . . \""
   ]
  },
  {
   "cell_type": "markdown",
   "id": "631d6cc6",
   "metadata": {},
   "source": [
    "This would make it easier to create TTS audiobooks from text, since I currently have to manually find all the section headers and insert punctuation in order for the TTS software to read the headers more slowly. \n",
    "\n",
    "On to the lecture:"
   ]
  },
  {
   "cell_type": "code",
   "execution_count": 3,
   "id": "7a0b875a",
   "metadata": {},
   "outputs": [],
   "source": [
    "email = 'jose@email.com'"
   ]
  },
  {
   "cell_type": "code",
   "execution_count": 4,
   "id": "a466fc4a",
   "metadata": {},
   "outputs": [
    {
     "data": {
      "text/plain": [
       "['jose', 'email.com']"
      ]
     },
     "execution_count": 4,
     "metadata": {},
     "output_type": "execute_result"
    }
   ],
   "source": [
    "email.split('@')"
   ]
  },
  {
   "cell_type": "markdown",
   "id": "cb6268ce",
   "metadata": {},
   "source": [
    "Now we can get domains and email providers seperately"
   ]
  },
  {
   "cell_type": "code",
   "execution_count": 5,
   "id": "d2094878",
   "metadata": {},
   "outputs": [],
   "source": [
    "names = pd.Series(['andrew', 'bobo', 'claire', 'david', '5'])"
   ]
  },
  {
   "cell_type": "code",
   "execution_count": 6,
   "id": "7f335511",
   "metadata": {},
   "outputs": [
    {
     "data": {
      "text/plain": [
       "0    andrew\n",
       "1      bobo\n",
       "2    claire\n",
       "3     david\n",
       "4         5\n",
       "dtype: object"
      ]
     },
     "execution_count": 6,
     "metadata": {},
     "output_type": "execute_result"
    }
   ],
   "source": [
    "names"
   ]
  },
  {
   "cell_type": "markdown",
   "id": "50a33ca8",
   "metadata": {},
   "source": [
    "Note: 5 is still a string, not an int"
   ]
  },
  {
   "cell_type": "code",
   "execution_count": 7,
   "id": "b4e8e1fa",
   "metadata": {},
   "outputs": [
    {
     "data": {
      "text/plain": [
       "0    ANDREW\n",
       "1      BOBO\n",
       "2    CLAIRE\n",
       "3     DAVID\n",
       "4         5\n",
       "dtype: object"
      ]
     },
     "execution_count": 7,
     "metadata": {},
     "output_type": "execute_result"
    }
   ],
   "source": [
    "names.str.upper()"
   ]
  },
  {
   "cell_type": "code",
   "execution_count": 8,
   "id": "c14db982",
   "metadata": {},
   "outputs": [
    {
     "data": {
      "text/plain": [
       "0    andrew\n",
       "1      bobo\n",
       "2    claire\n",
       "3     david\n",
       "4         5\n",
       "dtype: object"
      ]
     },
     "execution_count": 8,
     "metadata": {},
     "output_type": "execute_result"
    }
   ],
   "source": [
    "names"
   ]
  },
  {
   "cell_type": "code",
   "execution_count": 9,
   "id": "dbab0219",
   "metadata": {},
   "outputs": [
    {
     "data": {
      "text/plain": [
       "False"
      ]
     },
     "execution_count": 9,
     "metadata": {},
     "output_type": "execute_result"
    }
   ],
   "source": [
    "email.isdigit()"
   ]
  },
  {
   "cell_type": "code",
   "execution_count": 10,
   "id": "f7988223",
   "metadata": {},
   "outputs": [
    {
     "data": {
      "text/plain": [
       "True"
      ]
     },
     "execution_count": 10,
     "metadata": {},
     "output_type": "execute_result"
    }
   ],
   "source": [
    "'5'.isdigit()"
   ]
  },
  {
   "cell_type": "markdown",
   "id": "824c1f31",
   "metadata": {},
   "source": [
    "Even though 5 is a string, the isdigit() method says that it's a digit"
   ]
  },
  {
   "cell_type": "code",
   "execution_count": 11,
   "id": "65798cf4",
   "metadata": {},
   "outputs": [
    {
     "data": {
      "text/plain": [
       "0    False\n",
       "1    False\n",
       "2    False\n",
       "3    False\n",
       "4     True\n",
       "dtype: bool"
      ]
     },
     "execution_count": 11,
     "metadata": {},
     "output_type": "execute_result"
    }
   ],
   "source": [
    "names.str.isdigit()"
   ]
  },
  {
   "cell_type": "code",
   "execution_count": 20,
   "id": "6b329f05",
   "metadata": {},
   "outputs": [],
   "source": [
    "tech_finance = ['GOOG,APPL,AMZN', 'JPM,BAC,GS']"
   ]
  },
  {
   "cell_type": "code",
   "execution_count": 21,
   "id": "d4debe45",
   "metadata": {},
   "outputs": [
    {
     "data": {
      "text/plain": [
       "2"
      ]
     },
     "execution_count": 21,
     "metadata": {},
     "output_type": "execute_result"
    }
   ],
   "source": [
    "len(tech_finance)"
   ]
  },
  {
   "cell_type": "code",
   "execution_count": 22,
   "id": "700eef42",
   "metadata": {},
   "outputs": [],
   "source": [
    "tickers = pd.Series(tech_finance)"
   ]
  },
  {
   "cell_type": "code",
   "execution_count": 23,
   "id": "c878363b",
   "metadata": {},
   "outputs": [
    {
     "data": {
      "text/plain": [
       "0    GOOG,APPL,AMZN\n",
       "1        JPM,BAC,GS\n",
       "dtype: object"
      ]
     },
     "execution_count": 23,
     "metadata": {},
     "output_type": "execute_result"
    }
   ],
   "source": [
    "tickers"
   ]
  },
  {
   "cell_type": "code",
   "execution_count": 24,
   "id": "6a7537cf",
   "metadata": {},
   "outputs": [
    {
     "data": {
      "text/plain": [
       "0    [GOOG, APPL, AMZN]\n",
       "1        [JPM, BAC, GS]\n",
       "dtype: object"
      ]
     },
     "execution_count": 24,
     "metadata": {},
     "output_type": "execute_result"
    }
   ],
   "source": [
    "tickers.str.split(',')"
   ]
  },
  {
   "cell_type": "code",
   "execution_count": 25,
   "id": "b9a245ea",
   "metadata": {},
   "outputs": [],
   "source": [
    "tech = 'GOOG,APPL,AMZN'"
   ]
  },
  {
   "cell_type": "code",
   "execution_count": 26,
   "id": "0d577da8",
   "metadata": {},
   "outputs": [
    {
     "data": {
      "text/plain": [
       "'GOOG'"
      ]
     },
     "execution_count": 26,
     "metadata": {},
     "output_type": "execute_result"
    }
   ],
   "source": [
    "tech.split(',')[0]"
   ]
  },
  {
   "cell_type": "code",
   "execution_count": 27,
   "id": "f61317bb",
   "metadata": {},
   "outputs": [
    {
     "data": {
      "text/plain": [
       "0    GOOG\n",
       "1     JPM\n",
       "dtype: object"
      ]
     },
     "execution_count": 27,
     "metadata": {},
     "output_type": "execute_result"
    }
   ],
   "source": [
    "tickers.str.split(',').str[0]"
   ]
  },
  {
   "cell_type": "markdown",
   "id": "469e205f",
   "metadata": {},
   "source": [
    "Now it's only reporting the first items after the ',' split. \n",
    "\n",
    "Now making three columns:"
   ]
  },
  {
   "cell_type": "code",
   "execution_count": 29,
   "id": "45ecdfc5",
   "metadata": {},
   "outputs": [
    {
     "data": {
      "text/html": [
       "<div>\n",
       "<style scoped>\n",
       "    .dataframe tbody tr th:only-of-type {\n",
       "        vertical-align: middle;\n",
       "    }\n",
       "\n",
       "    .dataframe tbody tr th {\n",
       "        vertical-align: top;\n",
       "    }\n",
       "\n",
       "    .dataframe thead th {\n",
       "        text-align: right;\n",
       "    }\n",
       "</style>\n",
       "<table border=\"1\" class=\"dataframe\">\n",
       "  <thead>\n",
       "    <tr style=\"text-align: right;\">\n",
       "      <th></th>\n",
       "      <th>0</th>\n",
       "      <th>1</th>\n",
       "      <th>2</th>\n",
       "    </tr>\n",
       "  </thead>\n",
       "  <tbody>\n",
       "    <tr>\n",
       "      <th>0</th>\n",
       "      <td>GOOG</td>\n",
       "      <td>APPL</td>\n",
       "      <td>AMZN</td>\n",
       "    </tr>\n",
       "    <tr>\n",
       "      <th>1</th>\n",
       "      <td>JPM</td>\n",
       "      <td>BAC</td>\n",
       "      <td>GS</td>\n",
       "    </tr>\n",
       "  </tbody>\n",
       "</table>\n",
       "</div>"
      ],
      "text/plain": [
       "      0     1     2\n",
       "0  GOOG  APPL  AMZN\n",
       "1   JPM   BAC    GS"
      ]
     },
     "execution_count": 29,
     "metadata": {},
     "output_type": "execute_result"
    }
   ],
   "source": [
    "tickers.str.split(',', expand = True)"
   ]
  },
  {
   "cell_type": "code",
   "execution_count": 30,
   "id": "64c7bee8",
   "metadata": {},
   "outputs": [],
   "source": [
    "messy_names = pd.Series(['andrew  ','bo;bo','   claire   '])"
   ]
  },
  {
   "cell_type": "code",
   "execution_count": 31,
   "id": "638ffde4",
   "metadata": {},
   "outputs": [
    {
     "data": {
      "text/plain": [
       "0        andrew  \n",
       "1           bo;bo\n",
       "2       claire   \n",
       "dtype: object"
      ]
     },
     "execution_count": 31,
     "metadata": {},
     "output_type": "execute_result"
    }
   ],
   "source": [
    "messy_names"
   ]
  },
  {
   "cell_type": "code",
   "execution_count": 32,
   "id": "dbf547f4",
   "metadata": {},
   "outputs": [
    {
     "data": {
      "text/plain": [
       "'andrew  '"
      ]
     },
     "execution_count": 32,
     "metadata": {},
     "output_type": "execute_result"
    }
   ],
   "source": [
    "messy_names[0]"
   ]
  },
  {
   "cell_type": "code",
   "execution_count": 33,
   "id": "755b98a8",
   "metadata": {},
   "outputs": [
    {
     "data": {
      "text/plain": [
       "0        andrew  \n",
       "1            bobo\n",
       "2       claire   \n",
       "dtype: object"
      ]
     },
     "execution_count": 33,
     "metadata": {},
     "output_type": "execute_result"
    }
   ],
   "source": [
    "messy_names.str.replace(';','')"
   ]
  },
  {
   "cell_type": "code",
   "execution_count": 34,
   "id": "b78c879a",
   "metadata": {},
   "outputs": [
    {
     "data": {
      "text/plain": [
       "0    andrew\n",
       "1      bobo\n",
       "2    claire\n",
       "dtype: object"
      ]
     },
     "execution_count": 34,
     "metadata": {},
     "output_type": "execute_result"
    }
   ],
   "source": [
    "messy_names.str.replace(';','').str.strip()"
   ]
  },
  {
   "cell_type": "code",
   "execution_count": 35,
   "id": "122a4f7d",
   "metadata": {},
   "outputs": [
    {
     "data": {
      "text/plain": [
       "'andrew'"
      ]
     },
     "execution_count": 35,
     "metadata": {},
     "output_type": "execute_result"
    }
   ],
   "source": [
    "messy_names.str.replace(';','').str.strip()[0]"
   ]
  },
  {
   "cell_type": "code",
   "execution_count": 36,
   "id": "ba7472ad",
   "metadata": {},
   "outputs": [
    {
     "data": {
      "text/plain": [
       "0    Andrew\n",
       "1      Bobo\n",
       "2    Claire\n",
       "dtype: object"
      ]
     },
     "execution_count": 36,
     "metadata": {},
     "output_type": "execute_result"
    }
   ],
   "source": [
    "messy_names.str.replace(';','').str.strip().str.capitalize()"
   ]
  },
  {
   "cell_type": "markdown",
   "id": "825851e2",
   "metadata": {},
   "source": [
    "These three methods have now cleaned and standardized the table"
   ]
  },
  {
   "cell_type": "markdown",
   "id": "e1143e0b",
   "metadata": {},
   "source": [
    "Now doing it as a method:"
   ]
  },
  {
   "cell_type": "code",
   "execution_count": 37,
   "id": "26d21b4f",
   "metadata": {},
   "outputs": [],
   "source": [
    "def cleanup(name):\n",
    "    name = name.replace(';','')\n",
    "    name = name.strip()\n",
    "    name = name.capitalize()\n",
    "    return name"
   ]
  },
  {
   "cell_type": "code",
   "execution_count": 38,
   "id": "26bf4d23",
   "metadata": {},
   "outputs": [
    {
     "data": {
      "text/plain": [
       "0    Andrew\n",
       "1      Bobo\n",
       "2    Claire\n",
       "dtype: object"
      ]
     },
     "execution_count": 38,
     "metadata": {},
     "output_type": "execute_result"
    }
   ],
   "source": [
    "messy_names.apply(cleanup)"
   ]
  },
  {
   "cell_type": "markdown",
   "id": "ee5a9ba5",
   "metadata": {},
   "source": [
    "It seems like in general, the string method calls approach is best for relatively simple applications, but once if statements get involved, doing it as a function is required (it's impossible to do as a string method call in that case)"
   ]
  },
  {
   "cell_type": "markdown",
   "id": "14dd43ef",
   "metadata": {},
   "source": [
    "Which method is more efficent from a processing standpoing?"
   ]
  },
  {
   "cell_type": "markdown",
   "id": "1a5813f9",
   "metadata": {},
   "source": [
    "The string method function is slightly slower, although much faster if vectorized. However, this may not matter until your tables are extremely large"
   ]
  },
  {
   "cell_type": "code",
   "execution_count": null,
   "id": "9d8d5893",
   "metadata": {},
   "outputs": [],
   "source": []
  },
  {
   "cell_type": "code",
   "execution_count": null,
   "id": "ae2c6bfb",
   "metadata": {},
   "outputs": [],
   "source": []
  }
 ],
 "metadata": {
  "kernelspec": {
   "display_name": "Python 3 (ipykernel)",
   "language": "python",
   "name": "python3"
  },
  "language_info": {
   "codemirror_mode": {
    "name": "ipython",
    "version": 3
   },
   "file_extension": ".py",
   "mimetype": "text/x-python",
   "name": "python",
   "nbconvert_exporter": "python",
   "pygments_lexer": "ipython3",
   "version": "3.9.12"
  }
 },
 "nbformat": 4,
 "nbformat_minor": 5
}
