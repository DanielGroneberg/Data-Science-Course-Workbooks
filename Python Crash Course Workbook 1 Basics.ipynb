{
 "cells": [
  {
   "cell_type": "code",
   "execution_count": 4,
   "id": "96210921",
   "metadata": {},
   "outputs": [
    {
     "data": {
      "text/plain": [
       "0"
      ]
     },
     "execution_count": 4,
     "metadata": {},
     "output_type": "execute_result"
    }
   ],
   "source": [
    "6%2"
   ]
  },
  {
   "cell_type": "code",
   "execution_count": 5,
   "id": "1491551b",
   "metadata": {},
   "outputs": [
    {
     "data": {
      "text/plain": [
       "1"
      ]
     },
     "execution_count": 5,
     "metadata": {},
     "output_type": "execute_result"
    }
   ],
   "source": [
    "88%3"
   ]
  },
  {
   "cell_type": "code",
   "execution_count": 6,
   "id": "63f9cfa6",
   "metadata": {},
   "outputs": [
    {
     "data": {
      "text/plain": [
       "1"
      ]
     },
     "execution_count": 6,
     "metadata": {},
     "output_type": "execute_result"
    }
   ],
   "source": [
    "21%4"
   ]
  },
  {
   "cell_type": "code",
   "execution_count": 7,
   "id": "3676f127",
   "metadata": {},
   "outputs": [
    {
     "data": {
      "text/plain": [
       "'echo'"
      ]
     },
     "execution_count": 7,
     "metadata": {},
     "output_type": "execute_result"
    }
   ],
   "source": [
    "'echo'"
   ]
  },
  {
   "cell_type": "code",
   "execution_count": 8,
   "id": "109535ac",
   "metadata": {},
   "outputs": [
    {
     "name": "stdout",
     "output_type": "stream",
     "text": [
      "One: Nice, Two: There we go\n"
     ]
    }
   ],
   "source": [
    "print(\"One: {x}, Two: {y}\".format(x='Nice',y='There we go'))"
   ]
  },
  {
   "cell_type": "code",
   "execution_count": 9,
   "id": "953d3c5f",
   "metadata": {},
   "outputs": [
    {
     "name": "stdout",
     "output_type": "stream",
     "text": [
      "Try it: {x}\n"
     ]
    }
   ],
   "source": [
    "print(\"Try it: {x}\")"
   ]
  },
  {
   "cell_type": "code",
   "execution_count": 10,
   "id": "cd4213b7",
   "metadata": {},
   "outputs": [
    {
     "name": "stdout",
     "output_type": "stream",
     "text": [
      "the diameter of Earth is 12742 kilometers\n"
     ]
    }
   ],
   "source": [
    "print((\"the diameter of {y} is {x} kilometers\").format(y='Earth',x='12742'))"
   ]
  },
  {
   "cell_type": "code",
   "execution_count": 11,
   "id": "bf00903d",
   "metadata": {},
   "outputs": [],
   "source": [
    "mylist = ['a','b','c']"
   ]
  },
  {
   "cell_type": "code",
   "execution_count": 12,
   "id": "41cd7405",
   "metadata": {},
   "outputs": [
    {
     "data": {
      "text/plain": [
       "'a'"
      ]
     },
     "execution_count": 12,
     "metadata": {},
     "output_type": "execute_result"
    }
   ],
   "source": [
    "mylist[0]"
   ]
  },
  {
   "cell_type": "code",
   "execution_count": 13,
   "id": "c6b02d1f",
   "metadata": {},
   "outputs": [],
   "source": [
    "mylist[0]='whatever'"
   ]
  },
  {
   "cell_type": "code",
   "execution_count": 20,
   "id": "728ebef9",
   "metadata": {},
   "outputs": [
    {
     "data": {
      "text/plain": [
       "['coom', 'b', 'c']"
      ]
     },
     "execution_count": 20,
     "metadata": {},
     "output_type": "execute_result"
    }
   ],
   "source": [
    "mylist"
   ]
  },
  {
   "cell_type": "code",
   "execution_count": 21,
   "id": "c105ecd7",
   "metadata": {},
   "outputs": [],
   "source": [
    "mylist.append('d')"
   ]
  },
  {
   "cell_type": "code",
   "execution_count": 22,
   "id": "e0be9a19",
   "metadata": {},
   "outputs": [
    {
     "data": {
      "text/plain": [
       "['coom', 'b', 'c', 'd']"
      ]
     },
     "execution_count": 22,
     "metadata": {},
     "output_type": "execute_result"
    }
   ],
   "source": [
    "mylist"
   ]
  },
  {
   "cell_type": "code",
   "execution_count": 23,
   "id": "135fe0c0",
   "metadata": {},
   "outputs": [],
   "source": [
    "mylist=[1,2,[100,200]]"
   ]
  },
  {
   "cell_type": "code",
   "execution_count": 24,
   "id": "bcef7e16",
   "metadata": {},
   "outputs": [
    {
     "data": {
      "text/plain": [
       "False"
      ]
     },
     "execution_count": 24,
     "metadata": {},
     "output_type": "execute_result"
    }
   ],
   "source": [
    "'1'=='2'"
   ]
  },
  {
   "cell_type": "code",
   "execution_count": 28,
   "id": "7b889146",
   "metadata": {},
   "outputs": [
    {
     "name": "stdout",
     "output_type": "stream",
     "text": [
      "mem\n"
     ]
    }
   ],
   "source": [
    "if (1==1) or ('1'==1):\n",
    "    print('mem')"
   ]
  },
  {
   "cell_type": "code",
   "execution_count": 29,
   "id": "a6f608d0",
   "metadata": {},
   "outputs": [],
   "source": [
    "seq = [1,2,3,4,5]"
   ]
  },
  {
   "cell_type": "code",
   "execution_count": 33,
   "id": "6f953039",
   "metadata": {},
   "outputs": [
    {
     "name": "stdout",
     "output_type": "stream",
     "text": [
      "2\n",
      "3\n",
      "4\n",
      "5\n",
      "6\n"
     ]
    }
   ],
   "source": [
    "for sem in seq:\n",
    "    print(sem+1)"
   ]
  },
  {
   "cell_type": "code",
   "execution_count": 34,
   "id": "e9abf0c4",
   "metadata": {},
   "outputs": [
    {
     "ename": "SyntaxError",
     "evalue": "invalid syntax (2373202420.py, line 3)",
     "output_type": "error",
     "traceback": [
      "\u001b[1;36m  Input \u001b[1;32mIn [34]\u001b[1;36m\u001b[0m\n\u001b[1;33m    while sem > 1\u001b[0m\n\u001b[1;37m                 ^\u001b[0m\n\u001b[1;31mSyntaxError\u001b[0m\u001b[1;31m:\u001b[0m invalid syntax\n"
     ]
    }
   ],
   "source": [
    "for sem in seq:\n",
    "    print(sem+1)\n",
    "while sem > 1"
   ]
  },
  {
   "cell_type": "code",
   "execution_count": null,
   "id": "7a859ce7",
   "metadata": {},
   "outputs": [],
   "source": [
    "i = 1\n",
    "while i <5: \n",
    "    print('i is {}'.format(i))"
   ]
  },
  {
   "cell_type": "code",
   "execution_count": null,
   "id": "27dfa33f",
   "metadata": {},
   "outputs": [],
   "source": []
  },
  {
   "cell_type": "code",
   "execution_count": null,
   "id": "9a401789",
   "metadata": {},
   "outputs": [],
   "source": []
  },
  {
   "cell_type": "code",
   "execution_count": null,
   "id": "f806e236",
   "metadata": {},
   "outputs": [],
   "source": []
  }
 ],
 "metadata": {
  "kernelspec": {
   "display_name": "Python 3 (ipykernel)",
   "language": "python",
   "name": "python3"
  },
  "language_info": {
   "codemirror_mode": {
    "name": "ipython",
    "version": 3
   },
   "file_extension": ".py",
   "mimetype": "text/x-python",
   "name": "python",
   "nbconvert_exporter": "python",
   "pygments_lexer": "ipython3",
   "version": "3.9.12"
  }
 },
 "nbformat": 4,
 "nbformat_minor": 5
}
