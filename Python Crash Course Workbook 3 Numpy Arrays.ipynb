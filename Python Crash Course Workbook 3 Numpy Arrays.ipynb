{
 "cells": [
  {
   "cell_type": "code",
   "execution_count": 2,
   "id": "04acd4e0",
   "metadata": {},
   "outputs": [],
   "source": [
    "import numpy as np"
   ]
  },
  {
   "cell_type": "code",
   "execution_count": 3,
   "id": "458f1d1c",
   "metadata": {
    "scrolled": true
   },
   "outputs": [
    {
     "data": {
      "text/plain": [
       "list"
      ]
     },
     "execution_count": 3,
     "metadata": {},
     "output_type": "execute_result"
    }
   ],
   "source": [
    "mylist = [1,2,3]\n",
    "type(mylist)"
   ]
  },
  {
   "cell_type": "code",
   "execution_count": 4,
   "id": "cc719fd3",
   "metadata": {},
   "outputs": [
    {
     "data": {
      "text/plain": [
       "array([1, 2, 3])"
      ]
     },
     "execution_count": 4,
     "metadata": {},
     "output_type": "execute_result"
    }
   ],
   "source": [
    "np.array(mylist)"
   ]
  },
  {
   "cell_type": "code",
   "execution_count": 6,
   "id": "f547137d",
   "metadata": {},
   "outputs": [],
   "source": [
    "mem = np.array([1,2,3])"
   ]
  },
  {
   "cell_type": "code",
   "execution_count": 7,
   "id": "cefec78c",
   "metadata": {},
   "outputs": [
    {
     "data": {
      "text/plain": [
       "array([1, 2, 3])"
      ]
     },
     "execution_count": 7,
     "metadata": {},
     "output_type": "execute_result"
    }
   ],
   "source": [
    "mem"
   ]
  },
  {
   "cell_type": "code",
   "execution_count": 8,
   "id": "c0d1f998",
   "metadata": {},
   "outputs": [
    {
     "data": {
      "text/plain": [
       "[1, 2, 3]"
      ]
     },
     "execution_count": 8,
     "metadata": {},
     "output_type": "execute_result"
    }
   ],
   "source": [
    "mylist"
   ]
  },
  {
   "cell_type": "code",
   "execution_count": 9,
   "id": "ce36cd92",
   "metadata": {},
   "outputs": [],
   "source": [
    "myarr = np.array(mylist)"
   ]
  },
  {
   "cell_type": "code",
   "execution_count": 10,
   "id": "927fb4db",
   "metadata": {},
   "outputs": [
    {
     "data": {
      "text/plain": [
       "array([1, 2, 3])"
      ]
     },
     "execution_count": 10,
     "metadata": {},
     "output_type": "execute_result"
    }
   ],
   "source": [
    "myarr"
   ]
  },
  {
   "cell_type": "code",
   "execution_count": 12,
   "id": "e3dacd32",
   "metadata": {},
   "outputs": [
    {
     "data": {
      "text/plain": [
       "numpy.ndarray"
      ]
     },
     "execution_count": 12,
     "metadata": {},
     "output_type": "execute_result"
    }
   ],
   "source": [
    "type(myarr)"
   ]
  },
  {
   "cell_type": "code",
   "execution_count": 13,
   "id": "b0add28c",
   "metadata": {},
   "outputs": [],
   "source": [
    "my_matrix = [[1,2,3],[4,5,6],[7,8,9]]"
   ]
  },
  {
   "cell_type": "markdown",
   "id": "8776276c",
   "metadata": {},
   "source": [
    "This is now a multi-dimensional matrix. Each comma-seperated bracket [],[],[] contains comma-seperated data."
   ]
  },
  {
   "cell_type": "code",
   "execution_count": 14,
   "id": "5d995f32",
   "metadata": {
    "scrolled": true
   },
   "outputs": [
    {
     "data": {
      "text/plain": [
       "array([[1, 2, 3],\n",
       "       [4, 5, 6],\n",
       "       [7, 8, 9]])"
      ]
     },
     "execution_count": 14,
     "metadata": {},
     "output_type": "execute_result"
    }
   ],
   "source": [
    "np.array(my_matrix)"
   ]
  },
  {
   "cell_type": "markdown",
   "id": "532ee851",
   "metadata": {},
   "source": [
    "Each row is given to a [],[],[] list, and the collumns i.e. the contents of the row are the data contained in the sub-list"
   ]
  },
  {
   "cell_type": "code",
   "execution_count": 19,
   "id": "7a483f65",
   "metadata": {
    "scrolled": true
   },
   "outputs": [
    {
     "data": {
      "text/plain": [
       "array([0, 2, 4, 6, 8])"
      ]
     },
     "execution_count": 19,
     "metadata": {},
     "output_type": "execute_result"
    }
   ],
   "source": [
    "np.arange(0,10,2)"
   ]
  },
  {
   "cell_type": "markdown",
   "id": "f3fd1315",
   "metadata": {},
   "source": [
    "np.arrange() is the numpy equavilent to the standard .range() function used in python, but for matrices (presumably . . .)\n",
    "\n",
    "arange is spelled with one r, not arrange"
   ]
  },
  {
   "cell_type": "markdown",
   "id": "1be1ff0f",
   "metadata": {},
   "source": [
    "np.arange(low number - inclusive, high number - noninclusive, step size)"
   ]
  },
  {
   "cell_type": "code",
   "execution_count": 20,
   "id": "1773ed29",
   "metadata": {},
   "outputs": [
    {
     "data": {
      "text/plain": [
       "array([ 1,  4,  7, 10, 13])"
      ]
     },
     "execution_count": 20,
     "metadata": {},
     "output_type": "execute_result"
    }
   ],
   "source": [
    "np.arange(1,15,3)"
   ]
  },
  {
   "cell_type": "code",
   "execution_count": 21,
   "id": "6c712593",
   "metadata": {},
   "outputs": [
    {
     "data": {
      "text/plain": [
       "array([0., 0., 0., 0., 0.])"
      ]
     },
     "execution_count": 21,
     "metadata": {},
     "output_type": "execute_result"
    }
   ],
   "source": [
    "np.zeros(5)"
   ]
  },
  {
   "cell_type": "markdown",
   "id": "0a5f372d",
   "metadata": {},
   "source": [
    "this np.zeros() function produces a 1d vector which is filled in with 0. zeros corresponding to the value of n within np.zeros(n)"
   ]
  },
  {
   "cell_type": "markdown",
   "id": "101cc843",
   "metadata": {},
   "source": [
    "These are floats, not ints"
   ]
  },
  {
   "cell_type": "code",
   "execution_count": 24,
   "id": "785f6c5c",
   "metadata": {
    "scrolled": true
   },
   "outputs": [
    {
     "data": {
      "text/plain": [
       "array([[0., 0., 0., 0., 0.],\n",
       "       [0., 0., 0., 0., 0.],\n",
       "       [0., 0., 0., 0., 0.],\n",
       "       [0., 0., 0., 0., 0.],\n",
       "       [0., 0., 0., 0., 0.]])"
      ]
     },
     "execution_count": 24,
     "metadata": {},
     "output_type": "execute_result"
    }
   ],
   "source": [
    "np.zeros((5,5))"
   ]
  },
  {
   "cell_type": "markdown",
   "id": "9014333d",
   "metadata": {},
   "source": [
    "For whatever stupid reason, this has to be formatted as np.zeros((n,n)) rather than np.zeros(n,n). The later will give an error message. \n",
    "\n",
    "This function with the n,n tuple gives an array of 0. zeros"
   ]
  },
  {
   "cell_type": "code",
   "execution_count": 25,
   "id": "7a53c7f7",
   "metadata": {},
   "outputs": [
    {
     "data": {
      "text/plain": [
       "array([[0., 0., 0., 0., 0.],\n",
       "       [0., 0., 0., 0., 0.]])"
      ]
     },
     "execution_count": 25,
     "metadata": {},
     "output_type": "execute_result"
    }
   ],
   "source": [
    "np.zeros((2,5))"
   ]
  },
  {
   "cell_type": "code",
   "execution_count": 28,
   "id": "cc86c931",
   "metadata": {},
   "outputs": [
    {
     "data": {
      "text/plain": [
       "array([[1., 1.],\n",
       "       [1., 1.],\n",
       "       [1., 1.],\n",
       "       [1., 1.],\n",
       "       [1., 1.]])"
      ]
     },
     "execution_count": 28,
     "metadata": {},
     "output_type": "execute_result"
    }
   ],
   "source": [
    "np.ones((5,2))"
   ]
  },
  {
   "cell_type": "code",
   "execution_count": 31,
   "id": "c1d6f6ed",
   "metadata": {},
   "outputs": [
    {
     "data": {
      "text/plain": [
       "array([ 0.,  5., 10.])"
      ]
     },
     "execution_count": 31,
     "metadata": {},
     "output_type": "execute_result"
    }
   ],
   "source": [
    "np.linspace(0,10,3)"
   ]
  },
  {
   "cell_type": "markdown",
   "id": "9f13fd06",
   "metadata": {},
   "source": [
    "If you know the step size required, use np.arange()\n",
    "\n",
    "If you know the number of steps required, use np.linspace()\n",
    "\n",
    "\n",
    "This is not the same as np.arange(), because it takes the total number of values desired as the third paramater, unlike np.arange() which takes the stepsize as the third paramater. \n",
    "\n",
    "i.e. \n",
    "np.linspace(lower value, upper value, total number of values)\n",
    "\n",
    "np.arange(lower value, upper value, step size)\n",
    "\n",
    "Whether you use one or the other depends on whether you know the step size required or the number of steps required\n"
   ]
  },
  {
   "cell_type": "code",
   "execution_count": 32,
   "id": "597e4322",
   "metadata": {},
   "outputs": [
    {
     "data": {
      "text/plain": [
       "array([2., 4., 6., 8.])"
      ]
     },
     "execution_count": 32,
     "metadata": {},
     "output_type": "execute_result"
    }
   ],
   "source": [
    "np.linspace(2,8,4)"
   ]
  },
  {
   "cell_type": "markdown",
   "id": "356aeb40",
   "metadata": {},
   "source": [
    "Annoyingly, np.linspace() _includes_ the final number in the series in the syntax, unline np.arrange\n",
    "\n",
    "i.e. np.linspace(0,10,11) will be evenly spaced integers includinng both *0* and *10*"
   ]
  },
  {
   "cell_type": "code",
   "execution_count": 42,
   "id": "4aafeaba",
   "metadata": {},
   "outputs": [
    {
     "data": {
      "text/plain": [
       "11"
      ]
     },
     "execution_count": 42,
     "metadata": {},
     "output_type": "execute_result"
    }
   ],
   "source": [
    "np.linspace(0,10,11)"
   ]
  },
  {
   "cell_type": "code",
   "execution_count": 36,
   "id": "bb80befa",
   "metadata": {},
   "outputs": [
    {
     "data": {
      "text/plain": [
       "array([ 0.        ,  1.11111111,  2.22222222,  3.33333333,  4.44444444,\n",
       "        5.55555556,  6.66666667,  7.77777778,  8.88888889, 10.        ])"
      ]
     },
     "execution_count": 36,
     "metadata": {},
     "output_type": "execute_result"
    }
   ],
   "source": [
    "np.linspace(0,10,10)"
   ]
  },
  {
   "cell_type": "markdown",
   "id": "b52ad999",
   "metadata": {},
   "source": [
    "np.linspace() is short for _linearly spaced_"
   ]
  },
  {
   "cell_type": "code",
   "execution_count": 43,
   "id": "c0b80638",
   "metadata": {},
   "outputs": [
    {
     "data": {
      "text/plain": [
       "11"
      ]
     },
     "execution_count": 43,
     "metadata": {},
     "output_type": "execute_result"
    }
   ],
   "source": [
    "len(np.linspace(0,10,11))"
   ]
  },
  {
   "cell_type": "code",
   "execution_count": 49,
   "id": "9ef93c32",
   "metadata": {},
   "outputs": [
    {
     "data": {
      "text/plain": [
       "array([[1., 0., 0., 0., 0., 0.],\n",
       "       [0., 1., 0., 0., 0., 0.],\n",
       "       [0., 0., 1., 0., 0., 0.],\n",
       "       [0., 0., 0., 1., 0., 0.],\n",
       "       [0., 0., 0., 0., 1., 0.],\n",
       "       [0., 0., 0., 0., 0., 1.]])"
      ]
     },
     "execution_count": 49,
     "metadata": {},
     "output_type": "execute_result"
    }
   ],
   "source": [
    "np.eye(6)"
   ]
  },
  {
   "cell_type": "markdown",
   "id": "56993b27",
   "metadata": {},
   "source": [
    "Aparently this is commonly used in linear algebra. It produces a square n-sided matrix of 0. with a line of 1. along the diagonal."
   ]
  },
  {
   "cell_type": "code",
   "execution_count": 54,
   "id": "f52f5e15",
   "metadata": {},
   "outputs": [
    {
     "data": {
      "text/plain": [
       "array([0.79384519])"
      ]
     },
     "execution_count": 54,
     "metadata": {},
     "output_type": "execute_result"
    }
   ],
   "source": [
    "np.random.rand(1)"
   ]
  },
  {
   "cell_type": "markdown",
   "id": "5b642eb9",
   "metadata": {},
   "source": [
    "This produces a random number between [0,1) i.e between 0 and 1, where 0 is inclusive and 1 is exclusive"
   ]
  },
  {
   "cell_type": "code",
   "execution_count": 56,
   "id": "530e66d8",
   "metadata": {},
   "outputs": [
    {
     "data": {
      "text/plain": [
       "array([[0.5759339 , 0.08465138],\n",
       "       [0.50353962, 0.08526858],\n",
       "       [0.13822949, 0.76050501],\n",
       "       [0.47589133, 0.31688459],\n",
       "       [0.22364396, 0.96721005]])"
      ]
     },
     "execution_count": 56,
     "metadata": {},
     "output_type": "execute_result"
    }
   ],
   "source": [
    "np.random.rand(5,2)"
   ]
  },
  {
   "cell_type": "markdown",
   "id": "c04915b9",
   "metadata": {},
   "source": [
    "This produces a shape with 5 rows and 2 collumns. The range is still [0,1)"
   ]
  },
  {
   "cell_type": "code",
   "execution_count": 57,
   "id": "83101e2f",
   "metadata": {},
   "outputs": [
    {
     "data": {
      "text/plain": [
       "array([[ 0.12753766,  2.16292158],\n",
       "       [-1.93995695, -1.19030121]])"
      ]
     },
     "execution_count": 57,
     "metadata": {},
     "output_type": "execute_result"
    }
   ],
   "source": [
    "np.random.randn(2,2)"
   ]
  },
  {
   "cell_type": "markdown",
   "id": "4e084879",
   "metadata": {},
   "source": [
    "this gives outputs based on a \"standard normal\" distribution (bell-curve), where the mean is 0 and the range is [-x,x]\n",
    "\n",
    "Numbers closest to 0 are most likely, extremes near +- x are the least likely"
   ]
  },
  {
   "cell_type": "markdown",
   "id": "0486fe4b",
   "metadata": {},
   "source": [
    "What is the range of this? Not sure . . . \n",
    "\n",
    "np.random.randn(rows,collumns)"
   ]
  },
  {
   "cell_type": "code",
   "execution_count": 62,
   "id": "fcdd55de",
   "metadata": {},
   "outputs": [
    {
     "data": {
      "text/plain": [
       "7"
      ]
     },
     "execution_count": 62,
     "metadata": {},
     "output_type": "execute_result"
    }
   ],
   "source": [
    "np.random.randint(0,10)"
   ]
  },
  {
   "cell_type": "markdown",
   "id": "069abdb4",
   "metadata": {},
   "source": [
    "np.random.randint(lower range inclusive, upper range exclusive) draws numbers uniformly, not along normal curve. With no third paramater, it gives 1 output"
   ]
  },
  {
   "cell_type": "code",
   "execution_count": 65,
   "id": "6e00513a",
   "metadata": {},
   "outputs": [
    {
     "data": {
      "text/plain": [
       "array([[9, 9, 0, 1, 8],\n",
       "       [1, 8, 4, 7, 8]])"
      ]
     },
     "execution_count": 65,
     "metadata": {},
     "output_type": "execute_result"
    }
   ],
   "source": [
    "np.random.randint(0,10,(2,5))"
   ]
  },
  {
   "cell_type": "markdown",
   "id": "8dbc4c0c",
   "metadata": {},
   "source": [
    "You can set the third paramater to output an array of random numbers"
   ]
  },
  {
   "cell_type": "code",
   "execution_count": 67,
   "id": "65052b23",
   "metadata": {},
   "outputs": [
    {
     "data": {
      "text/plain": [
       "array([0.37454012, 0.95071431, 0.73199394, 0.59865848])"
      ]
     },
     "execution_count": 67,
     "metadata": {},
     "output_type": "execute_result"
    }
   ],
   "source": [
    "np.random.seed(42)\n",
    "np.random.rand(4)"
   ]
  },
  {
   "cell_type": "markdown",
   "id": "2f8cd724",
   "metadata": {},
   "source": [
    "make sure to run these in the same collumn."
   ]
  },
  {
   "cell_type": "code",
   "execution_count": 68,
   "id": "7136ced6",
   "metadata": {},
   "outputs": [
    {
     "data": {
      "text/plain": [
       "array([0.37454012, 0.95071431, 0.73199394, 0.59865848])"
      ]
     },
     "execution_count": 68,
     "metadata": {},
     "output_type": "execute_result"
    }
   ],
   "source": [
    "np.random.seed(42)\n",
    "np.random.rand(4)"
   ]
  },
  {
   "cell_type": "markdown",
   "id": "aa0d0836",
   "metadata": {},
   "source": [
    "You will get the same numbers every time using seed #42, similar to how pi is an irrational number with a definite value"
   ]
  },
  {
   "cell_type": "code",
   "execution_count": 69,
   "id": "4d60fd59",
   "metadata": {},
   "outputs": [
    {
     "data": {
      "text/plain": [
       "array([0.25092362, 0.04609582, 0.67681624, 0.04346949])"
      ]
     },
     "execution_count": 69,
     "metadata": {},
     "output_type": "execute_result"
    }
   ],
   "source": [
    "np.random.seed(41)\n",
    "np.random.rand(4)"
   ]
  },
  {
   "cell_type": "code",
   "execution_count": 70,
   "id": "4406abb0",
   "metadata": {},
   "outputs": [],
   "source": [
    "arr = np.arange(0,25)"
   ]
  },
  {
   "cell_type": "code",
   "execution_count": 71,
   "id": "13d495e4",
   "metadata": {},
   "outputs": [
    {
     "data": {
      "text/plain": [
       "array([ 0,  1,  2,  3,  4,  5,  6,  7,  8,  9, 10, 11, 12, 13, 14, 15, 16,\n",
       "       17, 18, 19, 20, 21, 22, 23, 24])"
      ]
     },
     "execution_count": 71,
     "metadata": {},
     "output_type": "execute_result"
    }
   ],
   "source": [
    "arr"
   ]
  },
  {
   "cell_type": "code",
   "execution_count": 72,
   "id": "875c7ed8",
   "metadata": {},
   "outputs": [
    {
     "data": {
      "text/plain": [
       "array([[ 0,  1,  2,  3,  4],\n",
       "       [ 5,  6,  7,  8,  9],\n",
       "       [10, 11, 12, 13, 14],\n",
       "       [15, 16, 17, 18, 19],\n",
       "       [20, 21, 22, 23, 24]])"
      ]
     },
     "execution_count": 72,
     "metadata": {},
     "output_type": "execute_result"
    }
   ],
   "source": [
    "arr.reshape(5,5)"
   ]
  },
  {
   "cell_type": "markdown",
   "id": "567b770a",
   "metadata": {},
   "source": [
    "Taking a 1 by 25 vector and turning it into a 5 by 5 array. Note, you cannot use arr.reshape(5,4) etc. because the data cannot be made to fit into that size matrix without changing its values"
   ]
  },
  {
   "cell_type": "code",
   "execution_count": 82,
   "id": "4444b4fd",
   "metadata": {},
   "outputs": [
    {
     "data": {
      "text/plain": [
       "array([ 2,  1,  5,  3, 10,  2, 10,  4,  1,  2])"
      ]
     },
     "execution_count": 82,
     "metadata": {},
     "output_type": "execute_result"
    }
   ],
   "source": [
    "randarr = np.random.randint(0,11,10)\n",
    "randarr"
   ]
  },
  {
   "cell_type": "markdown",
   "id": "fd005ba3",
   "metadata": {},
   "source": [
    "10 random integers from 0 to 10, since 11 is not inclusive"
   ]
  },
  {
   "cell_type": "code",
   "execution_count": 87,
   "id": "6c68a01d",
   "metadata": {},
   "outputs": [
    {
     "data": {
      "text/plain": [
       "10"
      ]
     },
     "execution_count": 87,
     "metadata": {},
     "output_type": "execute_result"
    }
   ],
   "source": [
    "randarr.max()"
   ]
  },
  {
   "cell_type": "code",
   "execution_count": 85,
   "id": "c97d7182",
   "metadata": {},
   "outputs": [
    {
     "data": {
      "text/plain": [
       "1"
      ]
     },
     "execution_count": 85,
     "metadata": {},
     "output_type": "execute_result"
    }
   ],
   "source": [
    "randarr.min()"
   ]
  },
  {
   "cell_type": "code",
   "execution_count": 88,
   "id": "5c3a99e0",
   "metadata": {},
   "outputs": [
    {
     "data": {
      "text/plain": [
       "4"
      ]
     },
     "execution_count": 88,
     "metadata": {},
     "output_type": "execute_result"
    }
   ],
   "source": [
    "randarr.argmax()"
   ]
  },
  {
   "cell_type": "markdown",
   "id": "c07c915b",
   "metadata": {},
   "source": [
    "Finds the index value corresponding to the max. Remember, 0 is the first index value"
   ]
  },
  {
   "cell_type": "code",
   "execution_count": 89,
   "id": "81d7d9f4",
   "metadata": {},
   "outputs": [
    {
     "data": {
      "text/plain": [
       "dtype('int32')"
      ]
     },
     "execution_count": 89,
     "metadata": {},
     "output_type": "execute_result"
    }
   ],
   "source": [
    "randarr.dtype"
   ]
  },
  {
   "cell_type": "code",
   "execution_count": 102,
   "id": "6a1d1e7e",
   "metadata": {},
   "outputs": [
    {
     "data": {
      "text/plain": [
       "(1, 25)"
      ]
     },
     "execution_count": 102,
     "metadata": {},
     "output_type": "execute_result"
    }
   ],
   "source": [
    "arr.shape"
   ]
  },
  {
   "cell_type": "code",
   "execution_count": 103,
   "id": "852a348f",
   "metadata": {},
   "outputs": [],
   "source": [
    "arr = arr.reshape(5,5)"
   ]
  },
  {
   "cell_type": "code",
   "execution_count": 104,
   "id": "09b4c0ca",
   "metadata": {},
   "outputs": [
    {
     "data": {
      "text/plain": [
       "array([[ 0,  1,  2,  3,  4],\n",
       "       [ 5,  6,  7,  8,  9],\n",
       "       [10, 11, 12, 13, 14],\n",
       "       [15, 16, 17, 18, 19],\n",
       "       [20, 21, 22, 23, 24]])"
      ]
     },
     "execution_count": 104,
     "metadata": {},
     "output_type": "execute_result"
    }
   ],
   "source": [
    "arr"
   ]
  },
  {
   "cell_type": "code",
   "execution_count": 105,
   "id": "e25cbd36",
   "metadata": {},
   "outputs": [
    {
     "data": {
      "text/plain": [
       "(5, 5)"
      ]
     },
     "execution_count": 105,
     "metadata": {},
     "output_type": "execute_result"
    }
   ],
   "source": [
    "arr.shape"
   ]
  },
  {
   "cell_type": "code",
   "execution_count": 110,
   "id": "7d23234a",
   "metadata": {},
   "outputs": [
    {
     "data": {
      "text/plain": [
       "array([ 0. ,  0.1,  0.2,  0.3,  0.4,  0.5,  0.6,  0.7,  0.8,  0.9,  1. ,\n",
       "        1.1,  1.2,  1.3,  1.4,  1.5,  1.6,  1.7,  1.8,  1.9,  2. ,  2.1,\n",
       "        2.2,  2.3,  2.4,  2.5,  2.6,  2.7,  2.8,  2.9,  3. ,  3.1,  3.2,\n",
       "        3.3,  3.4,  3.5,  3.6,  3.7,  3.8,  3.9,  4. ,  4.1,  4.2,  4.3,\n",
       "        4.4,  4.5,  4.6,  4.7,  4.8,  4.9,  5. ,  5.1,  5.2,  5.3,  5.4,\n",
       "        5.5,  5.6,  5.7,  5.8,  5.9,  6. ,  6.1,  6.2,  6.3,  6.4,  6.5,\n",
       "        6.6,  6.7,  6.8,  6.9,  7. ,  7.1,  7.2,  7.3,  7.4,  7.5,  7.6,\n",
       "        7.7,  7.8,  7.9,  8. ,  8.1,  8.2,  8.3,  8.4,  8.5,  8.6,  8.7,\n",
       "        8.8,  8.9,  9. ,  9.1,  9.2,  9.3,  9.4,  9.5,  9.6,  9.7,  9.8,\n",
       "        9.9, 10. ])"
      ]
     },
     "execution_count": 110,
     "metadata": {},
     "output_type": "execute_result"
    }
   ],
   "source": [
    "myarray = np.linspace(0,10,101)\n",
    "myarray"
   ]
  },
  {
   "cell_type": "code",
   "execution_count": null,
   "id": "c40b088e",
   "metadata": {},
   "outputs": [],
   "source": []
  }
 ],
 "metadata": {
  "kernelspec": {
   "display_name": "Python 3 (ipykernel)",
   "language": "python",
   "name": "python3"
  },
  "language_info": {
   "codemirror_mode": {
    "name": "ipython",
    "version": 3
   },
   "file_extension": ".py",
   "mimetype": "text/x-python",
   "name": "python",
   "nbconvert_exporter": "python",
   "pygments_lexer": "ipython3",
   "version": "3.9.12"
  }
 },
 "nbformat": 4,
 "nbformat_minor": 5
}
