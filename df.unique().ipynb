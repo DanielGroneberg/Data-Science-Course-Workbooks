{
 "cells": [
  {
   "cell_type": "code",
   "execution_count": 10,
   "id": "b583e302",
   "metadata": {},
   "outputs": [],
   "source": [
    "import numpy as np\n",
    "import pandas as pd\n",
    "df = pd.read_csv(r'C:\\Users\\User\\Desktop\\Udemy Data Science Course Resources\\03-Pandas\\Sales_Funnel_CRM.csv')"
   ]
  },
  {
   "cell_type": "code",
   "execution_count": 11,
   "id": "3fae53dc",
   "metadata": {},
   "outputs": [
    {
     "data": {
      "text/html": [
       "<div>\n",
       "<style scoped>\n",
       "    .dataframe tbody tr th:only-of-type {\n",
       "        vertical-align: middle;\n",
       "    }\n",
       "\n",
       "    .dataframe tbody tr th {\n",
       "        vertical-align: top;\n",
       "    }\n",
       "\n",
       "    .dataframe thead th {\n",
       "        text-align: right;\n",
       "    }\n",
       "</style>\n",
       "<table border=\"1\" class=\"dataframe\">\n",
       "  <thead>\n",
       "    <tr style=\"text-align: right;\">\n",
       "      <th></th>\n",
       "      <th>Account Number</th>\n",
       "      <th>Company</th>\n",
       "      <th>Contact</th>\n",
       "      <th>Account Manager</th>\n",
       "      <th>Product</th>\n",
       "      <th>Licenses</th>\n",
       "      <th>Sale Price</th>\n",
       "      <th>Status</th>\n",
       "    </tr>\n",
       "  </thead>\n",
       "  <tbody>\n",
       "    <tr>\n",
       "      <th>0</th>\n",
       "      <td>2123398</td>\n",
       "      <td>Google</td>\n",
       "      <td>Larry Pager</td>\n",
       "      <td>Edward Thorp</td>\n",
       "      <td>Analytics</td>\n",
       "      <td>150</td>\n",
       "      <td>2100000</td>\n",
       "      <td>Presented</td>\n",
       "    </tr>\n",
       "    <tr>\n",
       "      <th>1</th>\n",
       "      <td>2123398</td>\n",
       "      <td>Google</td>\n",
       "      <td>Larry Pager</td>\n",
       "      <td>Edward Thorp</td>\n",
       "      <td>Prediction</td>\n",
       "      <td>150</td>\n",
       "      <td>700000</td>\n",
       "      <td>Presented</td>\n",
       "    </tr>\n",
       "    <tr>\n",
       "      <th>2</th>\n",
       "      <td>2123398</td>\n",
       "      <td>Google</td>\n",
       "      <td>Larry Pager</td>\n",
       "      <td>Edward Thorp</td>\n",
       "      <td>Tracking</td>\n",
       "      <td>300</td>\n",
       "      <td>350000</td>\n",
       "      <td>Under Review</td>\n",
       "    </tr>\n",
       "    <tr>\n",
       "      <th>3</th>\n",
       "      <td>2192650</td>\n",
       "      <td>BOBO</td>\n",
       "      <td>Larry Pager</td>\n",
       "      <td>Edward Thorp</td>\n",
       "      <td>Analytics</td>\n",
       "      <td>150</td>\n",
       "      <td>2450000</td>\n",
       "      <td>Lost</td>\n",
       "    </tr>\n",
       "    <tr>\n",
       "      <th>4</th>\n",
       "      <td>420496</td>\n",
       "      <td>IKEA</td>\n",
       "      <td>Elon Tusk</td>\n",
       "      <td>Edward Thorp</td>\n",
       "      <td>Analytics</td>\n",
       "      <td>300</td>\n",
       "      <td>4550000</td>\n",
       "      <td>Won</td>\n",
       "    </tr>\n",
       "  </tbody>\n",
       "</table>\n",
       "</div>"
      ],
      "text/plain": [
       "   Account Number  Company      Contact Account Manager     Product  Licenses  \\\n",
       "0         2123398   Google  Larry Pager    Edward Thorp   Analytics       150   \n",
       "1         2123398   Google  Larry Pager    Edward Thorp  Prediction       150   \n",
       "2         2123398   Google  Larry Pager    Edward Thorp    Tracking       300   \n",
       "3         2192650     BOBO  Larry Pager    Edward Thorp   Analytics       150   \n",
       "4          420496     IKEA    Elon Tusk    Edward Thorp   Analytics       300   \n",
       "\n",
       "   Sale Price        Status  \n",
       "0     2100000     Presented  \n",
       "1      700000     Presented  \n",
       "2      350000  Under Review  \n",
       "3     2450000          Lost  \n",
       "4     4550000           Won  "
      ]
     },
     "execution_count": 11,
     "metadata": {},
     "output_type": "execute_result"
    }
   ],
   "source": [
    "df.head()"
   ]
  },
  {
   "cell_type": "code",
   "execution_count": 18,
   "id": "0bca5900",
   "metadata": {},
   "outputs": [
    {
     "data": {
      "text/plain": [
       "array([' Google', 'BOBO', 'IKEA', 'Tesla Inc.', 'Microsoft', 'Walmart',\n",
       "       'Apple', 'Exxon Mobile', 'ATT', 'CVS Health', 'Salesforce',\n",
       "       'Cisco'], dtype=object)"
      ]
     },
     "execution_count": 18,
     "metadata": {},
     "output_type": "execute_result"
    }
   ],
   "source": [
    "df['Company'].unique()"
   ]
  },
  {
   "cell_type": "code",
   "execution_count": null,
   "id": "1acdff0e",
   "metadata": {},
   "outputs": [],
   "source": []
  }
 ],
 "metadata": {
  "kernelspec": {
   "display_name": "Python 3 (ipykernel)",
   "language": "python",
   "name": "python3"
  },
  "language_info": {
   "codemirror_mode": {
    "name": "ipython",
    "version": 3
   },
   "file_extension": ".py",
   "mimetype": "text/x-python",
   "name": "python",
   "nbconvert_exporter": "python",
   "pygments_lexer": "ipython3",
   "version": "3.9.12"
  }
 },
 "nbformat": 4,
 "nbformat_minor": 5
}
